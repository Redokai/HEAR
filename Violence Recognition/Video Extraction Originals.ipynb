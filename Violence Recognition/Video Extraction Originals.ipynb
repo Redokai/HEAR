{
 "cells": [
  {
   "cell_type": "markdown",
   "metadata": {},
   "source": [
    "### Pré processador de vídeos\n",
    "## Importação"
   ]
  },
  {
   "cell_type": "code",
   "execution_count": 1,
   "metadata": {},
   "outputs": [],
   "source": [
    "import cv2\n",
    "import os\n",
    "import math\n",
    "import csv\n",
    "import pandas as pd\n",
    "from shutil import copyfile"
   ]
  },
  {
   "cell_type": "code",
   "execution_count": 2,
   "metadata": {},
   "outputs": [],
   "source": [
    "pos_intervals = pd.read_csv('positive_pred_intervals.csv')\n",
    "pos_intervals = list(pos_intervals['intervals'].values)\n",
    "pos_vids = set([f.split('.')[0] for f in pos_intervals])\n",
    "video_folders = ['..\\\\Positivos\\\\','..\\\\Negativos\\\\']\n",
    "output_folder = '..\\\\Output\\\\'\n",
    "accepted_video_formats = ['mp4']\n",
    "accepted_img_formats = ['jpg']\n",
    "frames_per_split = 30\n",
    "superposition = 0.15\n",
    "drop_frame_rate = 0.0 \n",
    "height_output_format = 600\n",
    "width_output_format = 800\n",
    "desired_output_format = (width_output_format, height_output_format)"
   ]
  },
  {
   "cell_type": "code",
   "execution_count": 8,
   "metadata": {},
   "outputs": [
    {
     "data": {
      "text/plain": [
       "{'004_YOU_REA_FIS_PSI',\n",
       " '007_YOU_FIC_FIS_PSI',\n",
       " '008_YOU_FIC_FIS_PSI',\n",
       " '009_YOU_FIC_FIS_PSI',\n",
       " '010_YOU_FIC_FIS_PSI',\n",
       " '011_YOU_FIC_FIS_PSI',\n",
       " '013_YOU_FIC_FIS_PSI',\n",
       " '014_YOU_FIC_FIS_PSI',\n",
       " '016_YOU_FIC_FIS_PSI',\n",
       " '019_GLO_FIC_NEG',\n",
       " '019_YOU_FIC_FIS_PSI',\n",
       " '020_YOU_FIC_FIS_PSI',\n",
       " '021_YOU_FIC_FIS_PSI_PAT',\n",
       " '022_YOU_FIC_FIS_PSI',\n",
       " '024_YOU_FIC_FIS_SEX',\n",
       " '025_YOU_FIC_FIS_PSI',\n",
       " '027_YOU_FIC_FIS_PSI_SEX',\n",
       " '028_YOU_FIC_FIS_PSI',\n",
       " '029_YOU_FIC_FIS_PSI',\n",
       " '032_YOU_FIC_FIS_PSI',\n",
       " '034_YOU_FIC_FIS_PSI',\n",
       " '035_YOU_FIC_FIS_PSI',\n",
       " '036_YOU_FIC_FIS_PSI',\n",
       " '039_YOU_FIC_FIS_PSI_PAT',\n",
       " '041_YOU_FIC_FIS_PSI',\n",
       " '042_YOU_FIC_FIS_PSI',\n",
       " '043_GLO_FIC_FIS_PIS',\n",
       " '044_GLO_FIC_SEX'}"
      ]
     },
     "execution_count": 8,
     "metadata": {},
     "output_type": "execute_result"
    }
   ],
   "source": [
    "pos_vids"
   ]
  },
  {
   "cell_type": "code",
   "execution_count": 3,
   "metadata": {},
   "outputs": [],
   "source": [
    "dataset = ['002_GLO_FIC_NEG', '004_YOU_REA_FIS_PSI']"
   ]
  },
  {
   "cell_type": "markdown",
   "metadata": {},
   "source": [
    "## Extração\n",
    "\n",
    "Funções responsáveis pela extração de quadros e tratamento inicial:\n",
    "\n",
    "def convert_video_to_frames(folder): Converte videos com os formatos aceitáveis (accepted_video_formats) em frames, salvando-os na pasta de saída (output_folder)\n",
    "\n",
    "def split_video(video_folder): Trata os vídeos com formatos aceitáveis (accepted_video_formats) na pasta de entrada (video_folder). Aplica o tratamento def drop_frames(frames, drop_rate) e só então divide o vídeo em n trechos, definidos pela quantidade total de quadros dividido pelo parâmetro frames_per_split. \n",
    "\n",
    "def extract_frames(file_path): Extrai todos os frames inclusos em um vídeo.\n",
    "\n",
    "def drop_frames(frames, drop_rate): Responsável por deixar o pacote de frames mais enxuto, eliminando entre-quadros que adicionam pouco valor à leitura de movimentos."
   ]
  },
  {
   "cell_type": "code",
   "execution_count": 7,
   "metadata": {},
   "outputs": [],
   "source": [
    "def convert_video_to_frames(video_folders):\n",
    "    for video_folder in video_folders:\n",
    "        files = os.listdir(video_folder)\n",
    "        for file in files:\n",
    "            file_extension = file.split('.')[-1]\n",
    "            if file_extension in accepted_video_formats:\n",
    "                try:\n",
    "                    file_path = video_folder+file\n",
    "                    file_output_folder = output_folder + file.replace(file_extension, '') + '\\\\'\n",
    "                    count = 0\n",
    "                    vidcap = cv2.VideoCapture(video_path)\n",
    "                    success,image = vidcap.read()\n",
    "                    mkdir(file_output_folder)\n",
    "                    while success:\n",
    "                        cv2.imwrite(file_output_folder + \"frame\" + str(count) + \".jpg\", image)\n",
    "                        count+=1\n",
    "                        success,image = vidcap.read()\n",
    "                except exc:\n",
    "                    continue\n",
    "                \n",
    "                \n",
    "def split_video(video_folders):\n",
    "    for video_folder in video_folders:\n",
    "        files = os.listdir(video_folder)\n",
    "        for file in files:\n",
    "            file_extension = file.split('.')[-1]\n",
    "            video_name = file.split('.')[0]\n",
    "            filename = file.replace(file_extension, '')\n",
    "            if file_extension in accepted_video_formats and video_name in pos_vids and video_name in dataset: #not in processed_vids:\n",
    "                print(filename)\n",
    "                file_path = video_folder+file\n",
    "                frames = extract_frames(file_path)\n",
    "                frames = drop_frames(frames, drop_frame_rate)\n",
    "                count=0\n",
    "                frames_len = len(frames)\n",
    "                split_count= int(math.ceil(len(frames)/frames_per_split))\n",
    "                for i in range(split_count):\n",
    "                    try:\n",
    "                        file_output_folder = output_folder + filename + \"\\\\\" + filename + '-' + str(i) + '\\\\Orig\\\\'\n",
    "                        mkdir(file_output_folder)\n",
    "                        current_frames = frames[:frames_per_split]\n",
    "                        frames = frames[math.floor(int(frames_per_split*(1-superposition))):]\n",
    "                        if len(current_frames) < frames_per_split/2:\n",
    "                            break\n",
    "                        for i in range(len(current_frames)):\n",
    "                            frame = current_frames[i]\n",
    "                            cv2.imwrite(file_output_folder + \"frame\" + str(i) + \".jpg\", frame)\n",
    "                    except:\n",
    "                        raise\n",
    "                    \n",
    "                    \n",
    "def extract_frames(file_path):\n",
    "    frames = []\n",
    "    cap = cv2.VideoCapture(file_path)\n",
    "    try:\n",
    "        while True:\n",
    "            success, frame = cap.read()\n",
    "            if success:\n",
    "                #frame = cv2.resize(frame, desired_output_format,  interpolation = cv2.INTER_CUBIC)\n",
    "                frames.append(frame)\n",
    "            else:\n",
    "                break\n",
    "    except:\n",
    "        raise\n",
    "    return frames\n",
    "\n",
    "def drop_frames(frames, drop_rate):\n",
    "    frames_len = len(frames)\n",
    "    output = []\n",
    "    step = 1.0\n",
    "    if drop_rate != 0:\n",
    "        step = 1.0/drop_rate\n",
    "    i = 0\n",
    "    while i < frames_len:\n",
    "        output.append(frames[round(i)])\n",
    "        i += step\n",
    "    return output\n",
    "\n",
    "def mkdir(path):\n",
    "    if not os.path.exists(path):\n",
    "        os.makedirs(path)\n"
   ]
  },
  {
   "cell_type": "code",
   "execution_count": 8,
   "metadata": {},
   "outputs": [
    {
     "name": "stdout",
     "output_type": "stream",
     "text": [
      "004_YOU_REA_FIS_PSI.\n"
     ]
    }
   ],
   "source": [
    "split_video(video_folders)"
   ]
  },
  {
   "cell_type": "code",
   "execution_count": 5,
   "metadata": {},
   "outputs": [],
   "source": [
    "processed_vids = [\n",
    "\"004_YOU_REA_FIS_PSI\"\n",
    ",\"007_YOU_FIC_FIS_PSI\"\n",
    ",\"008_YOU_FIC_FIS_PSI\"\n",
    ",\"009_YOU_FIC_FIS_PSI\"\n",
    ",\"010_YOU_FIC_FIS_PSI\"\n",
    ",\"011_YOU_FIC_FIS_PSI\"\n",
    ",\"013_YOU_FIC_FIS_PSI\"\n",
    ",\"014_YOU_FIC_FIS_PSI\"\n",
    ",\"015_YOU_FIC_FIS_PSI\"\n",
    ",\"016_YOU_FIC_FIS_PSI\"\n",
    ",\"017_YOU_FIC_FIS_PSI\"\n",
    ",\"019_GLO_FIC_NEG\"\n",
    ",\"019_YOU_FIC_FIS_PSI\"\n",
    ",\"020_GLO_FIC_NEG\"\n",
    ",\"020_YOU_FIC_FIS_PSI\"\n",
    ",\"021_YOU_FIC_FIS_PSI_PAT\"\n",
    ",\"022_YOU_FIC_FIS_PSI\"\n",
    ",\"024_YOU_FIC_FIS_SEX\"\n",
    ",\"025_YOU_FIC_FIS_PSI\"\n",
    ",\"026_YOU_FIC_FIS_SEX\"\n",
    ",\"027_YOU_FIC_FIS_PSI_SEX\"\n",
    ",\"028_YOU_FIC_FIS_PSI\"\n",
    ",\"029_YOU_FIC_FIS_PSI\"\n",
    ",\"032_YOU_FIC_FIS_PSI\"\n",
    ",\"034_YOU_FIC_FIS_PSI\"\n",
    "#,\"035_YOU_FIC_FIS_PSI\"\n",
    "#,\"036_YOU_FIC_FIS_PSI\"\n",
    "#,\"039_YOU_FIC_FIS_PSI_PAT\"\n",
    "#,\"040_YOU_FIC_NEG\"\n",
    "#,\"041_YOU_FIC_FIS_PSI\"\n",
    "#,\"042_YOU_FIC_FIS_PSI\"\n",
    "#,\"043_GLO_FIC_FIS_PIS\"\n",
    "#,\"044_GLO_FIC_SEX\"\n",
    "]\n"
   ]
  },
  {
   "cell_type": "markdown",
   "metadata": {},
   "source": [
    "Failures:\n",
    "\n",
    "011_YOU_FIC_FIS_PSI.\n",
    "021_YOU_FIC_FIS_PSI_PAT"
   ]
  },
  {
   "cell_type": "code",
   "execution_count": 10,
   "metadata": {},
   "outputs": [],
   "source": [
    "face_recog_folder = '..\\\\Face_recog\\\\'\n",
    "\n",
    "for interval in pos_intervals:\n",
    "    video = interval.split('.')[0]\n",
    "    if video not in processed_vids:\n",
    "        folder_path = output_folder + video + '\\\\' + interval + '\\\\Orig\\\\'\n",
    "        destiny_path = face_recog_folder + video + '\\\\' + interval + '\\\\'\n",
    "        mkdir(destiny_path)\n",
    "        files = [f for f in os.listdir(folder_path) if f.split('.')[-1] in accepted_img_formats]\n",
    "        for file in files:\n",
    "            copyfile(folder_path + file, destiny_path + file)"
   ]
  },
  {
   "cell_type": "code",
   "execution_count": 2,
   "metadata": {},
   "outputs": [
    {
     "data": {
      "text/plain": [
       "28"
      ]
     },
     "execution_count": 2,
     "metadata": {},
     "output_type": "execute_result"
    }
   ],
   "source": [
    "len(processed_vids)"
   ]
  },
  {
   "cell_type": "code",
   "execution_count": null,
   "metadata": {},
   "outputs": [],
   "source": []
  }
 ],
 "metadata": {
  "kernelspec": {
   "display_name": "Python 3",
   "language": "python",
   "name": "python3"
  },
  "language_info": {
   "codemirror_mode": {
    "name": "ipython",
    "version": 3
   },
   "file_extension": ".py",
   "mimetype": "text/x-python",
   "name": "python",
   "nbconvert_exporter": "python",
   "pygments_lexer": "ipython3",
   "version": "3.6.8"
  }
 },
 "nbformat": 4,
 "nbformat_minor": 4
}
