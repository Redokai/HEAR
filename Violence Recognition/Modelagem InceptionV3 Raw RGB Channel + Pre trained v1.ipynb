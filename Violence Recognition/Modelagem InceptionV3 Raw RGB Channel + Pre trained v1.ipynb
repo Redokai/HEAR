{
 "cells": [
  {
   "cell_type": "markdown",
   "metadata": {},
   "source": [
    "# Modelagem e arquitetura CNN\n",
    "\n",
    "## Modelo de canal único Raw RGB pré treinado InceptionV3 + IMAGENET (Top layers off)\n",
    "\n",
    "### Conteúdo\n",
    "\n",
    "- Ingestão\n",
    "- Pré processamento\n",
    "- Modelagem da rede\n",
    "- Treinamento\n",
    "- Teste\n",
    "- Validação\n",
    "- Resultados\n",
    "\n",
    "### Importações e parâmetros"
   ]
  },
  {
   "cell_type": "code",
   "execution_count": 1,
   "metadata": {},
   "outputs": [],
   "source": [
    "import os\n",
    "import matplotlib.pyplot as plt\n",
    "import seaborn as sns\n",
    "from sklearn.metrics import accuracy_score\n",
    "from sklearn.metrics import precision_score\n",
    "from sklearn.metrics import recall_score\n",
    "#os.environ[\"CUDA_VISIBLE_DEVICES\"] = \"-1\"\n",
    "import numpy as np\n",
    "import pandas as pd\n",
    "import cv2 as cv\n",
    "import matplotlib.pyplot as plt\n",
    "import tensorflow as tf\n",
    "#import tensorflow_datasets as tfds\n",
    "#tfds.disable_progress_bar()\n",
    "\n",
    "videos_table_path = 'manual_frame_classification.csv'\n",
    "videos_table_path_validation = 'manual_frame_validation.csv'\n",
    "max_positive_cases = 5000\n",
    "max_validation_cases = 10000\n",
    "preprocess_training_test = False\n",
    "preprocess_validation = True"
   ]
  },
  {
   "cell_type": "markdown",
   "metadata": {},
   "source": [
    "### Ingestão"
   ]
  },
  {
   "cell_type": "code",
   "execution_count": 2,
   "metadata": {},
   "outputs": [],
   "source": [
    "def decode_img(img):\n",
    "    img = tf.image.decode_jpeg(img, channels=3)\n",
    "    img = tf.image.convert_image_dtype(img, tf.float32)\n",
    "    return img\n",
    "\n",
    "def process_path(file_path):\n",
    "    img = tf.io.read_file(file_path, )\n",
    "    img = decode_img(img)\n",
    "    return img\n",
    "\n",
    "def process_label(label):\n",
    "    return label == 'POS'\n",
    "\n",
    "def process_dataframe(dataframe):\n",
    "    xs = []\n",
    "    ys = []\n",
    "    with tf.device('/cpu:0'):\n",
    "        for i,row in dataframe.iterrows():\n",
    "            path = row['path']\n",
    "            label = row['violence']\n",
    "            xs.append(process_path(path))\n",
    "            ys.append(process_label(label))\n",
    "        return tf.data.Dataset.from_tensor_slices((xs,ys))"
   ]
  },
  {
   "cell_type": "code",
   "execution_count": 3,
   "metadata": {},
   "outputs": [
    {
     "name": "stderr",
     "output_type": "stream",
     "text": [
      "c:\\users\\red\\appdata\\local\\programs\\python\\python36\\lib\\site-packages\\IPython\\core\\interactiveshell.py:3051: DtypeWarning: Columns (6,7) have mixed types. Specify dtype option on import or set low_memory=False.\n",
      "  interactivity=interactivity, compiler=compiler, result=result)\n"
     ]
    },
    {
     "name": "stdout",
     "output_type": "stream",
     "text": [
      "Train dataset cases :7000\n",
      "Test dataset cases :17895\n",
      "Validation dataset cases :40650\n"
     ]
    }
   ],
   "source": [
    "#IMPORT\n",
    "frames_df = pd.read_csv(videos_table_path, sep=';', index_col=0)\n",
    "video_list = frames_df[frames_df['load'] == 'X']['video'].unique()\n",
    "\n",
    "#SEGREGATE\n",
    "msk = np.random.rand(len(video_list)) < 0.9\n",
    "train_test_videos = video_list[msk]\n",
    "validation_videos =  video_list[~msk]\n",
    "train_test_df = frames_df.loc[frames_df['video'].isin(train_test_videos)]\n",
    "validation_df = frames_df.loc[frames_df['video'].isin(validation_videos)]\n",
    "\n",
    "neg_df = train_test_df[train_test_df['violence'] == 'NEG'][['path','violence']]\n",
    "pos_df = train_test_df[train_test_df['violence'] == 'POS'][['path','violence']]\n",
    "neg_len = len(neg_df)\n",
    "pos_len = len(pos_df)\n",
    "\n",
    "#SHUFFLE\n",
    "neg_df = neg_df.sample(frac=1).reset_index(drop=True)\n",
    "pos_df = pos_df.sample(frac=1).reset_index(drop=True)\n",
    "validation_df = validation_df.sample(frac=1).reset_index(drop=True)\n",
    "\n",
    "#RESIZE\n",
    "train_test_size = min([len(pos_df),max_positive_cases])\n",
    "train_size = int(0.7*train_test_size)\n",
    "test_size = train_test_size - train_size\n",
    "\n",
    "pos_train_df = pos_df.head(train_size)\n",
    "pos_test_df = pos_df.tail(test_size)\n",
    "\n",
    "neg_train_df = neg_df.head(train_size)\n",
    "neg_test_df = neg_df.tail(int(test_size*(neg_len/pos_len)))\n",
    "                          \n",
    "#MERGE\n",
    "merged_train_df = pd.concat([pos_train_df, neg_train_df], ignore_index=True)\n",
    "merged_test_df = pd.concat([pos_test_df, neg_test_df], ignore_index=True)\n",
    "train_length = len(merged_train_df)\n",
    "test_length = len(merged_test_df)\n",
    "validation_length = len(validation_df)\n",
    "\n",
    "print('Train dataset cases :' + str(train_length))\n",
    "print('Test dataset cases :' + str(test_length))\n",
    "print('Validation dataset cases :' + str(validation_length))"
   ]
  },
  {
   "cell_type": "markdown",
   "metadata": {},
   "source": [
    "### Pré processamento"
   ]
  },
  {
   "cell_type": "markdown",
   "metadata": {},
   "source": [
    "### Observações\n",
    "\n",
    "Dataset claramente tendencioso (biased), será necessário tratar o desbalanceamento na fase de préprocessamento a fim de manter uma RN bem treinada.\n",
    "\n",
    "#### Tarefas\n",
    "- Separação do dataset em:\n",
    "    - Dataset de treinamento (70%)\n",
    "    - Dataset de teste (30%)\n",
    "\n",
    "    \n",
    "OBS: Todos os datasets devem estar balanceados! Portanto a medida balizadora será o gargalo atual: número de casos positivos. "
   ]
  },
  {
   "cell_type": "code",
   "execution_count": 4,
   "metadata": {},
   "outputs": [],
   "source": [
    "if preprocess_validation:\n",
    "    validation_df = pd.read_csv('validation_shuffled_df_inception.csv', sep=';')\n",
    "    validation_length = len(validation_df)\n",
    "\n",
    "#RESHUFLE\n",
    "if preprocess_training_test:\n",
    "    shuffled_train_df = merged_train_df.sample(frac=1).reset_index(drop=True)\n",
    "    shuffled_test_df = merged_test_df.sample(frac=2*test_size/test_length).reset_index(drop=True)\n",
    "\n",
    "if preprocess_validation:\n",
    "    validation_shuffled_df = validation_df.sample(frac=min(1,max_validation_cases/validation_length)).reset_index(drop=True)\n",
    "    validation_length = len(validation_shuffled_df)\n",
    "\n",
    "#PROCESS\n",
    "if preprocess_training_test:\n",
    "    train_ds = process_dataframe(shuffled_train_df)\n",
    "    test_ds = process_dataframe(shuffled_train_df)\n",
    "if preprocess_validation:\n",
    "    validation_ds = process_dataframe(validation_shuffled_df)\n",
    "\n",
    "#print('Train DataFrame size: ' + str(int(train_length)))\n",
    "#print('Test DataFrame size: ' + str(int(test_length*2*test_size/test_length)))\n",
    "#print('Validation DataFrame size: ' + str(int(validation_length)))\n",
    "\n",
    "### Clear unused data\n",
    "frames_df = None\n",
    "neg_df = None\n",
    "pos_df = None\n",
    "#merged_df = None\n",
    "shuffled_df = None\n",
    "complete_dataset = None"
   ]
  },
  {
   "cell_type": "code",
   "execution_count": 16,
   "metadata": {},
   "outputs": [],
   "source": [
    "validation_df.to_csv('validation_shuffled_df_inception.csv', sep=';')"
   ]
  },
  {
   "cell_type": "code",
   "execution_count": 6,
   "metadata": {},
   "outputs": [],
   "source": [
    "train_batches = train_ds.shuffle(100).batch(50)"
   ]
  },
  {
   "cell_type": "markdown",
   "metadata": {},
   "source": [
    "### Ponto de execução para treinamento\n",
    "\n",
    "Caso queira seguir com a criação do modelo executar os blocos a seguir"
   ]
  },
  {
   "cell_type": "markdown",
   "metadata": {},
   "source": [
    "### Modelagem da CNN"
   ]
  },
  {
   "cell_type": "code",
   "execution_count": 7,
   "metadata": {},
   "outputs": [],
   "source": [
    "IMG_SIZE = 224\n",
    "IMG_SHAPE = (IMG_SIZE, IMG_SIZE, 3)\n",
    "base_model = tf.keras.applications.InceptionV3(input_shape=IMG_SHAPE, include_top=False, weights='imagenet')\n",
    "base_model.trainable = False\n",
    "\n",
    "x = tf.keras.layers.Flatten()(base_model.output)\n",
    "#x = tf.keras.layers.Dense(1024, activation='relu')(x)\n",
    "x = tf.keras.layers.Dropout(0.5)(x)\n",
    "x = tf.keras.layers.Dense(1, activation='sigmoid')(x)\n",
    "\n",
    "model = tf.keras.Model(base_model.input, x)"
   ]
  },
  {
   "cell_type": "markdown",
   "metadata": {},
   "source": [
    "### Salvar modelo"
   ]
  },
  {
   "cell_type": "code",
   "execution_count": 8,
   "metadata": {},
   "outputs": [],
   "source": [
    "base_learning_rate = 0.0001\n",
    "model.compile(optimizer=tf.keras.optimizers.Adam(lr=base_learning_rate),\n",
    "              loss=tf.keras.losses.BinaryCrossentropy(from_logits=True),\n",
    "              metrics=[tf.keras.metrics.BinaryAccuracy(name='accuracy'), tf.keras.metrics.Precision(name='precision'),tf.keras.metrics.Recall(name='recall')]) #"
   ]
  },
  {
   "cell_type": "code",
   "execution_count": 9,
   "metadata": {},
   "outputs": [
    {
     "name": "stdout",
     "output_type": "stream",
     "text": [
      "WARNING:tensorflow:From c:\\users\\red\\appdata\\local\\programs\\python\\python36\\lib\\site-packages\\tensorflow_core\\python\\ops\\resource_variable_ops.py:1786: calling BaseResourceVariable.__init__ (from tensorflow.python.ops.resource_variable_ops) with constraint is deprecated and will be removed in a future version.\n",
      "Instructions for updating:\n",
      "If using Keras pass *_constraint arguments to layers.\n",
      "INFO:tensorflow:Assets written to: cnn_inceptionv3_pretrainned_raw_rgb_v1\\assets\n"
     ]
    }
   ],
   "source": [
    "model.save('cnn_inceptionv3_pretrainned_raw_rgb_v1')"
   ]
  },
  {
   "cell_type": "markdown",
   "metadata": {},
   "source": [
    "### Carregar modelo\n",
    "\n",
    "- OBS : Lembrar de ligar GPU"
   ]
  },
  {
   "cell_type": "code",
   "execution_count": 5,
   "metadata": {},
   "outputs": [],
   "source": [
    "model = tf.keras.models.load_model('cnn_inceptionv3_pretrainned_raw_rgb_v1')"
   ]
  },
  {
   "cell_type": "code",
   "execution_count": 10,
   "metadata": {
    "collapsed": true,
    "jupyter": {
     "outputs_hidden": true
    }
   },
   "outputs": [
    {
     "name": "stdout",
     "output_type": "stream",
     "text": [
      "WARNING:tensorflow:From <ipython-input-10-d1c87ae72771>:1: Model.fit_generator (from tensorflow.python.keras.engine.training) is deprecated and will be removed in a future version.\n",
      "Instructions for updating:\n",
      "Please use Model.fit, which supports generators.\n",
      "Train for 140 steps\n",
      "Epoch 1/100\n",
      "140/140 [==============================] - 25s 180ms/step - loss: 0.6419 - accuracy: 0.6839 - precision: 0.8184 - recall: 0.4726\n",
      "Epoch 2/100\n",
      "140/140 [==============================] - 19s 132ms/step - loss: 0.5890 - accuracy: 0.8354 - precision: 0.8812 - recall: 0.7754\n",
      "Epoch 3/100\n",
      "140/140 [==============================] - 19s 134ms/step - loss: 0.5750 - accuracy: 0.8624 - precision: 0.9046 - recall: 0.8103\n",
      "Epoch 4/100\n",
      "140/140 [==============================] - 19s 135ms/step - loss: 0.5621 - accuracy: 0.8919 - precision: 0.9245 - recall: 0.8534\n",
      "Epoch 5/100\n",
      "140/140 [==============================] - 19s 135ms/step - loss: 0.5564 - accuracy: 0.9056 - precision: 0.9383 - recall: 0.8683\n",
      "Epoch 6/100\n",
      "140/140 [==============================] - 19s 138ms/step - loss: 0.5515 - accuracy: 0.9137 - precision: 0.9396 - recall: 0.8843\n",
      "Epoch 7/100\n",
      "140/140 [==============================] - 19s 134ms/step - loss: 0.5481 - accuracy: 0.9237 - precision: 0.9472 - recall: 0.8974\n",
      "Epoch 8/100\n",
      "140/140 [==============================] - 19s 134ms/step - loss: 0.5447 - accuracy: 0.9307 - precision: 0.9515 - recall: 0.9077\n",
      "Epoch 9/100\n",
      "140/140 [==============================] - 19s 134ms/step - loss: 0.5426 - accuracy: 0.9311 - precision: 0.9548 - recall: 0.9051\n",
      "Epoch 10/100\n",
      "140/140 [==============================] - 19s 135ms/step - loss: 0.5410 - accuracy: 0.9334 - precision: 0.9536 - recall: 0.9111\n",
      "Epoch 11/100\n",
      "140/140 [==============================] - 19s 134ms/step - loss: 0.5385 - accuracy: 0.9420 - precision: 0.9588 - recall: 0.9237\n",
      "Epoch 12/100\n",
      "140/140 [==============================] - 19s 134ms/step - loss: 0.5361 - accuracy: 0.9429 - precision: 0.9641 - recall: 0.9200\n",
      "Epoch 13/100\n",
      "140/140 [==============================] - 19s 134ms/step - loss: 0.5343 - accuracy: 0.9501 - precision: 0.9671 - recall: 0.9320\n",
      "Epoch 14/100\n",
      "140/140 [==============================] - 19s 135ms/step - loss: 0.5334 - accuracy: 0.9516 - precision: 0.9644 - recall: 0.9377\n",
      "Epoch 15/100\n",
      "140/140 [==============================] - 19s 135ms/step - loss: 0.5327 - accuracy: 0.9527 - precision: 0.9695 - recall: 0.9349\n",
      "Epoch 16/100\n",
      "140/140 [==============================] - 19s 136ms/step - loss: 0.5309 - accuracy: 0.9537 - precision: 0.9673 - recall: 0.9391\n",
      "Epoch 17/100\n",
      "140/140 [==============================] - 19s 135ms/step - loss: 0.5296 - accuracy: 0.9580 - precision: 0.9737 - recall: 0.9414\n",
      "Epoch 18/100\n",
      "140/140 [==============================] - 19s 134ms/step - loss: 0.5298 - accuracy: 0.9561 - precision: 0.9683 - recall: 0.9431\n",
      "Epoch 19/100\n",
      "140/140 [==============================] - 19s 134ms/step - loss: 0.5278 - accuracy: 0.9593 - precision: 0.9727 - recall: 0.9451\n",
      "Epoch 20/100\n",
      "140/140 [==============================] - 19s 134ms/step - loss: 0.5269 - accuracy: 0.9619 - precision: 0.9761 - recall: 0.9469\n",
      "Epoch 21/100\n",
      "140/140 [==============================] - 19s 135ms/step - loss: 0.5262 - accuracy: 0.9629 - precision: 0.9751 - recall: 0.9500\n",
      "Epoch 22/100\n",
      "140/140 [==============================] - 19s 134ms/step - loss: 0.5258 - accuracy: 0.9641 - precision: 0.9743 - recall: 0.9534\n",
      "Epoch 23/100\n",
      "140/140 [==============================] - 19s 135ms/step - loss: 0.5250 - accuracy: 0.9650 - precision: 0.9763 - recall: 0.9531\n",
      "Epoch 24/100\n",
      "140/140 [==============================] - 19s 135ms/step - loss: 0.5250 - accuracy: 0.9644 - precision: 0.9754 - recall: 0.9529\n",
      "Epoch 25/100\n",
      "140/140 [==============================] - 19s 134ms/step - loss: 0.5249 - accuracy: 0.9644 - precision: 0.9738 - recall: 0.9546\n",
      "Epoch 26/100\n",
      "140/140 [==============================] - 19s 134ms/step - loss: 0.5238 - accuracy: 0.9667 - precision: 0.9786 - recall: 0.9543\n",
      "Epoch 27/100\n",
      "140/140 [==============================] - 19s 134ms/step - loss: 0.5237 - accuracy: 0.9677 - precision: 0.9789 - recall: 0.9560\n",
      "Epoch 28/100\n",
      "140/140 [==============================] - 19s 136ms/step - loss: 0.5230 - accuracy: 0.9680 - precision: 0.9801 - recall: 0.9554\n",
      "Epoch 29/100\n",
      "140/140 [==============================] - 19s 135ms/step - loss: 0.5231 - accuracy: 0.9677 - precision: 0.9773 - recall: 0.9577\n",
      "Epoch 30/100\n",
      "140/140 [==============================] - 19s 135ms/step - loss: 0.5228 - accuracy: 0.9673 - precision: 0.9756 - recall: 0.9586\n",
      "Epoch 31/100\n",
      "140/140 [==============================] - 19s 135ms/step - loss: 0.5219 - accuracy: 0.9689 - precision: 0.9787 - recall: 0.9586\n",
      "Epoch 32/100\n",
      "140/140 [==============================] - 20s 142ms/step - loss: 0.5208 - accuracy: 0.9720 - precision: 0.9800 - recall: 0.9637\n",
      "Epoch 33/100\n",
      "140/140 [==============================] - 19s 138ms/step - loss: 0.5207 - accuracy: 0.9739 - precision: 0.9820 - recall: 0.9654\n",
      "Epoch 34/100\n",
      "140/140 [==============================] - 19s 137ms/step - loss: 0.5215 - accuracy: 0.9714 - precision: 0.9774 - recall: 0.9651\n",
      "Epoch 35/100\n",
      "140/140 [==============================] - 19s 136ms/step - loss: 0.5200 - accuracy: 0.9726 - precision: 0.9839 - recall: 0.9609\n",
      "Epoch 36/100\n",
      "140/140 [==============================] - 19s 137ms/step - loss: 0.5203 - accuracy: 0.9730 - precision: 0.9808 - recall: 0.9649\n",
      "Epoch 37/100\n",
      "140/140 [==============================] - 20s 140ms/step - loss: 0.5190 - accuracy: 0.9753 - precision: 0.9826 - recall: 0.9677\n",
      "Epoch 38/100\n",
      "140/140 [==============================] - 19s 136ms/step - loss: 0.5198 - accuracy: 0.9731 - precision: 0.9786 - recall: 0.9674\n",
      "Epoch 39/100\n",
      "140/140 [==============================] - 19s 139ms/step - loss: 0.5197 - accuracy: 0.9737 - precision: 0.9811 - recall: 0.9660\n",
      "Epoch 40/100\n",
      "140/140 [==============================] - 19s 138ms/step - loss: 0.5189 - accuracy: 0.9751 - precision: 0.9834 - recall: 0.9666\n",
      "Epoch 41/100\n",
      "140/140 [==============================] - 19s 137ms/step - loss: 0.5191 - accuracy: 0.9750 - precision: 0.9829 - recall: 0.9669\n",
      "Epoch 42/100\n",
      "140/140 [==============================] - 19s 137ms/step - loss: 0.5184 - accuracy: 0.9754 - precision: 0.9834 - recall: 0.9671\n",
      "Epoch 43/100\n",
      "140/140 [==============================] - 19s 138ms/step - loss: 0.5184 - accuracy: 0.9754 - precision: 0.9837 - recall: 0.9669\n",
      "Epoch 44/100\n",
      "140/140 [==============================] - 19s 138ms/step - loss: 0.5185 - accuracy: 0.9750 - precision: 0.9826 - recall: 0.9671\n",
      "Epoch 45/100\n",
      "140/140 [==============================] - 19s 139ms/step - loss: 0.5187 - accuracy: 0.9746 - precision: 0.9826 - recall: 0.9663\n",
      "Epoch 46/100\n",
      "140/140 [==============================] - 19s 139ms/step - loss: 0.5185 - accuracy: 0.9744 - precision: 0.9806 - recall: 0.9680\n",
      "Epoch 47/100\n",
      "140/140 [==============================] - 19s 139ms/step - loss: 0.5178 - accuracy: 0.9769 - precision: 0.9849 - recall: 0.9686\n",
      "Epoch 48/100\n",
      "140/140 [==============================] - 19s 137ms/step - loss: 0.5174 - accuracy: 0.9761 - precision: 0.9854 - recall: 0.9666\n",
      "Epoch 49/100\n",
      "140/140 [==============================] - 20s 140ms/step - loss: 0.5176 - accuracy: 0.9753 - precision: 0.9834 - recall: 0.9669\n",
      "Epoch 50/100\n",
      "140/140 [==============================] - 19s 139ms/step - loss: 0.5179 - accuracy: 0.9766 - precision: 0.9854 - recall: 0.9674\n",
      "Epoch 51/100\n",
      "140/140 [==============================] - 19s 137ms/step - loss: 0.5174 - accuracy: 0.9773 - precision: 0.9838 - recall: 0.9706\n",
      "Epoch 52/100\n",
      "140/140 [==============================] - 19s 137ms/step - loss: 0.5176 - accuracy: 0.9761 - precision: 0.9837 - recall: 0.9683\n",
      "Epoch 53/100\n",
      "140/140 [==============================] - 19s 136ms/step - loss: 0.5159 - accuracy: 0.9806 - precision: 0.9887 - recall: 0.9723\n",
      "Epoch 54/100\n",
      "140/140 [==============================] - 19s 138ms/step - loss: 0.5158 - accuracy: 0.9806 - precision: 0.9870 - recall: 0.9740\n",
      "Epoch 55/100\n",
      "140/140 [==============================] - 20s 142ms/step - loss: 0.5166 - accuracy: 0.9779 - precision: 0.9835 - recall: 0.9720\n",
      "Epoch 56/100\n",
      "140/140 [==============================] - 19s 137ms/step - loss: 0.5170 - accuracy: 0.9767 - precision: 0.9846 - recall: 0.9686\n",
      "Epoch 57/100\n",
      "140/140 [==============================] - 19s 137ms/step - loss: 0.5173 - accuracy: 0.9761 - precision: 0.9798 - recall: 0.9723\n",
      "Epoch 58/100\n",
      "140/140 [==============================] - 20s 140ms/step - loss: 0.5157 - accuracy: 0.9810 - precision: 0.9856 - recall: 0.9763\n",
      "Epoch 59/100\n",
      "140/140 [==============================] - 20s 141ms/step - loss: 0.5161 - accuracy: 0.9793 - precision: 0.9847 - recall: 0.9737\n",
      "Epoch 60/100\n",
      "140/140 [==============================] - 20s 140ms/step - loss: 0.5152 - accuracy: 0.9806 - precision: 0.9853 - recall: 0.9757\n",
      "Epoch 61/100\n",
      "140/140 [==============================] - 19s 139ms/step - loss: 0.5145 - accuracy: 0.9827 - precision: 0.9867 - recall: 0.9786\n",
      "Epoch 62/100\n",
      "140/140 [==============================] - 19s 139ms/step - loss: 0.5154 - accuracy: 0.9804 - precision: 0.9856 - recall: 0.9751\n",
      "Epoch 63/100\n",
      "140/140 [==============================] - 20s 142ms/step - loss: 0.5150 - accuracy: 0.9803 - precision: 0.9858 - recall: 0.9746\n",
      "Epoch 64/100\n",
      "140/140 [==============================] - 19s 138ms/step - loss: 0.5158 - accuracy: 0.9789 - precision: 0.9836 - recall: 0.9740\n",
      "Epoch 65/100\n",
      "140/140 [==============================] - 19s 138ms/step - loss: 0.5152 - accuracy: 0.9817 - precision: 0.9881 - recall: 0.9751\n",
      "Epoch 66/100\n",
      "140/140 [==============================] - 20s 141ms/step - loss: 0.5161 - accuracy: 0.9774 - precision: 0.9843 - recall: 0.9703\n",
      "Epoch 67/100\n",
      "140/140 [==============================] - 19s 139ms/step - loss: 0.5157 - accuracy: 0.9791 - precision: 0.9855 - recall: 0.9726\n",
      "Epoch 68/100\n",
      "140/140 [==============================] - 19s 136ms/step - loss: 0.5160 - accuracy: 0.9777 - precision: 0.9832 - recall: 0.9720\n",
      "Epoch 69/100\n",
      "140/140 [==============================] - 20s 140ms/step - loss: 0.5145 - accuracy: 0.9811 - precision: 0.9870 - recall: 0.9751\n",
      "Epoch 70/100\n",
      "140/140 [==============================] - 19s 136ms/step - loss: 0.5149 - accuracy: 0.9794 - precision: 0.9858 - recall: 0.9729\n",
      "Epoch 71/100\n",
      "140/140 [==============================] - 19s 136ms/step - loss: 0.5163 - accuracy: 0.9779 - precision: 0.9838 - recall: 0.9717\n",
      "Epoch 72/100\n",
      "140/140 [==============================] - 19s 138ms/step - loss: 0.5148 - accuracy: 0.9813 - precision: 0.9870 - recall: 0.9754\n",
      "Epoch 73/100\n",
      "140/140 [==============================] - 19s 136ms/step - loss: 0.5149 - accuracy: 0.9817 - precision: 0.9848 - recall: 0.9786\n",
      "Epoch 74/100\n",
      "140/140 [==============================] - 19s 137ms/step - loss: 0.5162 - accuracy: 0.9776 - precision: 0.9821 - recall: 0.9729\n",
      "Epoch 75/100\n",
      "140/140 [==============================] - 19s 137ms/step - loss: 0.5132 - accuracy: 0.9847 - precision: 0.9882 - recall: 0.9811\n",
      "Epoch 76/100\n",
      "140/140 [==============================] - 19s 138ms/step - loss: 0.5143 - accuracy: 0.9819 - precision: 0.9856 - recall: 0.9780\n",
      "Epoch 77/100\n",
      "140/140 [==============================] - 20s 140ms/step - loss: 0.5151 - accuracy: 0.9810 - precision: 0.9881 - recall: 0.9737\n",
      "Epoch 78/100\n",
      "140/140 [==============================] - 20s 141ms/step - loss: 0.5145 - accuracy: 0.9824 - precision: 0.9859 - recall: 0.9789\n",
      "Epoch 79/100\n",
      "140/140 [==============================] - 20s 140ms/step - loss: 0.5150 - accuracy: 0.9807 - precision: 0.9878 - recall: 0.9734\n",
      "Epoch 80/100\n",
      "140/140 [==============================] - 20s 141ms/step - loss: 0.5144 - accuracy: 0.9811 - precision: 0.9864 - recall: 0.9757\n",
      "Epoch 81/100\n",
      "140/140 [==============================] - 20s 139ms/step - loss: 0.5142 - accuracy: 0.9820 - precision: 0.9881 - recall: 0.9757\n",
      "Epoch 82/100\n",
      "140/140 [==============================] - 19s 135ms/step - loss: 0.5143 - accuracy: 0.9817 - precision: 0.9873 - recall: 0.9760\n",
      "Epoch 83/100\n",
      "140/140 [==============================] - 20s 141ms/step - loss: 0.5139 - accuracy: 0.9826 - precision: 0.9873 - recall: 0.9777\n",
      "Epoch 84/100\n",
      "140/140 [==============================] - 20s 140ms/step - loss: 0.5139 - accuracy: 0.9827 - precision: 0.9865 - recall: 0.9789\n",
      "Epoch 85/100\n",
      "140/140 [==============================] - 19s 139ms/step - loss: 0.5137 - accuracy: 0.9821 - precision: 0.9884 - recall: 0.9757\n",
      "Epoch 86/100\n",
      "140/140 [==============================] - 20s 141ms/step - loss: 0.5138 - accuracy: 0.9830 - precision: 0.9884 - recall: 0.9774\n",
      "Epoch 87/100\n",
      "140/140 [==============================] - 19s 138ms/step - loss: 0.5151 - accuracy: 0.9787 - precision: 0.9835 - recall: 0.9737\n",
      "Epoch 88/100\n",
      "140/140 [==============================] - 19s 135ms/step - loss: 0.5133 - accuracy: 0.9837 - precision: 0.9899 - recall: 0.9774\n",
      "Epoch 89/100\n",
      "140/140 [==============================] - 19s 134ms/step - loss: 0.5153 - accuracy: 0.9781 - precision: 0.9827 - recall: 0.9734\n",
      "Epoch 90/100\n",
      "140/140 [==============================] - 19s 135ms/step - loss: 0.5129 - accuracy: 0.9834 - precision: 0.9890 - recall: 0.9777\n",
      "Epoch 91/100\n",
      "140/140 [==============================] - 19s 136ms/step - loss: 0.5142 - accuracy: 0.9813 - precision: 0.9884 - recall: 0.9740\n",
      "Epoch 92/100\n",
      "140/140 [==============================] - 19s 137ms/step - loss: 0.5142 - accuracy: 0.9819 - precision: 0.9862 - recall: 0.9774\n",
      "Epoch 93/100\n",
      "140/140 [==============================] - 19s 135ms/step - loss: 0.5140 - accuracy: 0.9816 - precision: 0.9853 - recall: 0.9777\n",
      "Epoch 94/100\n",
      "140/140 [==============================] - 19s 135ms/step - loss: 0.5136 - accuracy: 0.9834 - precision: 0.9882 - recall: 0.9786\n",
      "Epoch 95/100\n",
      "140/140 [==============================] - 20s 142ms/step - loss: 0.5135 - accuracy: 0.9836 - precision: 0.9871 - recall: 0.9800\n",
      "Epoch 96/100\n",
      "140/140 [==============================] - 19s 136ms/step - loss: 0.5134 - accuracy: 0.9827 - precision: 0.9876 - recall: 0.9777\n",
      "Epoch 97/100\n",
      "140/140 [==============================] - 19s 134ms/step - loss: 0.5121 - accuracy: 0.9854 - precision: 0.9902 - recall: 0.9806\n",
      "Epoch 98/100\n",
      "140/140 [==============================] - 19s 134ms/step - loss: 0.5137 - accuracy: 0.9813 - precision: 0.9870 - recall: 0.9754\n",
      "Epoch 99/100\n",
      "140/140 [==============================] - 19s 139ms/step - loss: 0.5126 - accuracy: 0.9861 - precision: 0.9913 - recall: 0.9809\n",
      "Epoch 100/100\n",
      "140/140 [==============================] - 19s 136ms/step - loss: 0.5136 - accuracy: 0.9824 - precision: 0.9881 - recall: 0.9766\n"
     ]
    }
   ],
   "source": [
    "history = model.fit_generator(train_batches, epochs=100, use_multiprocessing=True)#, callbacks=[ tf.keras.callbacks.EarlyStopping(monitor='loss', patience=50)])"
   ]
  },
  {
   "cell_type": "code",
   "execution_count": 15,
   "metadata": {},
   "outputs": [],
   "source": [
    "import pickle\n",
    "with open('trainHistoryDictInception-5.pkl', 'wb') as file_pi:\n",
    "    pickle.dump(history.history, file_pi)"
   ]
  },
  {
   "cell_type": "markdown",
   "metadata": {},
   "source": [
    "## Trainning\n",
    "\n",
    "Lr = 0.0001\n",
    "\n",
    "loss: 0.5118 - accuracy: 0.9820 - precision: 0.9862 - recall: 0.9777 \n",
    "loss: 0.5148 - accuracy: 0.9793 - precision: 0.9867 - recall: 0.9717\n",
    "loss: 0.5165 - accuracy: 0.9776 - precision: 0.9844 - recall: 0.9706\n",
    "loss: 0.5150 - accuracy: 0.9797 - precision: 0.9844 - recall: 0.9749\n",
    "loss: 0.5136 - accuracy: 0.9824 - precision: 0.9881 - recall: 0.9766\n",
    "\n",
    "21s/época"
   ]
  },
  {
   "cell_type": "markdown",
   "metadata": {},
   "source": [
    "### Salvar modelo"
   ]
  },
  {
   "cell_type": "code",
   "execution_count": 14,
   "metadata": {},
   "outputs": [
    {
     "name": "stdout",
     "output_type": "stream",
     "text": [
      "INFO:tensorflow:Assets written to: cnn_inceptionv3_pretrainned_raw_rgb_v1\\assets\n"
     ]
    }
   ],
   "source": [
    "model.save('cnn_inceptionv3_pretrainned_raw_rgb_v1')"
   ]
  },
  {
   "cell_type": "markdown",
   "metadata": {},
   "source": [
    "### Fine tunning"
   ]
  },
  {
   "cell_type": "code",
   "execution_count": null,
   "metadata": {
    "collapsed": true,
    "jupyter": {
     "outputs_hidden": true
    }
   },
   "outputs": [
    {
     "name": "stdout",
     "output_type": "stream",
     "text": [
      "Train for 140 steps\n",
      "Epoch 1/100\n",
      "140/140 [==============================] - 34s 245ms/step - loss: 0.5169 - accuracy: 0.9744 - precision: 0.9792 - recall: 0.9693\n",
      "Epoch 2/100\n",
      "140/140 [==============================] - 34s 244ms/step - loss: 0.5164 - accuracy: 0.9761 - precision: 0.9798 - recall: 0.9722\n",
      "Epoch 3/100\n",
      "140/140 [==============================] - 34s 244ms/step - loss: 0.5159 - accuracy: 0.9781 - precision: 0.9835 - recall: 0.9725\n",
      "Epoch 4/100\n",
      "140/140 [==============================] - 34s 246ms/step - loss: 0.5157 - accuracy: 0.9770 - precision: 0.9818 - recall: 0.9719\n",
      "Epoch 5/100\n",
      "140/140 [==============================] - 34s 246ms/step - loss: 0.5161 - accuracy: 0.9763 - precision: 0.9798 - recall: 0.9725\n",
      "Epoch 6/100\n",
      "140/140 [==============================] - 34s 245ms/step - loss: 0.5166 - accuracy: 0.9749 - precision: 0.9820 - recall: 0.9673\n",
      "Epoch 7/100\n",
      "140/140 [==============================] - 34s 245ms/step - loss: 0.5157 - accuracy: 0.9777 - precision: 0.9801 - recall: 0.9751\n",
      "Epoch 8/100\n",
      "140/140 [==============================] - 34s 245ms/step - loss: 0.5151 - accuracy: 0.9787 - precision: 0.9821 - recall: 0.9751\n",
      "Epoch 9/100\n",
      "140/140 [==============================] - 34s 245ms/step - loss: 0.5154 - accuracy: 0.9776 - precision: 0.9807 - recall: 0.9742\n",
      "Epoch 10/100\n",
      "140/140 [==============================] - 34s 245ms/step - loss: 0.5161 - accuracy: 0.9757 - precision: 0.9823 - recall: 0.9688\n",
      "Epoch 11/100\n",
      "140/140 [==============================] - 34s 245ms/step - loss: 0.5158 - accuracy: 0.9754 - precision: 0.9814 - recall: 0.9690\n",
      "Epoch 12/100\n",
      "140/140 [==============================] - 34s 246ms/step - loss: 0.5144 - accuracy: 0.9800 - precision: 0.9852 - recall: 0.9745\n",
      "Epoch 13/100\n",
      "140/140 [==============================] - 34s 245ms/step - loss: 0.5160 - accuracy: 0.9763 - precision: 0.9815 - recall: 0.9708\n",
      "Epoch 14/100\n",
      "140/140 [==============================] - 34s 245ms/step - loss: 0.5153 - accuracy: 0.9791 - precision: 0.9830 - recall: 0.9751\n",
      "Epoch 15/100\n",
      "140/140 [==============================] - 34s 245ms/step - loss: 0.5153 - accuracy: 0.9779 - precision: 0.9832 - recall: 0.9722\n",
      "Epoch 16/100\n",
      "140/140 [==============================] - 34s 245ms/step - loss: 0.5153 - accuracy: 0.9771 - precision: 0.9826 - recall: 0.9713\n",
      "Epoch 17/100\n",
      "140/140 [==============================] - 34s 245ms/step - loss: 0.5141 - accuracy: 0.9804 - precision: 0.9858 - recall: 0.9748\n",
      "Epoch 18/100\n",
      "140/140 [==============================] - 34s 246ms/step - loss: 0.5153 - accuracy: 0.9784 - precision: 0.9829 - recall: 0.9736\n",
      "Epoch 19/100\n",
      "140/140 [==============================] - 34s 244ms/step - loss: 0.5156 - accuracy: 0.9771 - precision: 0.9829 - recall: 0.9711\n",
      "Epoch 20/100\n",
      "140/140 [==============================] - 34s 245ms/step - loss: 0.5151 - accuracy: 0.9783 - precision: 0.9829 - recall: 0.9733\n",
      "Epoch 21/100\n",
      "140/140 [==============================] - 34s 244ms/step - loss: 0.5146 - accuracy: 0.9793 - precision: 0.9852 - recall: 0.9731\n",
      "Epoch 22/100\n",
      "140/140 [==============================] - 34s 244ms/step - loss: 0.5143 - accuracy: 0.9793 - precision: 0.9844 - recall: 0.9739\n",
      "Epoch 23/100\n",
      "140/140 [==============================] - 34s 245ms/step - loss: 0.5155 - accuracy: 0.9779 - precision: 0.9812 - recall: 0.9742\n",
      "Epoch 24/100\n",
      "140/140 [==============================] - 34s 244ms/step - loss: 0.5140 - accuracy: 0.9813 - precision: 0.9853 - recall: 0.9771\n",
      "Epoch 25/100\n",
      "140/140 [==============================] - 34s 244ms/step - loss: 0.5146 - accuracy: 0.9790 - precision: 0.9841 - recall: 0.9736\n",
      "Epoch 26/100\n",
      "140/140 [==============================] - 34s 245ms/step - loss: 0.5152 - accuracy: 0.9790 - precision: 0.9818 - recall: 0.9759\n",
      "Epoch 27/100\n",
      "140/140 [==============================] - 34s 246ms/step - loss: 0.5151 - accuracy: 0.9789 - precision: 0.9824 - recall: 0.9751\n",
      "Epoch 28/100\n",
      "140/140 [==============================] - 34s 245ms/step - loss: 0.5138 - accuracy: 0.9814 - precision: 0.9844 - recall: 0.9782\n",
      "Epoch 29/100\n",
      "140/140 [==============================] - 34s 245ms/step - loss: 0.5136 - accuracy: 0.9820 - precision: 0.9850 - recall: 0.9788\n",
      "Epoch 30/100\n",
      "140/140 [==============================] - 34s 245ms/step - loss: 0.5144 - accuracy: 0.9794 - precision: 0.9835 - recall: 0.9751\n",
      "Epoch 31/100\n",
      "140/140 [==============================] - 34s 246ms/step - loss: 0.5136 - accuracy: 0.9819 - precision: 0.9856 - recall: 0.9779\n",
      "Epoch 32/100\n",
      "140/140 [==============================] - 34s 245ms/step - loss: 0.5149 - accuracy: 0.9789 - precision: 0.9827 - recall: 0.9748\n",
      "Epoch 33/100\n",
      "140/140 [==============================] - 34s 245ms/step - loss: 0.5146 - accuracy: 0.9784 - precision: 0.9832 - recall: 0.9733\n",
      "Epoch 34/100\n",
      "140/140 [==============================] - 34s 246ms/step - loss: 0.5152 - accuracy: 0.9784 - precision: 0.9824 - recall: 0.9742\n",
      "Epoch 35/100\n",
      "140/140 [==============================] - 34s 245ms/step - loss: 0.5158 - accuracy: 0.9756 - precision: 0.9823 - recall: 0.9685\n",
      "Epoch 36/100\n",
      "140/140 [==============================] - 34s 245ms/step - loss: 0.5148 - accuracy: 0.9789 - precision: 0.9827 - recall: 0.9748\n",
      "Epoch 37/100\n",
      "140/140 [==============================] - 34s 244ms/step - loss: 0.5154 - accuracy: 0.9770 - precision: 0.9812 - recall: 0.9725\n",
      "Epoch 38/100\n",
      "140/140 [==============================] - 34s 244ms/step - loss: 0.5150 - accuracy: 0.9783 - precision: 0.9832 - recall: 0.9731\n",
      "Epoch 39/100\n",
      "140/140 [==============================] - 34s 244ms/step - loss: 0.5145 - accuracy: 0.9786 - precision: 0.9832 - recall: 0.9736\n",
      "Epoch 40/100\n",
      "140/140 [==============================] - 34s 245ms/step - loss: 0.5151 - accuracy: 0.9773 - precision: 0.9818 - recall: 0.9725\n",
      "Epoch 41/100\n",
      "140/140 [==============================] - 35s 247ms/step - loss: 0.5140 - accuracy: 0.9799 - precision: 0.9841 - recall: 0.9754\n",
      "Epoch 42/100\n",
      "140/140 [==============================] - 35s 251ms/step - loss: 0.5153 - accuracy: 0.9777 - precision: 0.9815 - recall: 0.9736\n",
      "Epoch 43/100\n",
      "140/140 [==============================] - 34s 245ms/step - loss: 0.5142 - accuracy: 0.9794 - precision: 0.9849 - recall: 0.9736\n",
      "Epoch 44/100\n",
      "140/140 [==============================] - 35s 249ms/step - loss: 0.5138 - accuracy: 0.9804 - precision: 0.9847 - recall: 0.9759\n",
      "Epoch 45/100\n",
      "140/140 [==============================] - 34s 245ms/step - loss: 0.5145 - accuracy: 0.9784 - precision: 0.9829 - recall: 0.9736\n",
      "Epoch 46/100\n",
      "140/140 [==============================] - 34s 246ms/step - loss: 0.5150 - accuracy: 0.9769 - precision: 0.9818 - recall: 0.9716\n",
      "Epoch 47/100\n",
      "140/140 [==============================] - 35s 249ms/step - loss: 0.5150 - accuracy: 0.9790 - precision: 0.9824 - recall: 0.9754\n",
      "Epoch 48/100\n",
      "140/140 [==============================] - 35s 247ms/step - loss: 0.5140 - accuracy: 0.9807 - precision: 0.9844 - recall: 0.9768\n",
      "Epoch 49/100\n",
      "140/140 [==============================] - 35s 250ms/step - loss: 0.5134 - accuracy: 0.9817 - precision: 0.9856 - recall: 0.9776\n",
      "Epoch 50/100\n",
      "140/140 [==============================] - 35s 252ms/step - loss: 0.5135 - accuracy: 0.9816 - precision: 0.9841 - recall: 0.9788\n",
      "Epoch 51/100\n",
      "140/140 [==============================] - 35s 248ms/step - loss: 0.5133 - accuracy: 0.9816 - precision: 0.9872 - recall: 0.9756\n",
      "Epoch 52/100\n",
      "140/140 [==============================] - 35s 250ms/step - loss: 0.5144 - accuracy: 0.9784 - precision: 0.9826 - recall: 0.9739\n",
      "Epoch 53/100\n",
      "140/140 [==============================] - 37s 266ms/step - loss: 0.5146 - accuracy: 0.9796 - precision: 0.9821 - recall: 0.9768\n",
      "Epoch 54/100\n",
      "140/140 [==============================] - 35s 251ms/step - loss: 0.5139 - accuracy: 0.9800 - precision: 0.9858 - recall: 0.9739\n",
      "Epoch 55/100\n",
      "140/140 [==============================] - 36s 254ms/step - loss: 0.5147 - accuracy: 0.9781 - precision: 0.9840 - recall: 0.9719\n",
      "Epoch 56/100\n",
      "140/140 [==============================] - 35s 251ms/step - loss: 0.5133 - accuracy: 0.9819 - precision: 0.9861 - recall: 0.9774\n",
      "Epoch 57/100\n",
      "140/140 [==============================] - 34s 245ms/step - loss: 0.5146 - accuracy: 0.9779 - precision: 0.9846 - recall: 0.9708\n",
      "Epoch 58/100\n",
      "140/140 [==============================] - 35s 253ms/step - loss: 0.5143 - accuracy: 0.9790 - precision: 0.9843 - recall: 0.9733\n",
      "Epoch 59/100\n",
      "140/140 [==============================] - 35s 249ms/step - loss: 0.5136 - accuracy: 0.9820 - precision: 0.9844 - recall: 0.9794\n",
      "Epoch 60/100\n",
      "140/140 [==============================] - 35s 248ms/step - loss: 0.5143 - accuracy: 0.9787 - precision: 0.9846 - recall: 0.9725\n",
      "Epoch 61/100\n",
      "140/140 [==============================] - 35s 250ms/step - loss: 0.5134 - accuracy: 0.9813 - precision: 0.9847 - recall: 0.9776\n",
      "Epoch 62/100\n",
      "140/140 [==============================] - 35s 253ms/step - loss: 0.5131 - accuracy: 0.9817 - precision: 0.9861 - recall: 0.9771\n",
      "Epoch 63/100\n",
      "140/140 [==============================] - 36s 255ms/step - loss: 0.5145 - accuracy: 0.9781 - precision: 0.9843 - recall: 0.9716\n",
      "Epoch 64/100\n",
      "140/140 [==============================] - 45s 324ms/step - loss: 0.5134 - accuracy: 0.9810 - precision: 0.9855 - recall: 0.9762\n",
      "Epoch 65/100\n",
      "140/140 [==============================] - 40s 287ms/step - loss: 0.5144 - accuracy: 0.9794 - precision: 0.9824 - recall: 0.9762\n",
      "Epoch 66/100\n",
      "140/140 [==============================] - 38s 270ms/step - loss: 0.5141 - accuracy: 0.9787 - precision: 0.9821 - recall: 0.9751\n",
      "Epoch 67/100\n",
      "  6/140 [>.............................] - ETA: 5:05 - loss: 0.5124 - accuracy: 0.9567 - precision: 0.9797 - recall: 0.9355"
     ]
    }
   ],
   "source": [
    "model.trainable = True\n",
    "history = model.fit_generator(train_batches, epochs=100, callbacks=[ tf.keras.callbacks.EarlyStopping(monitor='loss', patience=50)])"
   ]
  },
  {
   "cell_type": "markdown",
   "metadata": {},
   "source": [
    "# Avaliação do modelo\n",
    "## Dataset de teste"
   ]
  },
  {
   "cell_type": "code",
   "execution_count": 13,
   "metadata": {},
   "outputs": [
    {
     "name": "stdout",
     "output_type": "stream",
     "text": [
      "\n",
      "Test accuracy: 0.7337143\n",
      "\n",
      "Test precision: 0.8876777\n",
      "\n",
      "Test recall: 0.53514284\n"
     ]
    }
   ],
   "source": [
    "#test_batch = test_ds.batch(150)\n",
    "#with tf.device('/cpu:0'):\n",
    "features = np.array([list(x[0].numpy()) for x in list(test_ds)])\n",
    "labels = np.array([x[1].numpy() for x in list(test_ds)])\n",
    "test_loss, test_acc, test_prec, test_rec = model.evaluate(x=features, y=labels, verbose=0)\n",
    "\n",
    "print('\\nTest accuracy:', test_acc)\n",
    "print('\\nTest precision:', test_prec)\n",
    "print('\\nTest recall:', test_rec)"
   ]
  },
  {
   "cell_type": "markdown",
   "metadata": {},
   "source": [
    "## Test\n",
    "\n",
    "Lr = 0.0001\n",
    "\n",
    "Test accuracy: 0.7212857  Test precision: 0.92531574 Test recall: 0.48142856 (11/07/20) - 1\n",
    "Test accuracy: 0.7375714  Test precision: 0.89956754 Test recall: 0.53485715 (11/07/20) - 2\n",
    "Test accuracy: 0.739      Test precision: 0.9008146  Test recall: 0.5371429       (11/07/20) - 3\n",
    "Test accuracy: 0.71828574 Test precision: 0.8893986  Test recall: 0.49857143 (11/07/20) - 4\n",
    "Test accuracy: 0.7337143  Test precision: 0.8876777  Test recall: 0.53514284  (11/07/20) - 5"
   ]
  },
  {
   "cell_type": "markdown",
   "metadata": {},
   "source": [
    "## Dataset de validação"
   ]
  },
  {
   "cell_type": "code",
   "execution_count": 25,
   "metadata": {},
   "outputs": [],
   "source": [
    "features = None\n",
    "labels = None"
   ]
  },
  {
   "cell_type": "code",
   "execution_count": 6,
   "metadata": {},
   "outputs": [],
   "source": [
    "features = np.array([list(x[0].numpy()) for x in list(validation_ds)])\n",
    "labels = np.array([x[1].numpy() for x in list(validation_ds)])"
   ]
  },
  {
   "cell_type": "code",
   "execution_count": 7,
   "metadata": {},
   "outputs": [
    {
     "name": "stdout",
     "output_type": "stream",
     "text": [
      "\n",
      "Validation accuracy: 0.8677999973297119\n",
      "\n",
      "Validation precision: 0.5034482479095459\n",
      "\n",
      "Validation recall: 0.38449960947036743\n"
     ]
    }
   ],
   "source": [
    "test_loss, test_acc, test_prec, test_rec = model.evaluate(x=features, y=labels, verbose=0, use_multiprocessing= True)\n",
    "\n",
    "print('\\nValidation accuracy:', test_acc)\n",
    "print('\\nValidation precision:', test_prec)\n",
    "print('\\nValidation recall:', test_rec)"
   ]
  },
  {
   "cell_type": "markdown",
   "metadata": {},
   "source": [
    "## Validation\n",
    "\n",
    "Lr = 0.0001\n",
    "\n",
    "Validation accuracy: 0.8227 Validation precision: 0.29884318 Validation recall: 0.4054054     (11/07/20) - 1\n",
    "Validation accuracy: 0.7375 Validation precision: 0.89956754 Validation recall: 0.53485715    (11/07/20) - 2\n",
    "Validation accuracy: 0.9027 Validation precision: 0.2359155  Validation recall: 0.71849865    (11/07/20) - 4\n",
    "Validation accuracy: 0.8699 Validation precision: 0.50609756 Validation recall: 0.37928408    (11/07/20) - 5\n",
    "Validation accuracy: 0.8743 Validation precision: 0.0        Validation recall: 0.0           (11/07/20) - 3"
   ]
  },
  {
   "cell_type": "code",
   "execution_count": 19,
   "metadata": {},
   "outputs": [
    {
     "data": {
      "text/plain": [
       "0.509511"
      ]
     },
     "execution_count": 19,
     "metadata": {},
     "output_type": "execute_result"
    }
   ],
   "source": [
    "import numpy as np\n",
    "np.mean([\n",
    "   0.405405,\n",
    "0.534857,\n",
    "0.718498,\n",
    "0.379284,\n",
    "])"
   ]
  },
  {
   "cell_type": "markdown",
   "metadata": {},
   "source": [
    "100 Épocas de treinamento (7000 instâncias de treinamento)\n",
    "\n",
    "Test accuracy: 0.833\n",
    "\n",
    "Test precision: 0.86501724\n",
    "\n",
    "Test recall: 0.78914285\n",
    "\n",
    "\n",
    "Dataset de validação (10000 instâncias de frames de vídeos aleatórios não utilizados no treinamento)\n",
    "\n",
    "Validation accuracy: 0.8045\n",
    "\n",
    "Validation precision: 0.30738524\n",
    "\n",
    "Validation recall: 0.52071005"
   ]
  },
  {
   "cell_type": "code",
   "execution_count": 9,
   "metadata": {},
   "outputs": [
    {
     "data": {
      "image/png": "[encoded data removed]",
      "text/plain": [
       "<Figure size 576x432 with 2 Axes>"
      ]
     },
     "metadata": {
      "needs_background": "light"
     },
     "output_type": "display_data"
    }
   ],
   "source": [
    "c_labels = [int(x) for x in labels]\n",
    "predictions = model.predict_classes(features, batch_size=None)\n",
    "pred = [x[0] for x in list(predictions)]\n",
    "mat = tf.math.confusion_matrix(c_labels, pred)\n",
    "df = pd.DataFrame(mat.numpy(), columns=['AP','AN'], index=['PP','PN'])\n",
    "fig, ax = plt.subplots(figsize=(8,6))\n",
    "sns.heatmap(df, cmap=\"Blues\", annot=True, fmt=\"d\", xticklabels=['Negative','Positive'], yticklabels=['Negative','Positive'])\n",
    "ax.set_ylim([2,0])\n",
    "plt.ylabel('Actual')\n",
    "plt.xlabel('Predicted')\n",
    "plt.title('VGG16 Raw RGB, Test Dataset Evaluation')\n",
    "plt.show()"
   ]
  },
  {
   "cell_type": "code",
   "execution_count": 18,
   "metadata": {},
   "outputs": [
    {
     "data": {
      "text/plain": [
       "<tf.Tensor: shape=(2, 2), dtype=int32, numpy=\n",
       "array([[2841,   99],\n",
       "       [  75, 2854]])>"
      ]
     },
     "execution_count": 18,
     "metadata": {},
     "output_type": "execute_result"
    }
   ],
   "source": [
    "mat"
   ]
  },
  {
   "cell_type": "code",
   "execution_count": 15,
   "metadata": {},
   "outputs": [
    {
     "data": {
      "text/plain": [
       "9828"
      ]
     },
     "execution_count": 15,
     "metadata": {},
     "output_type": "execute_result"
    }
   ],
   "source": [
    "pred.count(0)"
   ]
  },
  {
   "cell_type": "code",
   "execution_count": 9,
   "metadata": {},
   "outputs": [],
   "source": [
    "cv.imshow('aa',features[0])"
   ]
  },
  {
   "cell_type": "code",
   "execution_count": 10,
   "metadata": {},
   "outputs": [],
   "source": [
    "cv.destroyAllWindows()"
   ]
  },
  {
   "cell_type": "code",
   "execution_count": 27,
   "metadata": {},
   "outputs": [
    {
     "ename": "KeyboardInterrupt",
     "evalue": "",
     "output_type": "error",
     "traceback": [
      "\u001b[1;31m---------------------------------------------------------------------------\u001b[0m",
      "\u001b[1;31mKeyboardInterrupt\u001b[0m                         Traceback (most recent call last)",
      "\u001b[1;32m<ipython-input-27-33959e79ed47>\u001b[0m in \u001b[0;36m<module>\u001b[1;34m\u001b[0m\n\u001b[0;32m      3\u001b[0m         \u001b[1;32mwhile\u001b[0m \u001b[1;32mTrue\u001b[0m\u001b[1;33m:\u001b[0m\u001b[1;33m\u001b[0m\u001b[1;33m\u001b[0m\u001b[0m\n\u001b[0;32m      4\u001b[0m             \u001b[0mcv\u001b[0m\u001b[1;33m.\u001b[0m\u001b[0mimshow\u001b[0m\u001b[1;33m(\u001b[0m\u001b[1;34m'aa'\u001b[0m\u001b[1;33m,\u001b[0m\u001b[0mimg\u001b[0m\u001b[1;33m)\u001b[0m\u001b[1;33m\u001b[0m\u001b[1;33m\u001b[0m\u001b[0m\n\u001b[1;32m----> 5\u001b[1;33m             \u001b[0mk\u001b[0m \u001b[1;33m=\u001b[0m \u001b[0mcv\u001b[0m\u001b[1;33m.\u001b[0m\u001b[0mwaitKey\u001b[0m\u001b[1;33m(\u001b[0m\u001b[1;36m0\u001b[0m\u001b[1;33m)\u001b[0m\u001b[1;33m\u001b[0m\u001b[1;33m\u001b[0m\u001b[0m\n\u001b[0m\u001b[0;32m      6\u001b[0m             \u001b[1;32mif\u001b[0m \u001b[0mk\u001b[0m \u001b[1;33m==\u001b[0m \u001b[1;36m27\u001b[0m\u001b[1;33m:\u001b[0m         \u001b[1;31m# wait for ESC key to exit\u001b[0m\u001b[1;33m\u001b[0m\u001b[1;33m\u001b[0m\u001b[0m\n\u001b[0;32m      7\u001b[0m                 \u001b[1;32mbreak\u001b[0m\u001b[1;33m\u001b[0m\u001b[1;33m\u001b[0m\u001b[0m\n",
      "\u001b[1;31mKeyboardInterrupt\u001b[0m: "
     ]
    }
   ],
   "source": [
    "for img, pred in zip(features, predictions):\n",
    "    if pred > 0.5:\n",
    "        while True:\n",
    "            cv.imshow('aa',img)\n",
    "            k = cv.waitKey(0)\n",
    "            if k == 27:         # wait for ESC key to exit\n",
    "                break\n",
    "    cv.destroyAllWindows()"
   ]
  },
  {
   "cell_type": "code",
   "execution_count": 28,
   "metadata": {},
   "outputs": [],
   "source": [
    "cv.destroyAllWindows()"
   ]
  },
  {
   "cell_type": "code",
   "execution_count": 24,
   "metadata": {},
   "outputs": [],
   "source": [
    "predictions = model.predict(features, batch_size=None)\n"
   ]
  },
  {
   "cell_type": "code",
   "execution_count": 26,
   "metadata": {},
   "outputs": [
    {
     "data": {
      "text/plain": [
       "<matplotlib.axes._subplots.AxesSubplot at 0x1730a151a20>"
      ]
     },
     "execution_count": 26,
     "metadata": {},
     "output_type": "execute_result"
    },
    {
     "data": {
      "image/png": "[encoded data removed]",
      "text/plain": [
       "<Figure size 432x288 with 1 Axes>"
      ]
     },
     "metadata": {
      "needs_background": "light"
     },
     "output_type": "display_data"
    }
   ],
   "source": []
  },
  {
   "cell_type": "code",
   "execution_count": null,
   "metadata": {},
   "outputs": [],
   "source": [
    "pred = [x[0] for x in list(predictions)]"
   ]
  }
 ],
 "metadata": {
  "kernelspec": {
   "display_name": "Python 3",
   "language": "python",
   "name": "python3"
  },
  "language_info": {
   "codemirror_mode": {
    "name": "ipython",
    "version": 3
   },
   "file_extension": ".py",
   "mimetype": "text/x-python",
   "name": "python",
   "nbconvert_exporter": "python",
   "pygments_lexer": "ipython3",
   "version": "3.6.8"
  }
 },
 "nbformat": 4,
 "nbformat_minor": 4
}
