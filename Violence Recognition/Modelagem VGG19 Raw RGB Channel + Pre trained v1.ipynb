{
 "cells": [
  {
   "cell_type": "markdown",
   "metadata": {},
   "source": [
    "# Modelagem e arquitetura CNN\n",
    "\n",
    "## Modelo de canal único Raw RGB pré treinado VGG 19 + IMAGENET (Top layers off)\n",
    "\n",
    "### Conteúdo\n",
    "\n",
    "- Ingestão\n",
    "- Pré processamento\n",
    "- Modelagem da rede\n",
    "- Treinamento\n",
    "- Teste\n",
    "- Validação\n",
    "- Resultados\n",
    "\n",
    "### Importações e parâmetros"
   ]
  },
  {
   "cell_type": "code",
   "execution_count": 1,
   "metadata": {},
   "outputs": [],
   "source": [
    "import os\n",
    "import matplotlib.pyplot as plt\n",
    "import seaborn as sns\n",
    "from sklearn.metrics import accuracy_score\n",
    "from sklearn.metrics import precision_score\n",
    "from sklearn.metrics import recall_score\n",
    "#os.environ[\"CUDA_VISIBLE_DEVICES\"] = \"-1\"\n",
    "import numpy as np\n",
    "import pandas as pd\n",
    "import cv2 as cv\n",
    "import matplotlib.pyplot as plt\n",
    "import tensorflow as tf\n",
    "#import tensorflow_datasets as tfds\n",
    "#tfds.disable_progress_bar()\n",
    "\n",
    "videos_table_path = 'manual_frame_classification.csv'\n",
    "videos_table_path_validation = 'manual_frame_validation.csv'\n",
    "max_positive_cases = 5000\n",
    "max_validation_cases = 10000\n",
    "preprocess_training_test = False\n",
    "preprocess_validation = True"
   ]
  },
  {
   "cell_type": "markdown",
   "metadata": {},
   "source": [
    "### Ingestão"
   ]
  },
  {
   "cell_type": "code",
   "execution_count": 2,
   "metadata": {},
   "outputs": [],
   "source": [
    "def decode_img(img):\n",
    "    img = tf.image.decode_jpeg(img, channels=3)\n",
    "    img = tf.image.convert_image_dtype(img, tf.float32)\n",
    "    return img\n",
    "\n",
    "def process_path(file_path):\n",
    "    img = tf.io.read_file(file_path, )\n",
    "    img = decode_img(img)\n",
    "    return img\n",
    "\n",
    "def process_label(label):\n",
    "    return label == 'POS'\n",
    "\n",
    "def process_dataframe(dataframe):\n",
    "    xs = []\n",
    "    ys = []\n",
    "    with tf.device('/cpu:0'):\n",
    "        for i,row in dataframe.iterrows():\n",
    "            path = row['path']\n",
    "            label = row['violence']\n",
    "            xs.append(process_path(path))\n",
    "            ys.append(process_label(label))\n",
    "        return tf.data.Dataset.from_tensor_slices((xs,ys))"
   ]
  },
  {
   "cell_type": "code",
   "execution_count": 3,
   "metadata": {},
   "outputs": [
    {
     "name": "stderr",
     "output_type": "stream",
     "text": [
      "c:\\users\\red\\appdata\\local\\programs\\python\\python36\\lib\\site-packages\\IPython\\core\\interactiveshell.py:3051: DtypeWarning: Columns (6,7) have mixed types. Specify dtype option on import or set low_memory=False.\n",
      "  interactivity=interactivity, compiler=compiler, result=result)\n"
     ]
    },
    {
     "name": "stdout",
     "output_type": "stream",
     "text": [
      "Train dataset cases :7000\n",
      "Test dataset cases :18526\n",
      "Validation dataset cases :24840\n"
     ]
    }
   ],
   "source": [
    "#IMPORT\n",
    "frames_df = pd.read_csv(videos_table_path, sep=';', index_col=0)\n",
    "video_list = frames_df[frames_df['load'] == 'X']['video'].unique()\n",
    "\n",
    "#SEGREGATE\n",
    "msk = np.random.rand(len(video_list)) < 0.9\n",
    "train_test_videos = video_list[msk]\n",
    "validation_videos =  video_list[~msk]\n",
    "train_test_df = frames_df.loc[frames_df['video'].isin(train_test_videos)]\n",
    "validation_df = frames_df.loc[frames_df['video'].isin(validation_videos)]\n",
    "\n",
    "neg_df = train_test_df[train_test_df['violence'] == 'NEG'][['path','violence']]\n",
    "pos_df = train_test_df[train_test_df['violence'] == 'POS'][['path','violence']]\n",
    "neg_len = len(neg_df)\n",
    "pos_len = len(pos_df)\n",
    "\n",
    "#SHUFFLE\n",
    "neg_df = neg_df.sample(frac=1).reset_index(drop=True)\n",
    "pos_df = pos_df.sample(frac=1).reset_index(drop=True)\n",
    "validation_df = validation_df.sample(frac=1).reset_index(drop=True)\n",
    "\n",
    "#RESIZE\n",
    "train_test_size = min([len(pos_df),max_positive_cases])\n",
    "train_size = int(0.7*train_test_size)\n",
    "test_size = train_test_size - train_size\n",
    "\n",
    "pos_train_df = pos_df.head(train_size)\n",
    "pos_test_df = pos_df.tail(test_size)\n",
    "\n",
    "neg_train_df = neg_df.head(train_size)\n",
    "neg_test_df = neg_df.tail(int(test_size*(neg_len/pos_len)))\n",
    "                          \n",
    "#MERGE\n",
    "merged_train_df = pd.concat([pos_train_df, neg_train_df], ignore_index=True)\n",
    "merged_test_df = pd.concat([pos_test_df, neg_test_df], ignore_index=True)\n",
    "train_length = len(merged_train_df)\n",
    "test_length = len(merged_test_df)\n",
    "validation_length = len(validation_df)\n",
    "\n",
    "print('Train dataset cases :' + str(train_length))\n",
    "print('Test dataset cases :' + str(test_length))\n",
    "print('Validation dataset cases :' + str(validation_length))"
   ]
  },
  {
   "cell_type": "markdown",
   "metadata": {},
   "source": [
    "### Pré processamento"
   ]
  },
  {
   "cell_type": "markdown",
   "metadata": {},
   "source": [
    "### Observações\n",
    "\n",
    "Dataset claramente tendencioso (biased), será necessário tratar o desbalanceamento na fase de préprocessamento a fim de manter uma RN bem treinada.\n",
    "\n",
    "#### Tarefas\n",
    "- Separação do dataset em:\n",
    "    - Dataset de treinamento (70%)\n",
    "    - Dataset de teste (30%)\n",
    "\n",
    "    \n",
    "OBS: Todos os datasets devem estar balanceados! Portanto a medida balizadora será o gargalo atual: número de casos positivos. "
   ]
  },
  {
   "cell_type": "code",
   "execution_count": 4,
   "metadata": {},
   "outputs": [],
   "source": [
    "validation_df = pd.read_csv('validation_shuffled_df_vgg19.csv', sep=';')\n",
    "validation_length = len(validation_df)"
   ]
  },
  {
   "cell_type": "code",
   "execution_count": 5,
   "metadata": {},
   "outputs": [],
   "source": [
    "#train_ds = None\n",
    "#test_ds = None\n",
    "#validation_ds = None\n",
    "\n",
    "#RESHUFLE\n",
    "if preprocess_training_test:\n",
    "    shuffled_train_df = merged_train_df.sample(frac=1).reset_index(drop=True)\n",
    "    shuffled_test_df = merged_test_df.sample(frac=2*test_size/test_length).reset_index(drop=True)\n",
    "\n",
    "if preprocess_validation:\n",
    "    validation_shuffled_df = validation_df.sample(frac=min(1,max_validation_cases/validation_length)).reset_index(drop=True)\n",
    "    validation_length = len(validation_shuffled_df)\n",
    "\n",
    "#PROCESS\n",
    "if preprocess_training_test:\n",
    "    train_ds = process_dataframe(shuffled_train_df)\n",
    "    test_ds = process_dataframe(shuffled_train_df)\n",
    "if preprocess_validation:\n",
    "    validation_ds = process_dataframe(validation_shuffled_df)\n",
    "\n",
    "#print('Train DataFrame size: ' + str(int(train_length)))\n",
    "#print('Test DataFrame size: ' + str(int(test_length*2*test_size/test_length)))\n",
    "#print('Validation DataFrame size: ' + str(int(validation_length)))\n",
    "\n",
    "### Clear unused data\n",
    "frames_df = None\n",
    "neg_df = None\n",
    "pos_df = None\n",
    "#merged_df = None\n",
    "shuffled_df = None\n",
    "complete_dataset = None"
   ]
  },
  {
   "cell_type": "code",
   "execution_count": 16,
   "metadata": {},
   "outputs": [],
   "source": [
    "validation_df.to_csv('validation_shuffled_df_vgg19.csv', sep=';')"
   ]
  },
  {
   "cell_type": "code",
   "execution_count": 6,
   "metadata": {},
   "outputs": [],
   "source": [
    "train_batches = train_ds.shuffle(100).batch(50)"
   ]
  },
  {
   "cell_type": "markdown",
   "metadata": {},
   "source": [
    "### Ponto de execução para treinamento\n",
    "\n",
    "Caso queira seguir com a criação do modelo executar os blocos a seguir"
   ]
  },
  {
   "cell_type": "markdown",
   "metadata": {},
   "source": [
    "### Modelagem da CNN"
   ]
  },
  {
   "cell_type": "code",
   "execution_count": 7,
   "metadata": {},
   "outputs": [
    {
     "name": "stdout",
     "output_type": "stream",
     "text": [
      "Model: \"sequential\"\n",
      "_________________________________________________________________\n",
      "Layer (type)                 Output Shape              Param #   \n",
      "=================================================================\n",
      "block1_conv1 (Conv2D)        (None, 224, 224, 64)      1792      \n",
      "_________________________________________________________________\n",
      "block1_conv2 (Conv2D)        (None, 224, 224, 64)      36928     \n",
      "_________________________________________________________________\n",
      "block1_pool (MaxPooling2D)   (None, 112, 112, 64)      0         \n",
      "_________________________________________________________________\n",
      "block2_conv1 (Conv2D)        (None, 112, 112, 128)     73856     \n",
      "_________________________________________________________________\n",
      "block2_conv2 (Conv2D)        (None, 112, 112, 128)     147584    \n",
      "_________________________________________________________________\n",
      "block2_pool (MaxPooling2D)   (None, 56, 56, 128)       0         \n",
      "_________________________________________________________________\n",
      "block3_conv1 (Conv2D)        (None, 56, 56, 256)       295168    \n",
      "_________________________________________________________________\n",
      "block3_conv2 (Conv2D)        (None, 56, 56, 256)       590080    \n",
      "_________________________________________________________________\n",
      "block3_conv3 (Conv2D)        (None, 56, 56, 256)       590080    \n",
      "_________________________________________________________________\n",
      "block3_conv4 (Conv2D)        (None, 56, 56, 256)       590080    \n",
      "_________________________________________________________________\n",
      "block3_pool (MaxPooling2D)   (None, 28, 28, 256)       0         \n",
      "_________________________________________________________________\n",
      "block4_conv1 (Conv2D)        (None, 28, 28, 512)       1180160   \n",
      "_________________________________________________________________\n",
      "block4_conv2 (Conv2D)        (None, 28, 28, 512)       2359808   \n",
      "_________________________________________________________________\n",
      "block4_conv3 (Conv2D)        (None, 28, 28, 512)       2359808   \n",
      "_________________________________________________________________\n",
      "block4_conv4 (Conv2D)        (None, 28, 28, 512)       2359808   \n",
      "_________________________________________________________________\n",
      "block4_pool (MaxPooling2D)   (None, 14, 14, 512)       0         \n",
      "_________________________________________________________________\n",
      "block5_conv1 (Conv2D)        (None, 14, 14, 512)       2359808   \n",
      "_________________________________________________________________\n",
      "block5_conv2 (Conv2D)        (None, 14, 14, 512)       2359808   \n",
      "_________________________________________________________________\n",
      "block5_conv3 (Conv2D)        (None, 14, 14, 512)       2359808   \n",
      "_________________________________________________________________\n",
      "block5_conv4 (Conv2D)        (None, 14, 14, 512)       2359808   \n",
      "_________________________________________________________________\n",
      "block5_pool (MaxPooling2D)   (None, 7, 7, 512)         0         \n",
      "_________________________________________________________________\n",
      "flatten (Flatten)            (None, 25088)             0         \n",
      "_________________________________________________________________\n",
      "dropout_1 (Dropout)          (None, 25088)             0         \n",
      "_________________________________________________________________\n",
      "dense (Dense)                (None, 1)                 25089     \n",
      "=================================================================\n",
      "Total params: 20,049,473\n",
      "Trainable params: 25,089\n",
      "Non-trainable params: 20,024,384\n",
      "_________________________________________________________________\n"
     ]
    }
   ],
   "source": [
    "# Create the base model from the pre-trained model VGG19\n",
    "IMG_SIZE = 224\n",
    "IMG_SHAPE = (IMG_SIZE, IMG_SIZE, 3)\n",
    "base_model = tf.keras.applications.VGG19(input_shape=IMG_SHAPE,\n",
    "                                               include_top=False,\n",
    "                                               weights='imagenet')\n",
    "model = tf.keras.models.Sequential()\n",
    "for layer in base_model.layers:\n",
    "    model.add(layer)\n",
    "    \n",
    "for layer in model.layers:\n",
    "    layer.trainable = False\n",
    "\n",
    "flatten_layer = tf.keras.layers.Flatten()\n",
    "dropout_layer = tf.keras.layers.Dropout(0.5)\n",
    "prediction_layer = tf.keras.layers.Dense(1, activation='sigmoid')\n",
    "\n",
    "model.add(flatten_layer)\n",
    "model.add(tf.keras.layers.Dropout(0.5))\n",
    "model.add(prediction_layer)\n",
    "model.summary()"
   ]
  },
  {
   "cell_type": "markdown",
   "metadata": {},
   "source": [
    "### Salvar modelo"
   ]
  },
  {
   "cell_type": "code",
   "execution_count": 8,
   "metadata": {},
   "outputs": [],
   "source": [
    "base_learning_rate = 0.0001\n",
    "model.compile(optimizer=tf.keras.optimizers.Adam(lr=base_learning_rate),\n",
    "              loss=tf.keras.losses.BinaryCrossentropy(from_logits=True),\n",
    "              metrics=[tf.keras.metrics.BinaryAccuracy(name='accuracy'), tf.keras.metrics.Precision(name='precision'),tf.keras.metrics.Recall(name='recall')]) #"
   ]
  },
  {
   "cell_type": "code",
   "execution_count": 9,
   "metadata": {},
   "outputs": [
    {
     "name": "stdout",
     "output_type": "stream",
     "text": [
      "WARNING:tensorflow:From c:\\users\\red\\appdata\\local\\programs\\python\\python36\\lib\\site-packages\\tensorflow_core\\python\\ops\\resource_variable_ops.py:1786: calling BaseResourceVariable.__init__ (from tensorflow.python.ops.resource_variable_ops) with constraint is deprecated and will be removed in a future version.\n",
      "Instructions for updating:\n",
      "If using Keras pass *_constraint arguments to layers.\n",
      "INFO:tensorflow:Assets written to: cnn_vgg19_pretrainned_raw_rgb_v1\\assets\n"
     ]
    }
   ],
   "source": [
    "model.save('cnn_vgg19_pretrainned_raw_rgb_v1')"
   ]
  },
  {
   "cell_type": "markdown",
   "metadata": {},
   "source": [
    "### Carregar modelo\n",
    "\n",
    "- OBS : Lembrar de ligar GPU"
   ]
  },
  {
   "cell_type": "code",
   "execution_count": 6,
   "metadata": {},
   "outputs": [],
   "source": [
    "model = tf.keras.models.load_model('cnn_vgg19_pretrainned_raw_rgb_v1')"
   ]
  },
  {
   "cell_type": "code",
   "execution_count": 10,
   "metadata": {},
   "outputs": [
    {
     "name": "stdout",
     "output_type": "stream",
     "text": [
      "WARNING:tensorflow:From <ipython-input-10-3e6ddb0f8653>:1: Model.fit_generator (from tensorflow.python.keras.engine.training) is deprecated and will be removed in a future version.\n",
      "Instructions for updating:\n",
      "Please use Model.fit, which supports generators.\n",
      "Train for 140 steps\n",
      "Epoch 1/100\n",
      "140/140 [==============================] - 44s 313ms/step - loss: 0.6845 - accuracy: 0.5270 - precision: 0.7647 - recall: 0.0780\n",
      "Epoch 2/100\n",
      "140/140 [==============================] - 39s 276ms/step - loss: 0.6431 - accuracy: 0.6871 - precision: 0.8595 - recall: 0.4474\n",
      "Epoch 3/100\n",
      "140/140 [==============================] - 38s 273ms/step - loss: 0.6244 - accuracy: 0.7463 - precision: 0.8745 - recall: 0.5751\n",
      "Epoch 4/100\n",
      "140/140 [==============================] - 40s 282ms/step - loss: 0.6143 - accuracy: 0.7709 - precision: 0.8810 - recall: 0.6263\n",
      "Epoch 5/100\n",
      "140/140 [==============================] - 39s 279ms/step - loss: 0.6067 - accuracy: 0.7923 - precision: 0.8852 - recall: 0.6717\n",
      "Epoch 6/100\n",
      "140/140 [==============================] - 39s 278ms/step - loss: 0.6004 - accuracy: 0.8084 - precision: 0.8857 - recall: 0.7083\n",
      "Epoch 7/100\n",
      "140/140 [==============================] - 39s 277ms/step - loss: 0.5950 - accuracy: 0.8256 - precision: 0.8933 - recall: 0.7394\n",
      "Epoch 8/100\n",
      "140/140 [==============================] - 40s 282ms/step - loss: 0.5911 - accuracy: 0.8314 - precision: 0.8962 - recall: 0.7497\n",
      "Epoch 9/100\n",
      "140/140 [==============================] - 39s 276ms/step - loss: 0.5876 - accuracy: 0.8433 - precision: 0.8988 - recall: 0.7737\n",
      "Epoch 10/100\n",
      "140/140 [==============================] - 39s 277ms/step - loss: 0.5836 - accuracy: 0.8550 - precision: 0.9072 - recall: 0.7909\n",
      "Epoch 11/100\n",
      "140/140 [==============================] - 39s 277ms/step - loss: 0.5828 - accuracy: 0.8527 - precision: 0.9004 - recall: 0.7931\n",
      "Epoch 12/100\n",
      "140/140 [==============================] - 39s 278ms/step - loss: 0.5794 - accuracy: 0.8637 - precision: 0.9144 - recall: 0.8026\n",
      "Epoch 13/100\n",
      "140/140 [==============================] - 39s 276ms/step - loss: 0.5764 - accuracy: 0.8716 - precision: 0.9191 - recall: 0.8149\n",
      "Epoch 14/100\n",
      "140/140 [==============================] - 39s 277ms/step - loss: 0.5743 - accuracy: 0.8780 - precision: 0.9189 - recall: 0.8291\n",
      "Epoch 15/100\n",
      "140/140 [==============================] - 39s 278ms/step - loss: 0.5734 - accuracy: 0.8786 - precision: 0.9182 - recall: 0.8311\n",
      "Epoch 16/100\n",
      "140/140 [==============================] - 39s 278ms/step - loss: 0.5712 - accuracy: 0.8847 - precision: 0.9233 - recall: 0.8391\n",
      "Epoch 17/100\n",
      "140/140 [==============================] - 39s 276ms/step - loss: 0.5688 - accuracy: 0.8874 - precision: 0.9272 - recall: 0.8409\n",
      "Epoch 18/100\n",
      "140/140 [==============================] - 39s 280ms/step - loss: 0.5688 - accuracy: 0.8914 - precision: 0.9289 - recall: 0.8477\n",
      "Epoch 19/100\n",
      "140/140 [==============================] - 39s 278ms/step - loss: 0.5671 - accuracy: 0.8919 - precision: 0.9312 - recall: 0.8463\n",
      "Epoch 20/100\n",
      "140/140 [==============================] - 39s 277ms/step - loss: 0.5660 - accuracy: 0.8929 - precision: 0.9302 - recall: 0.8494\n",
      "Epoch 21/100\n",
      "140/140 [==============================] - 39s 275ms/step - loss: 0.5646 - accuracy: 0.8984 - precision: 0.9337 - recall: 0.8577\n",
      "Epoch 22/100\n",
      "140/140 [==============================] - 39s 278ms/step - loss: 0.5632 - accuracy: 0.9017 - precision: 0.9326 - recall: 0.8660\n",
      "Epoch 23/100\n",
      "140/140 [==============================] - 39s 276ms/step - loss: 0.5624 - accuracy: 0.8996 - precision: 0.9310 - recall: 0.8631\n",
      "Epoch 24/100\n",
      "140/140 [==============================] - 40s 287ms/step - loss: 0.5614 - accuracy: 0.9050 - precision: 0.9352 - recall: 0.8703\n",
      "Epoch 25/100\n",
      "140/140 [==============================] - 40s 286ms/step - loss: 0.5601 - accuracy: 0.9047 - precision: 0.9360 - recall: 0.8689\n",
      "Epoch 26/100\n",
      "140/140 [==============================] - 42s 300ms/step - loss: 0.5593 - accuracy: 0.9077 - precision: 0.9361 - recall: 0.8751\n",
      "Epoch 27/100\n",
      "140/140 [==============================] - 39s 280ms/step - loss: 0.5579 - accuracy: 0.9120 - precision: 0.9423 - recall: 0.8777\n",
      "Epoch 28/100\n",
      "140/140 [==============================] - 41s 290ms/step - loss: 0.5577 - accuracy: 0.9083 - precision: 0.9383 - recall: 0.8740\n",
      "Epoch 29/100\n",
      "140/140 [==============================] - 40s 284ms/step - loss: 0.5566 - accuracy: 0.9120 - precision: 0.9399 - recall: 0.8803\n",
      "Epoch 30/100\n",
      "140/140 [==============================] - 39s 278ms/step - loss: 0.5559 - accuracy: 0.9107 - precision: 0.9435 - recall: 0.8737\n",
      "Epoch 31/100\n",
      "140/140 [==============================] - 39s 280ms/step - loss: 0.5544 - accuracy: 0.9173 - precision: 0.9457 - recall: 0.8854\n",
      "Epoch 32/100\n",
      "140/140 [==============================] - 39s 282ms/step - loss: 0.5545 - accuracy: 0.9170 - precision: 0.9424 - recall: 0.8883\n",
      "Epoch 33/100\n",
      "140/140 [==============================] - 39s 281ms/step - loss: 0.5538 - accuracy: 0.9166 - precision: 0.9434 - recall: 0.8863\n",
      "Epoch 34/100\n",
      "140/140 [==============================] - 39s 276ms/step - loss: 0.5524 - accuracy: 0.9210 - precision: 0.9456 - recall: 0.8934\n",
      "Epoch 35/100\n",
      "140/140 [==============================] - 38s 274ms/step - loss: 0.5520 - accuracy: 0.9216 - precision: 0.9459 - recall: 0.8943\n",
      "Epoch 36/100\n",
      "140/140 [==============================] - 38s 274ms/step - loss: 0.5510 - accuracy: 0.9214 - precision: 0.9467 - recall: 0.8931\n",
      "Epoch 37/100\n",
      "140/140 [==============================] - 38s 273ms/step - loss: 0.5511 - accuracy: 0.9239 - precision: 0.9481 - recall: 0.8969\n",
      "Epoch 38/100\n",
      "140/140 [==============================] - 39s 278ms/step - loss: 0.5505 - accuracy: 0.9231 - precision: 0.9474 - recall: 0.8960\n",
      "Epoch 39/100\n",
      "140/140 [==============================] - 38s 274ms/step - loss: 0.5494 - accuracy: 0.9243 - precision: 0.9508 - recall: 0.8949\n",
      "Epoch 40/100\n",
      "140/140 [==============================] - 40s 287ms/step - loss: 0.5493 - accuracy: 0.9276 - precision: 0.9520 - recall: 0.9006\n",
      "Epoch 41/100\n",
      "140/140 [==============================] - 39s 281ms/step - loss: 0.5486 - accuracy: 0.9270 - precision: 0.9527 - recall: 0.8986\n",
      "Epoch 42/100\n",
      "140/140 [==============================] - 39s 278ms/step - loss: 0.5487 - accuracy: 0.9276 - precision: 0.9514 - recall: 0.9011\n",
      "Epoch 43/100\n",
      "140/140 [==============================] - 38s 274ms/step - loss: 0.5477 - accuracy: 0.9301 - precision: 0.9547 - recall: 0.9031\n",
      "Epoch 44/100\n",
      "140/140 [==============================] - 39s 278ms/step - loss: 0.5471 - accuracy: 0.9294 - precision: 0.9500 - recall: 0.9066\n",
      "Epoch 45/100\n",
      "140/140 [==============================] - 39s 276ms/step - loss: 0.5469 - accuracy: 0.9291 - precision: 0.9519 - recall: 0.9040\n",
      "Epoch 46/100\n",
      "140/140 [==============================] - 39s 277ms/step - loss: 0.5459 - accuracy: 0.9337 - precision: 0.9548 - recall: 0.9106\n",
      "Epoch 47/100\n",
      "140/140 [==============================] - 39s 276ms/step - loss: 0.5455 - accuracy: 0.9350 - precision: 0.9573 - recall: 0.9106\n",
      "Epoch 48/100\n",
      "140/140 [==============================] - 39s 278ms/step - loss: 0.5455 - accuracy: 0.9344 - precision: 0.9546 - recall: 0.9123\n",
      "Epoch 49/100\n",
      "140/140 [==============================] - 42s 297ms/step - loss: 0.5437 - accuracy: 0.9374 - precision: 0.9576 - recall: 0.9154\n",
      "Epoch 50/100\n",
      "140/140 [==============================] - 40s 284ms/step - loss: 0.5453 - accuracy: 0.9330 - precision: 0.9536 - recall: 0.9103\n",
      "Epoch 51/100\n",
      "140/140 [==============================] - 39s 277ms/step - loss: 0.5442 - accuracy: 0.9350 - precision: 0.9546 - recall: 0.9134\n",
      "Epoch 52/100\n",
      "140/140 [==============================] - 38s 274ms/step - loss: 0.5421 - accuracy: 0.9424 - precision: 0.9618 - recall: 0.9214\n",
      "Epoch 53/100\n",
      "140/140 [==============================] - 38s 275ms/step - loss: 0.5426 - accuracy: 0.9391 - precision: 0.9588 - recall: 0.9177\n",
      "Epoch 54/100\n",
      "140/140 [==============================] - 39s 281ms/step - loss: 0.5423 - accuracy: 0.9384 - precision: 0.9574 - recall: 0.9177\n",
      "Epoch 55/100\n",
      "140/140 [==============================] - 39s 276ms/step - loss: 0.5423 - accuracy: 0.9400 - precision: 0.9603 - recall: 0.9180\n",
      "Epoch 56/100\n",
      "140/140 [==============================] - 39s 276ms/step - loss: 0.5418 - accuracy: 0.9397 - precision: 0.9611 - recall: 0.9166\n",
      "Epoch 57/100\n",
      "140/140 [==============================] - 39s 275ms/step - loss: 0.5412 - accuracy: 0.9423 - precision: 0.9599 - recall: 0.9231\n",
      "Epoch 58/100\n",
      "140/140 [==============================] - 39s 276ms/step - loss: 0.5407 - accuracy: 0.9433 - precision: 0.9600 - recall: 0.9251\n",
      "Epoch 59/100\n",
      "140/140 [==============================] - 38s 275ms/step - loss: 0.5411 - accuracy: 0.9397 - precision: 0.9556 - recall: 0.9223\n",
      "Epoch 60/100\n",
      "140/140 [==============================] - 38s 273ms/step - loss: 0.5410 - accuracy: 0.9431 - precision: 0.9616 - recall: 0.9231\n",
      "Epoch 61/100\n",
      "140/140 [==============================] - 39s 277ms/step - loss: 0.5397 - accuracy: 0.9441 - precision: 0.9600 - recall: 0.9269\n",
      "Epoch 62/100\n",
      "140/140 [==============================] - 38s 272ms/step - loss: 0.5398 - accuracy: 0.9443 - precision: 0.9636 - recall: 0.9234\n",
      "Epoch 63/100\n",
      "140/140 [==============================] - 38s 273ms/step - loss: 0.5395 - accuracy: 0.9457 - precision: 0.9643 - recall: 0.9257\n",
      "Epoch 64/100\n",
      "140/140 [==============================] - 39s 279ms/step - loss: 0.5387 - accuracy: 0.9463 - precision: 0.9635 - recall: 0.9277\n",
      "Epoch 65/100\n",
      "140/140 [==============================] - 39s 278ms/step - loss: 0.5390 - accuracy: 0.9433 - precision: 0.9597 - recall: 0.9254\n",
      "Epoch 66/100\n",
      "140/140 [==============================] - 39s 280ms/step - loss: 0.5392 - accuracy: 0.9446 - precision: 0.9617 - recall: 0.9260\n",
      "Epoch 67/100\n",
      "140/140 [==============================] - 38s 272ms/step - loss: 0.5377 - accuracy: 0.9494 - precision: 0.9637 - recall: 0.9340\n",
      "Epoch 68/100\n",
      "140/140 [==============================] - 38s 273ms/step - loss: 0.5387 - accuracy: 0.9463 - precision: 0.9627 - recall: 0.9286\n",
      "Epoch 69/100\n",
      "140/140 [==============================] - 38s 273ms/step - loss: 0.5383 - accuracy: 0.9483 - precision: 0.9631 - recall: 0.9323\n",
      "Epoch 70/100\n",
      "140/140 [==============================] - 38s 273ms/step - loss: 0.5378 - accuracy: 0.9483 - precision: 0.9637 - recall: 0.9317\n",
      "Epoch 71/100\n",
      "140/140 [==============================] - 39s 278ms/step - loss: 0.5374 - accuracy: 0.9483 - precision: 0.9664 - recall: 0.9289\n",
      "Epoch 72/100\n",
      "140/140 [==============================] - 38s 274ms/step - loss: 0.5371 - accuracy: 0.9504 - precision: 0.9668 - recall: 0.9329\n",
      "Epoch 73/100\n",
      "140/140 [==============================] - 38s 273ms/step - loss: 0.5375 - accuracy: 0.9474 - precision: 0.9647 - recall: 0.9289\n",
      "Epoch 74/100\n",
      "140/140 [==============================] - 38s 273ms/step - loss: 0.5367 - accuracy: 0.9497 - precision: 0.9643 - recall: 0.9340\n",
      "Epoch 75/100\n",
      "140/140 [==============================] - 38s 274ms/step - loss: 0.5363 - accuracy: 0.9519 - precision: 0.9675 - recall: 0.9351\n",
      "Epoch 76/100\n",
      "140/140 [==============================] - 40s 283ms/step - loss: 0.5367 - accuracy: 0.9496 - precision: 0.9665 - recall: 0.9314\n",
      "Epoch 77/100\n",
      "140/140 [==============================] - 39s 279ms/step - loss: 0.5362 - accuracy: 0.9499 - precision: 0.9657 - recall: 0.9329\n",
      "Epoch 78/100\n",
      "140/140 [==============================] - 39s 282ms/step - loss: 0.5352 - accuracy: 0.9521 - precision: 0.9670 - recall: 0.9363\n",
      "Epoch 79/100\n",
      "140/140 [==============================] - 39s 276ms/step - loss: 0.5355 - accuracy: 0.9526 - precision: 0.9653 - recall: 0.9389\n",
      "Epoch 80/100\n",
      "140/140 [==============================] - 39s 275ms/step - loss: 0.5360 - accuracy: 0.9494 - precision: 0.9676 - recall: 0.9300\n",
      "Epoch 81/100\n",
      "140/140 [==============================] - 40s 284ms/step - loss: 0.5351 - accuracy: 0.9516 - precision: 0.9650 - recall: 0.9371\n",
      "Epoch 82/100\n",
      "140/140 [==============================] - 41s 295ms/step - loss: 0.5350 - accuracy: 0.9524 - precision: 0.9684 - recall: 0.9354\n",
      "Epoch 83/100\n",
      "140/140 [==============================] - 41s 296ms/step - loss: 0.5348 - accuracy: 0.9529 - precision: 0.9673 - recall: 0.9374\n",
      "Epoch 84/100\n",
      "140/140 [==============================] - 42s 297ms/step - loss: 0.5347 - accuracy: 0.9521 - precision: 0.9656 - recall: 0.9377\n",
      "Epoch 85/100\n",
      "140/140 [==============================] - 42s 299ms/step - loss: 0.5351 - accuracy: 0.9513 - precision: 0.9658 - recall: 0.9357\n",
      "Epoch 86/100\n",
      "140/140 [==============================] - 41s 295ms/step - loss: 0.5346 - accuracy: 0.9523 - precision: 0.9675 - recall: 0.9360\n",
      "Epoch 87/100\n",
      "140/140 [==============================] - 42s 297ms/step - loss: 0.5333 - accuracy: 0.9544 - precision: 0.9685 - recall: 0.9394\n",
      "Epoch 88/100\n",
      "140/140 [==============================] - 42s 298ms/step - loss: 0.5344 - accuracy: 0.9524 - precision: 0.9672 - recall: 0.9366\n",
      "Epoch 89/100\n",
      "140/140 [==============================] - 42s 303ms/step - loss: 0.5333 - accuracy: 0.9550 - precision: 0.9693 - recall: 0.9397\n",
      "Epoch 90/100\n",
      "140/140 [==============================] - 42s 298ms/step - loss: 0.5332 - accuracy: 0.9556 - precision: 0.9691 - recall: 0.9411\n",
      "Epoch 91/100\n",
      "140/140 [==============================] - 42s 297ms/step - loss: 0.5337 - accuracy: 0.9531 - precision: 0.9695 - recall: 0.9357\n",
      "Epoch 92/100\n",
      "140/140 [==============================] - 42s 297ms/step - loss: 0.5325 - accuracy: 0.9554 - precision: 0.9677 - recall: 0.9423\n",
      "Epoch 93/100\n",
      "140/140 [==============================] - 42s 297ms/step - loss: 0.5327 - accuracy: 0.9564 - precision: 0.9700 - recall: 0.9420\n",
      "Epoch 94/100\n",
      "140/140 [==============================] - 41s 296ms/step - loss: 0.5326 - accuracy: 0.9553 - precision: 0.9691 - recall: 0.9406\n",
      "Epoch 95/100\n",
      "140/140 [==============================] - 42s 296ms/step - loss: 0.5322 - accuracy: 0.9570 - precision: 0.9703 - recall: 0.9429\n",
      "Epoch 96/100\n",
      "140/140 [==============================] - 42s 297ms/step - loss: 0.5325 - accuracy: 0.9541 - precision: 0.9687 - recall: 0.9386\n",
      "Epoch 97/100\n",
      "140/140 [==============================] - 41s 296ms/step - loss: 0.5330 - accuracy: 0.9531 - precision: 0.9681 - recall: 0.9371\n",
      "Epoch 98/100\n",
      "140/140 [==============================] - 39s 282ms/step - loss: 0.5329 - accuracy: 0.9540 - precision: 0.9707 - recall: 0.9363\n",
      "Epoch 99/100\n",
      "140/140 [==============================] - 39s 275ms/step - loss: 0.5321 - accuracy: 0.9547 - precision: 0.9696 - recall: 0.9389\n",
      "Epoch 100/100\n",
      "140/140 [==============================] - 38s 275ms/step - loss: 0.5317 - accuracy: 0.9550 - precision: 0.9724 - recall: 0.9366\n"
     ]
    }
   ],
   "source": [
    "history = model.fit_generator(train_batches, epochs=100)#, callbacks=[ tf.keras.callbacks.EarlyStopping(monitor='loss', patience=50)])"
   ]
  },
  {
   "cell_type": "markdown",
   "metadata": {},
   "source": [
    "## Training 10x\n",
    "loss: 0.5172 - accuracy: 0.9716 - precision: 0.9794 - recall: 0.9634 (08/07/20) - 1\n",
    "loss: 0.5299 - accuracy: 0.9599 - precision: 0.9661 - recall: 0.9531 (09/07/20) - 2\n",
    "loss: 0.5266 - accuracy: 0.9667 - precision: 0.9736 - recall: 0.9594 (09/07/20) - 3\n",
    "loss: 0.5327 - accuracy: 0.9523 - precision: 0.9623 - recall: 0.9414 (09/07/20) - 4\n",
    "loss: 0.5317 - accuracy: 0.9550 - precision: 0.9724 - recall: 0.9366 (09/07/20) - 5\n",
    "38s/época"
   ]
  },
  {
   "cell_type": "markdown",
   "metadata": {},
   "source": [
    "### Salvar modelo"
   ]
  },
  {
   "cell_type": "code",
   "execution_count": 14,
   "metadata": {},
   "outputs": [
    {
     "name": "stdout",
     "output_type": "stream",
     "text": [
      "INFO:tensorflow:Assets written to: cnn_vgg19_pretrainned_raw_rgb_v1\\assets\n"
     ]
    }
   ],
   "source": [
    "model.save('cnn_vgg19_pretrainned_raw_rgb_v1')"
   ]
  },
  {
   "cell_type": "markdown",
   "metadata": {},
   "source": [
    "### Fine tunning"
   ]
  },
  {
   "cell_type": "code",
   "execution_count": null,
   "metadata": {
    "collapsed": true,
    "jupyter": {
     "outputs_hidden": true
    }
   },
   "outputs": [
    {
     "name": "stdout",
     "output_type": "stream",
     "text": [
      "Train for 140 steps\n",
      "Epoch 1/100\n",
      "140/140 [==============================] - 34s 245ms/step - loss: 0.5169 - accuracy: 0.9744 - precision: 0.9792 - recall: 0.9693\n",
      "Epoch 2/100\n",
      "140/140 [==============================] - 34s 244ms/step - loss: 0.5164 - accuracy: 0.9761 - precision: 0.9798 - recall: 0.9722\n",
      "Epoch 3/100\n",
      "140/140 [==============================] - 34s 244ms/step - loss: 0.5159 - accuracy: 0.9781 - precision: 0.9835 - recall: 0.9725\n",
      "Epoch 4/100\n",
      "140/140 [==============================] - 34s 246ms/step - loss: 0.5157 - accuracy: 0.9770 - precision: 0.9818 - recall: 0.9719\n",
      "Epoch 5/100\n",
      "140/140 [==============================] - 34s 246ms/step - loss: 0.5161 - accuracy: 0.9763 - precision: 0.9798 - recall: 0.9725\n",
      "Epoch 6/100\n",
      "140/140 [==============================] - 34s 245ms/step - loss: 0.5166 - accuracy: 0.9749 - precision: 0.9820 - recall: 0.9673\n",
      "Epoch 7/100\n",
      "140/140 [==============================] - 34s 245ms/step - loss: 0.5157 - accuracy: 0.9777 - precision: 0.9801 - recall: 0.9751\n",
      "Epoch 8/100\n",
      "140/140 [==============================] - 34s 245ms/step - loss: 0.5151 - accuracy: 0.9787 - precision: 0.9821 - recall: 0.9751\n",
      "Epoch 9/100\n",
      "140/140 [==============================] - 34s 245ms/step - loss: 0.5154 - accuracy: 0.9776 - precision: 0.9807 - recall: 0.9742\n",
      "Epoch 10/100\n",
      "140/140 [==============================] - 34s 245ms/step - loss: 0.5161 - accuracy: 0.9757 - precision: 0.9823 - recall: 0.9688\n",
      "Epoch 11/100\n",
      "140/140 [==============================] - 34s 245ms/step - loss: 0.5158 - accuracy: 0.9754 - precision: 0.9814 - recall: 0.9690\n",
      "Epoch 12/100\n",
      "140/140 [==============================] - 34s 246ms/step - loss: 0.5144 - accuracy: 0.9800 - precision: 0.9852 - recall: 0.9745\n",
      "Epoch 13/100\n",
      "140/140 [==============================] - 34s 245ms/step - loss: 0.5160 - accuracy: 0.9763 - precision: 0.9815 - recall: 0.9708\n",
      "Epoch 14/100\n",
      "140/140 [==============================] - 34s 245ms/step - loss: 0.5153 - accuracy: 0.9791 - precision: 0.9830 - recall: 0.9751\n",
      "Epoch 15/100\n",
      "140/140 [==============================] - 34s 245ms/step - loss: 0.5153 - accuracy: 0.9779 - precision: 0.9832 - recall: 0.9722\n",
      "Epoch 16/100\n",
      "140/140 [==============================] - 34s 245ms/step - loss: 0.5153 - accuracy: 0.9771 - precision: 0.9826 - recall: 0.9713\n",
      "Epoch 17/100\n",
      "140/140 [==============================] - 34s 245ms/step - loss: 0.5141 - accuracy: 0.9804 - precision: 0.9858 - recall: 0.9748\n",
      "Epoch 18/100\n",
      "140/140 [==============================] - 34s 246ms/step - loss: 0.5153 - accuracy: 0.9784 - precision: 0.9829 - recall: 0.9736\n",
      "Epoch 19/100\n",
      "140/140 [==============================] - 34s 244ms/step - loss: 0.5156 - accuracy: 0.9771 - precision: 0.9829 - recall: 0.9711\n",
      "Epoch 20/100\n",
      "140/140 [==============================] - 34s 245ms/step - loss: 0.5151 - accuracy: 0.9783 - precision: 0.9829 - recall: 0.9733\n",
      "Epoch 21/100\n",
      "140/140 [==============================] - 34s 244ms/step - loss: 0.5146 - accuracy: 0.9793 - precision: 0.9852 - recall: 0.9731\n",
      "Epoch 22/100\n",
      "140/140 [==============================] - 34s 244ms/step - loss: 0.5143 - accuracy: 0.9793 - precision: 0.9844 - recall: 0.9739\n",
      "Epoch 23/100\n",
      "140/140 [==============================] - 34s 245ms/step - loss: 0.5155 - accuracy: 0.9779 - precision: 0.9812 - recall: 0.9742\n",
      "Epoch 24/100\n",
      "140/140 [==============================] - 34s 244ms/step - loss: 0.5140 - accuracy: 0.9813 - precision: 0.9853 - recall: 0.9771\n",
      "Epoch 25/100\n",
      "140/140 [==============================] - 34s 244ms/step - loss: 0.5146 - accuracy: 0.9790 - precision: 0.9841 - recall: 0.9736\n",
      "Epoch 26/100\n",
      "140/140 [==============================] - 34s 245ms/step - loss: 0.5152 - accuracy: 0.9790 - precision: 0.9818 - recall: 0.9759\n",
      "Epoch 27/100\n",
      "140/140 [==============================] - 34s 246ms/step - loss: 0.5151 - accuracy: 0.9789 - precision: 0.9824 - recall: 0.9751\n",
      "Epoch 28/100\n",
      "140/140 [==============================] - 34s 245ms/step - loss: 0.5138 - accuracy: 0.9814 - precision: 0.9844 - recall: 0.9782\n",
      "Epoch 29/100\n",
      "140/140 [==============================] - 34s 245ms/step - loss: 0.5136 - accuracy: 0.9820 - precision: 0.9850 - recall: 0.9788\n",
      "Epoch 30/100\n",
      "140/140 [==============================] - 34s 245ms/step - loss: 0.5144 - accuracy: 0.9794 - precision: 0.9835 - recall: 0.9751\n",
      "Epoch 31/100\n",
      "140/140 [==============================] - 34s 246ms/step - loss: 0.5136 - accuracy: 0.9819 - precision: 0.9856 - recall: 0.9779\n",
      "Epoch 32/100\n",
      "140/140 [==============================] - 34s 245ms/step - loss: 0.5149 - accuracy: 0.9789 - precision: 0.9827 - recall: 0.9748\n",
      "Epoch 33/100\n",
      "140/140 [==============================] - 34s 245ms/step - loss: 0.5146 - accuracy: 0.9784 - precision: 0.9832 - recall: 0.9733\n",
      "Epoch 34/100\n",
      "140/140 [==============================] - 34s 246ms/step - loss: 0.5152 - accuracy: 0.9784 - precision: 0.9824 - recall: 0.9742\n",
      "Epoch 35/100\n",
      "140/140 [==============================] - 34s 245ms/step - loss: 0.5158 - accuracy: 0.9756 - precision: 0.9823 - recall: 0.9685\n",
      "Epoch 36/100\n",
      "140/140 [==============================] - 34s 245ms/step - loss: 0.5148 - accuracy: 0.9789 - precision: 0.9827 - recall: 0.9748\n",
      "Epoch 37/100\n",
      "140/140 [==============================] - 34s 244ms/step - loss: 0.5154 - accuracy: 0.9770 - precision: 0.9812 - recall: 0.9725\n",
      "Epoch 38/100\n",
      "140/140 [==============================] - 34s 244ms/step - loss: 0.5150 - accuracy: 0.9783 - precision: 0.9832 - recall: 0.9731\n",
      "Epoch 39/100\n",
      "140/140 [==============================] - 34s 244ms/step - loss: 0.5145 - accuracy: 0.9786 - precision: 0.9832 - recall: 0.9736\n",
      "Epoch 40/100\n",
      "140/140 [==============================] - 34s 245ms/step - loss: 0.5151 - accuracy: 0.9773 - precision: 0.9818 - recall: 0.9725\n",
      "Epoch 41/100\n",
      "140/140 [==============================] - 35s 247ms/step - loss: 0.5140 - accuracy: 0.9799 - precision: 0.9841 - recall: 0.9754\n",
      "Epoch 42/100\n",
      "140/140 [==============================] - 35s 251ms/step - loss: 0.5153 - accuracy: 0.9777 - precision: 0.9815 - recall: 0.9736\n",
      "Epoch 43/100\n",
      "140/140 [==============================] - 34s 245ms/step - loss: 0.5142 - accuracy: 0.9794 - precision: 0.9849 - recall: 0.9736\n",
      "Epoch 44/100\n",
      "140/140 [==============================] - 35s 249ms/step - loss: 0.5138 - accuracy: 0.9804 - precision: 0.9847 - recall: 0.9759\n",
      "Epoch 45/100\n",
      "140/140 [==============================] - 34s 245ms/step - loss: 0.5145 - accuracy: 0.9784 - precision: 0.9829 - recall: 0.9736\n",
      "Epoch 46/100\n",
      "140/140 [==============================] - 34s 246ms/step - loss: 0.5150 - accuracy: 0.9769 - precision: 0.9818 - recall: 0.9716\n",
      "Epoch 47/100\n",
      "140/140 [==============================] - 35s 249ms/step - loss: 0.5150 - accuracy: 0.9790 - precision: 0.9824 - recall: 0.9754\n",
      "Epoch 48/100\n",
      "140/140 [==============================] - 35s 247ms/step - loss: 0.5140 - accuracy: 0.9807 - precision: 0.9844 - recall: 0.9768\n",
      "Epoch 49/100\n",
      "140/140 [==============================] - 35s 250ms/step - loss: 0.5134 - accuracy: 0.9817 - precision: 0.9856 - recall: 0.9776\n",
      "Epoch 50/100\n",
      "140/140 [==============================] - 35s 252ms/step - loss: 0.5135 - accuracy: 0.9816 - precision: 0.9841 - recall: 0.9788\n",
      "Epoch 51/100\n",
      "140/140 [==============================] - 35s 248ms/step - loss: 0.5133 - accuracy: 0.9816 - precision: 0.9872 - recall: 0.9756\n",
      "Epoch 52/100\n",
      "140/140 [==============================] - 35s 250ms/step - loss: 0.5144 - accuracy: 0.9784 - precision: 0.9826 - recall: 0.9739\n",
      "Epoch 53/100\n",
      "140/140 [==============================] - 37s 266ms/step - loss: 0.5146 - accuracy: 0.9796 - precision: 0.9821 - recall: 0.9768\n",
      "Epoch 54/100\n",
      "140/140 [==============================] - 35s 251ms/step - loss: 0.5139 - accuracy: 0.9800 - precision: 0.9858 - recall: 0.9739\n",
      "Epoch 55/100\n",
      "140/140 [==============================] - 36s 254ms/step - loss: 0.5147 - accuracy: 0.9781 - precision: 0.9840 - recall: 0.9719\n",
      "Epoch 56/100\n",
      "140/140 [==============================] - 35s 251ms/step - loss: 0.5133 - accuracy: 0.9819 - precision: 0.9861 - recall: 0.9774\n",
      "Epoch 57/100\n",
      "140/140 [==============================] - 34s 245ms/step - loss: 0.5146 - accuracy: 0.9779 - precision: 0.9846 - recall: 0.9708\n",
      "Epoch 58/100\n",
      "140/140 [==============================] - 35s 253ms/step - loss: 0.5143 - accuracy: 0.9790 - precision: 0.9843 - recall: 0.9733\n",
      "Epoch 59/100\n",
      "140/140 [==============================] - 35s 249ms/step - loss: 0.5136 - accuracy: 0.9820 - precision: 0.9844 - recall: 0.9794\n",
      "Epoch 60/100\n",
      "140/140 [==============================] - 35s 248ms/step - loss: 0.5143 - accuracy: 0.9787 - precision: 0.9846 - recall: 0.9725\n",
      "Epoch 61/100\n",
      "140/140 [==============================] - 35s 250ms/step - loss: 0.5134 - accuracy: 0.9813 - precision: 0.9847 - recall: 0.9776\n",
      "Epoch 62/100\n",
      "140/140 [==============================] - 35s 253ms/step - loss: 0.5131 - accuracy: 0.9817 - precision: 0.9861 - recall: 0.9771\n",
      "Epoch 63/100\n",
      "140/140 [==============================] - 36s 255ms/step - loss: 0.5145 - accuracy: 0.9781 - precision: 0.9843 - recall: 0.9716\n",
      "Epoch 64/100\n",
      "140/140 [==============================] - 45s 324ms/step - loss: 0.5134 - accuracy: 0.9810 - precision: 0.9855 - recall: 0.9762\n",
      "Epoch 65/100\n",
      "140/140 [==============================] - 40s 287ms/step - loss: 0.5144 - accuracy: 0.9794 - precision: 0.9824 - recall: 0.9762\n",
      "Epoch 66/100\n",
      "140/140 [==============================] - 38s 270ms/step - loss: 0.5141 - accuracy: 0.9787 - precision: 0.9821 - recall: 0.9751\n",
      "Epoch 67/100\n",
      "  6/140 [>.............................] - ETA: 5:05 - loss: 0.5124 - accuracy: 0.9567 - precision: 0.9797 - recall: 0.9355"
     ]
    }
   ],
   "source": [
    "model.trainable = True\n",
    "history = model.fit_generator(train_batches, epochs=100, callbacks=[ tf.keras.callbacks.EarlyStopping(monitor='loss', patience=50)])"
   ]
  },
  {
   "cell_type": "code",
   "execution_count": 15,
   "metadata": {},
   "outputs": [],
   "source": [
    "import pickle\n",
    "with open('trainHistoryDictVGG19-5.pkl', 'wb') as file_pi:\n",
    "    pickle.dump(history.history, file_pi)"
   ]
  },
  {
   "cell_type": "code",
   "execution_count": null,
   "metadata": {},
   "outputs": [],
   "source": [
    "loss = history.history['loss']\n",
    "accuracy = history.history['accuracy']\n",
    "precision = history.history['precision']\n",
    "recall = history.history['recall']\n",
    "x = list(range(100))*4\n",
    "y = loss + accuracy + precision + recall\n",
    "metric = ['loss']*100 + ['accuracy']*100 + ['precision']*100 + ['recall']*100"
   ]
  },
  {
   "cell_type": "markdown",
   "metadata": {},
   "source": [
    "# Avaliação do modelo\n",
    "## Dataset de teste"
   ]
  },
  {
   "cell_type": "code",
   "execution_count": 13,
   "metadata": {},
   "outputs": [
    {
     "name": "stdout",
     "output_type": "stream",
     "text": [
      "\n",
      "Test accuracy: 0.97057146\n",
      "\n",
      "Test precision: 0.97683847\n",
      "\n",
      "Test recall: 0.964\n"
     ]
    }
   ],
   "source": [
    "#test_batch = test_ds.batch(150)\n",
    "#with tf.device('/cpu:0'):\n",
    "features = np.array([list(x[0].numpy()) for x in list(test_ds)])\n",
    "labels = np.array([x[1].numpy() for x in list(test_ds)])\n",
    "test_loss, test_acc, test_prec, test_rec = model.evaluate(x=features, y=labels, verbose=0)\n",
    "\n",
    "print('\\nTest accuracy:', test_acc)\n",
    "print('\\nTest precision:', test_prec)\n",
    "print('\\nTest recall:', test_rec)"
   ]
  },
  {
   "cell_type": "code",
   "execution_count": 6,
   "metadata": {},
   "outputs": [
    {
     "name": "stdout",
     "output_type": "stream",
     "text": [
      "\n",
      "Test accuracy: 0.9308571\n",
      "\n",
      "Test precision: 0.9308571\n",
      "\n",
      "Test recall: 0.9308571\n",
      "36.53068518638611mins\n"
     ]
    }
   ],
   "source": [
    "#test_batch = test_ds.batch(150)\n",
    "#with tf.device('/cpu:0'):\n",
    "features = np.array([list(x[0].numpy()) for x in list(test_ds)])\n",
    "labels = np.array([x[1].numpy() for x in list(test_ds)])\n",
    "import time\n",
    "start = time.time()\n",
    "test_loss, test_acc, test_prec, test_rec = model.evaluate(x=features, y=labels, verbose=0)\n",
    "end = time.time()\n",
    "interval = (end - start)\n",
    "\n",
    "\n",
    "print('\\nTest accuracy:', test_acc)\n",
    "print('\\nTest precision:', test_prec)\n",
    "print('\\nTest recall:', test_rec)\n",
    "print(str(interval) + 'segs')"
   ]
  },
  {
   "cell_type": "markdown",
   "metadata": {},
   "source": [
    "## Lr=0.0001\n",
    "\n",
    "Test accuracy: 0.98642856 Test precision: 0.98712444 Test recall: 0.98571426 (08/07/20) - 1\n",
    "Test accuracy: 0.9714286  Test precision: 0.97386557 Test recall: 0.96885717 (09/07/20) - 2\n",
    "Test accuracy: 0.97642857 Test precision: 0.979029   Test recall: 0.9737143   (09/07/20) - 3\n",
    "Test accuracy: 0.9677143  Test precision: 0.97642606 Test recall: 0.95857143 (09/07/20) - 4\n",
    "Test accuracy: 0.97057146 Test precision: 0.97683847 Test recall: 0.964      (09/07/20) - 5\n",
    "\n",
    "36.5 seg/7000 instâncias"
   ]
  },
  {
   "cell_type": "markdown",
   "metadata": {},
   "source": [
    "## Dataset de validação"
   ]
  },
  {
   "cell_type": "code",
   "execution_count": 25,
   "metadata": {},
   "outputs": [],
   "source": [
    "features = None\n",
    "labels = None"
   ]
  },
  {
   "cell_type": "code",
   "execution_count": 8,
   "metadata": {},
   "outputs": [],
   "source": [
    "features = np.array([list(x[0].numpy()) for x in list(validation_ds)])\n",
    "labels = np.array([x[1].numpy() for x in list(validation_ds)])"
   ]
  },
  {
   "cell_type": "code",
   "execution_count": 9,
   "metadata": {},
   "outputs": [
    {
     "name": "stdout",
     "output_type": "stream",
     "text": [
      "\n",
      "Validation accuracy: 0.8464\n",
      "\n",
      "Validation precision: 0.060728744\n",
      "\n",
      "Validation recall: 0.3846154\n",
      "74.31380820274353segs\n"
     ]
    }
   ],
   "source": [
    "import time\n",
    "start = time.time()\n",
    "test_loss, test_acc, test_prec, test_rec = model.evaluate(x=features, y=labels, verbose=0)\n",
    "end = time.time()\n",
    "interval = (end - start)\n",
    "print('\\nValidation accuracy:', test_acc)\n",
    "print('\\nValidation precision:', test_prec)\n",
    "print('\\nValidation recall:', test_rec)\n",
    "print(str(interval) + 'segs')"
   ]
  },
  {
   "cell_type": "code",
   "execution_count": 10,
   "metadata": {},
   "outputs": [
    {
     "data": {
      "text/plain": [
       "10000"
      ]
     },
     "execution_count": 10,
     "metadata": {},
     "output_type": "execute_result"
    }
   ],
   "source": []
  },
  {
   "cell_type": "markdown",
   "metadata": {},
   "source": [
    "## 10x Trial\n",
    "\n",
    "Validation accuracy: 0.8354 Validation precision: 0.31085044  Validation recall: 0.5294705  (08/07/20) - 1\n",
    "Validation accuracy: 0.918 \tValidation precision: 0.5721519   Validation recall: 0.86259544 (09/07/20) - 2\n",
    "Validation accuracy: 0.7709\tValidation precision: 0.28885135  Validation recall: 0.3329007  (09/07/20) - 3\n",
    "Validation accuracy: 0.9318 Validation precision: 0.09090909  Validation recall: 0.24299066 (09/07/20) - 4\n",
    "Validation accuracy: 0.851\tValidation precision: 0.054204307 Validation recall: 0.3768116  (09/07/20) - 5\n",
    "\n",
    "74.3 seg / 10000 instâncias"
   ]
  },
  {
   "cell_type": "code",
   "execution_count": 18,
   "metadata": {},
   "outputs": [
    {
     "data": {
      "text/plain": [
       "0.468952"
      ]
     },
     "execution_count": 18,
     "metadata": {},
     "output_type": "execute_result"
    }
   ],
   "source": [
    "import numpy as np\n",
    "np.mean([\n",
    " 0.52947,\n",
    "0.86259,\n",
    "0.33290,\n",
    "0.24299,\n",
    "0.37681,\n",
    "])"
   ]
  },
  {
   "cell_type": "markdown",
   "metadata": {},
   "source": [
    "100 Épocas de treinamento (7000 instâncias de treinamento)\n",
    "\n",
    "Test accuracy: 0.9406667\n",
    "\n",
    "Test precision: 0.95264244\n",
    "\n",
    "Test recall: 0.9271877\n",
    "\n",
    "\n",
    "Dataset de validação (10000 instâncias de frames de vídeos aleatórios não utilizados no treinamento)\n",
    "\n",
    "Validation accuracy: 0.8686\n",
    "\n",
    "Validation precision: 0.3448276\n",
    "\n",
    "Validation recall: 0.5274972"
   ]
  },
  {
   "cell_type": "code",
   "execution_count": 9,
   "metadata": {},
   "outputs": [
    {
     "data": {
      "image/png": "[encoded data removed]",
      "text/plain": [
       "<Figure size 576x432 with 2 Axes>"
      ]
     },
     "metadata": {
      "needs_background": "light"
     },
     "output_type": "display_data"
    }
   ],
   "source": [
    "c_labels = [int(x) for x in labels]\n",
    "predictions = model.predict_classes(features, batch_size=None)\n",
    "pred = [x[0] for x in list(predictions)]\n",
    "mat = tf.math.confusion_matrix(c_labels, pred)\n",
    "df = pd.DataFrame(mat.numpy(), columns=['AP','AN'], index=['PP','PN'])\n",
    "fig, ax = plt.subplots(figsize=(8,6))\n",
    "sns.heatmap(df, cmap=\"Blues\", annot=True, fmt=\"d\", xticklabels=['Negative','Positive'], yticklabels=['Negative','Positive'])\n",
    "ax.set_ylim([2,0])\n",
    "plt.ylabel('Actual')\n",
    "plt.xlabel('Predicted')\n",
    "plt.title('VGG16 Raw RGB, Test Dataset Evaluation')\n",
    "plt.show()"
   ]
  },
  {
   "cell_type": "code",
   "execution_count": 18,
   "metadata": {},
   "outputs": [
    {
     "data": {
      "text/plain": [
       "<tf.Tensor: shape=(2, 2), dtype=int32, numpy=\n",
       "array([[2841,   99],\n",
       "       [  75, 2854]])>"
      ]
     },
     "execution_count": 18,
     "metadata": {},
     "output_type": "execute_result"
    }
   ],
   "source": [
    "mat"
   ]
  },
  {
   "cell_type": "code",
   "execution_count": 15,
   "metadata": {},
   "outputs": [
    {
     "data": {
      "text/plain": [
       "9828"
      ]
     },
     "execution_count": 15,
     "metadata": {},
     "output_type": "execute_result"
    }
   ],
   "source": [
    "pred.count(0)"
   ]
  },
  {
   "cell_type": "code",
   "execution_count": 11,
   "metadata": {},
   "outputs": [
    {
     "data": {
      "text/plain": [
       "\u001b[1;31mSignature:\u001b[0m\n",
       "\u001b[0mtf\u001b[0m\u001b[1;33m.\u001b[0m\u001b[0mmath\u001b[0m\u001b[1;33m.\u001b[0m\u001b[0mconfusion_matrix\u001b[0m\u001b[1;33m(\u001b[0m\u001b[1;33m\n",
       "\u001b[0m    \u001b[0mlabels\u001b[0m\u001b[1;33m,\u001b[0m\u001b[1;33m\n",
       "\u001b[0m    \u001b[0mpredictions\u001b[0m\u001b[1;33m,\u001b[0m\u001b[1;33m\n",
       "\u001b[0m    \u001b[0mnum_classes\u001b[0m\u001b[1;33m=\u001b[0m\u001b[1;32mNone\u001b[0m\u001b[1;33m,\u001b[0m\u001b[1;33m\n",
       "\u001b[0m    \u001b[0mweights\u001b[0m\u001b[1;33m=\u001b[0m\u001b[1;32mNone\u001b[0m\u001b[1;33m,\u001b[0m\u001b[1;33m\n",
       "\u001b[0m    \u001b[0mdtype\u001b[0m\u001b[1;33m=\u001b[0m\u001b[0mtf\u001b[0m\u001b[1;33m.\u001b[0m\u001b[0mint32\u001b[0m\u001b[1;33m,\u001b[0m\u001b[1;33m\n",
       "\u001b[0m    \u001b[0mname\u001b[0m\u001b[1;33m=\u001b[0m\u001b[1;32mNone\u001b[0m\u001b[1;33m,\u001b[0m\u001b[1;33m\n",
       "\u001b[0m\u001b[1;33m)\u001b[0m\u001b[1;33m\u001b[0m\u001b[1;33m\u001b[0m\u001b[0m\n",
       "\u001b[1;31mDocstring:\u001b[0m\n",
       "Computes the confusion matrix from predictions and labels.\n",
       "\n",
       "The matrix columns represent the prediction labels and the rows represent the\n",
       "real labels. The confusion matrix is always a 2-D array of shape `[n, n]`,\n",
       "where `n` is the number of valid labels for a given classification task. Both\n",
       "prediction and labels must be 1-D arrays of the same shape in order for this\n",
       "function to work.\n",
       "\n",
       "If `num_classes` is `None`, then `num_classes` will be set to one plus the\n",
       "maximum value in either predictions or labels. Class labels are expected to\n",
       "start at 0. For example, if `num_classes` is 3, then the possible labels\n",
       "would be `[0, 1, 2]`.\n",
       "\n",
       "If `weights` is not `None`, then each prediction contributes its\n",
       "corresponding weight to the total value of the confusion matrix cell.\n",
       "\n",
       "For example:\n",
       "\n",
       "```python\n",
       "  tf.math.confusion_matrix([1, 2, 4], [2, 2, 4]) ==>\n",
       "      [[0 0 0 0 0]\n",
       "       [0 0 1 0 0]\n",
       "       [0 0 1 0 0]\n",
       "       [0 0 0 0 0]\n",
       "       [0 0 0 0 1]]\n",
       "```\n",
       "\n",
       "Note that the possible labels are assumed to be `[0, 1, 2, 3, 4]`,\n",
       "resulting in a 5x5 confusion matrix.\n",
       "\n",
       "Args:\n",
       "  labels: 1-D `Tensor` of real labels for the classification task.\n",
       "  predictions: 1-D `Tensor` of predictions for a given classification.\n",
       "  num_classes: The possible number of labels the classification task can\n",
       "               have. If this value is not provided, it will be calculated\n",
       "               using both predictions and labels array.\n",
       "  weights: An optional `Tensor` whose shape matches `predictions`.\n",
       "  dtype: Data type of the confusion matrix.\n",
       "  name: Scope name.\n",
       "\n",
       "Returns:\n",
       "  A `Tensor` of type `dtype` with shape `[n, n]` representing the confusion\n",
       "  matrix, where `n` is the number of possible labels in the classification\n",
       "  task.\n",
       "\n",
       "Raises:\n",
       "  ValueError: If both predictions and labels are not 1-D vectors and have\n",
       "    mismatched shapes, or if `weights` is not `None` and its shape doesn't\n",
       "    match `predictions`.\n",
       "\u001b[1;31mFile:\u001b[0m      c:\\users\\red\\appdata\\local\\programs\\python\\python36\\lib\\site-packages\\tensorflow_core\\python\\ops\\confusion_matrix.py\n",
       "\u001b[1;31mType:\u001b[0m      function\n"
      ]
     },
     "metadata": {},
     "output_type": "display_data"
    }
   ],
   "source": [
    "tf.math.confusion_matrix?"
   ]
  },
  {
   "cell_type": "code",
   "execution_count": null,
   "metadata": {},
   "outputs": [],
   "source": []
  }
 ],
 "metadata": {
  "kernelspec": {
   "display_name": "Python 3",
   "language": "python",
   "name": "python3"
  },
  "language_info": {
   "codemirror_mode": {
    "name": "ipython",
    "version": 3
   },
   "file_extension": ".py",
   "mimetype": "text/x-python",
   "name": "python",
   "nbconvert_exporter": "python",
   "pygments_lexer": "ipython3",
   "version": "3.6.8"
  }
 },
 "nbformat": 4,
 "nbformat_minor": 4
}
