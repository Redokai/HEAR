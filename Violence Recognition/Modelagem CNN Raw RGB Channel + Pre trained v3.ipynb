{
 "cells": [
  {
   "cell_type": "markdown",
   "metadata": {},
   "source": [
    "# Modelagem e arquitetura CNN\n",
    "\n",
    "## Modelo de canal único Raw RGB pré treinado VGG 16 + IMAGENET (Top layers off)\n",
    "\n",
    "### Conteúdo\n",
    "\n",
    "- Ingestão\n",
    "- Pré processamento\n",
    "- Modelagem da rede\n",
    "- Treinamento\n",
    "- Teste\n",
    "- Validação\n",
    "- Resultados\n",
    "\n",
    "### Importações e parâmetros"
   ]
  },
  {
   "cell_type": "code",
   "execution_count": 1,
   "metadata": {},
   "outputs": [],
   "source": [
    "import os\n",
    "import matplotlib.pyplot as plt\n",
    "import seaborn as sns\n",
    "from sklearn.metrics import accuracy_score\n",
    "from sklearn.metrics import precision_score\n",
    "from sklearn.metrics import recall_score\n",
    "#os.environ[\"CUDA_VISIBLE_DEVICES\"] = \"-1\"\n",
    "import numpy as np\n",
    "import pandas as pd\n",
    "import cv2 as cv\n",
    "import matplotlib.pyplot as plt\n",
    "import tensorflow as tf\n",
    "#import tensorflow_datasets as tfds\n",
    "#tfds.disable_progress_bar()\n",
    "\n",
    "videos_table_path = 'manual_frame_classification.csv'\n",
    "videos_table_path_validation = 'manual_frame_validation.csv'\n",
    "max_positive_cases = 5000\n",
    "max_validation_cases = 10000\n",
    "preprocess_training_test = True\n",
    "preprocess_validation = False"
   ]
  },
  {
   "cell_type": "markdown",
   "metadata": {},
   "source": [
    "### Ingestão"
   ]
  },
  {
   "cell_type": "code",
   "execution_count": 2,
   "metadata": {},
   "outputs": [],
   "source": [
    "def decode_img(img):\n",
    "    img = tf.image.decode_jpeg(img, channels=3)\n",
    "    img = tf.image.convert_image_dtype(img, tf.float32)\n",
    "    return img\n",
    "\n",
    "def process_path(file_path):\n",
    "    img = tf.io.read_file(file_path, )\n",
    "    img = decode_img(img)\n",
    "    return img\n",
    "\n",
    "def process_label(label):\n",
    "    return label == 'POS'\n",
    "\n",
    "def process_dataframe(dataframe):\n",
    "    xs = []\n",
    "    ys = []\n",
    "    with tf.device('/cpu:0'):\n",
    "        for i,row in dataframe.iterrows():\n",
    "            path = row['path']\n",
    "            label = row['violence']\n",
    "            xs.append(process_path(path))\n",
    "            ys.append(process_label(label))\n",
    "        return tf.data.Dataset.from_tensor_slices((xs,ys))"
   ]
  },
  {
   "cell_type": "code",
   "execution_count": 3,
   "metadata": {},
   "outputs": [
    {
     "name": "stderr",
     "output_type": "stream",
     "text": [
      "c:\\users\\red\\appdata\\local\\programs\\python\\python36\\lib\\site-packages\\IPython\\core\\interactiveshell.py:3051: DtypeWarning: Columns (6,7) have mixed types. Specify dtype option on import or set low_memory=False.\n",
      "  interactivity=interactivity, compiler=compiler, result=result)\n"
     ]
    },
    {
     "name": "stdout",
     "output_type": "stream",
     "text": [
      "Train/test dataset cases :10000\n",
      "Validation dataset cases :29370\n"
     ]
    }
   ],
   "source": [
    "#IMPORT\n",
    "frames_df = pd.read_csv(videos_table_path, sep=';', index_col=0)\n",
    "video_list = frames_df[frames_df['load'] == 'X']['video'].unique()\n",
    "\n",
    "#SEGREGATE\n",
    "msk = np.random.rand(len(video_list)) < 0.9\n",
    "train_test_videos = video_list[msk]\n",
    "validation_videos =  video_list[~msk]\n",
    "train_test_df = frames_df.loc[frames_df['video'].isin(train_test_videos)]\n",
    "validation_df = frames_df.loc[frames_df['video'].isin(validation_videos)]\n",
    "\n",
    "\n",
    "neg_df = train_test_df[train_test_df['violence'] == 'NEG'][['path','violence']]\n",
    "pos_df = train_test_df[train_test_df['violence'] == 'POS'][['path','violence']]\n",
    "\n",
    "#SHUFFLE\n",
    "neg_df = neg_df.sample(frac=1).reset_index(drop=True)\n",
    "pos_df = pos_df.sample(frac=1).reset_index(drop=True)\n",
    "validation_df = validation_df.sample(frac=1).reset_index(drop=True)\n",
    "\n",
    "#RESIZE\n",
    "pos_df = pos_df.head(min([len(pos_df),max_positive_cases]))\n",
    "neg_df = neg_df.head(len(pos_df))\n",
    "\n",
    "#MERGE\n",
    "merged_df = pd.concat([pos_df, neg_df], ignore_index=True)\n",
    "dataset_length = len(merged_df)\n",
    "validation_length = len(validation_df)\n",
    "\n",
    "print('Train/test dataset cases :' + str(dataset_length))\n",
    "print('Validation dataset cases :' + str(validation_length))"
   ]
  },
  {
   "cell_type": "markdown",
   "metadata": {},
   "source": [
    "### Pré processamento"
   ]
  },
  {
   "cell_type": "markdown",
   "metadata": {},
   "source": [
    "### Observações\n",
    "\n",
    "Dataset claramente tendencioso (biased), será necessário tratar o desbalanceamento na fase de préprocessamento a fim de manter uma RN bem treinada.\n",
    "\n",
    "#### Tarefas\n",
    "- Separação do dataset em:\n",
    "    - Dataset de treinamento (70%)\n",
    "    - Dataset de teste (30%)\n",
    "\n",
    "    \n",
    "OBS: Todos os datasets devem estar balanceados! Portanto a medida balizadora será o gargalo atual: número de casos positivos. "
   ]
  },
  {
   "cell_type": "code",
   "execution_count": 7,
   "metadata": {},
   "outputs": [],
   "source": [
    "validation_df = pd.read_csv('validation_shuffled_df.csv', sep=';')\n",
    "validation_length = len(validation_df)"
   ]
  },
  {
   "cell_type": "code",
   "execution_count": 4,
   "metadata": {},
   "outputs": [
    {
     "name": "stdout",
     "output_type": "stream",
     "text": [
      "Train DataFrame size: 7000\n",
      "Test DataFrame size: 3000\n",
      "Validation DataFrame size: 29370\n"
     ]
    }
   ],
   "source": [
    "#train_ds = None\n",
    "#test_ds = None\n",
    "#validation_ds = None\n",
    "\n",
    "#RESHUFLE\n",
    "shuffled_df = merged_df.sample(frac=1).reset_index(drop=True)\n",
    "validation_shuffled_df = validation_df.sample(frac=max_validation_cases/validation_length).reset_index(drop=True)\n",
    "\n",
    "#PROCESS\n",
    "if preprocess_training_test:\n",
    "    complete_dataset = process_dataframe(shuffled_df)\n",
    "if preprocess_validation:\n",
    "    validation_ds = process_dataframe(validation_shuffled_df)\n",
    "\n",
    "#SEPARATE\n",
    "if preprocess_training_test:\n",
    "    train_ds = complete_dataset.take(int(dataset_length*0.7))\n",
    "    test_ds = complete_dataset.skip(int(dataset_length*0.7))\n",
    "\n",
    "print('Train DataFrame size: ' + str(int(dataset_length*0.7)))\n",
    "print('Test DataFrame size: ' + str(dataset_length - int(dataset_length*0.7)))\n",
    "print('Validation DataFrame size: ' + str(int(validation_length)))\n",
    "\n",
    "### Clear unused data\n",
    "frames_df = None\n",
    "neg_df = None\n",
    "pos_df = None\n",
    "#merged_df = None\n",
    "#shuffled_df = None\n",
    "complete_dataset = None"
   ]
  },
  {
   "cell_type": "code",
   "execution_count": 5,
   "metadata": {},
   "outputs": [],
   "source": [
    "validation_shuffled_df.to_csv('validation_shuffled_df.csv', sep=';')"
   ]
  },
  {
   "cell_type": "code",
   "execution_count": 5,
   "metadata": {},
   "outputs": [],
   "source": [
    "train_batches = train_ds.shuffle(100).batch(32)"
   ]
  },
  {
   "cell_type": "markdown",
   "metadata": {},
   "source": [
    "### Ponto de execução para treinamento\n",
    "\n",
    "Caso queira seguir com a criação do modelo executar os blocos a seguir"
   ]
  },
  {
   "cell_type": "code",
   "execution_count": 6,
   "metadata": {},
   "outputs": [
    {
     "data": {
      "text/plain": [
       "TensorShape([50, 224, 224, 3])"
      ]
     },
     "execution_count": 6,
     "metadata": {},
     "output_type": "execute_result"
    }
   ],
   "source": [
    "for image_batch, label_batch in train_batches.take(1):\n",
    "   pass\n",
    "\n",
    "image_batch.shape"
   ]
  },
  {
   "cell_type": "markdown",
   "metadata": {},
   "source": [
    "### Modelagem da CNN"
   ]
  },
  {
   "cell_type": "code",
   "execution_count": 9,
   "metadata": {},
   "outputs": [
    {
     "name": "stdout",
     "output_type": "stream",
     "text": [
      "Model: \"sequential_1\"\n",
      "_________________________________________________________________\n",
      "Layer (type)                 Output Shape              Param #   \n",
      "=================================================================\n",
      "block1_conv1 (Conv2D)        (None, 224, 224, 64)      1792      \n",
      "_________________________________________________________________\n",
      "block1_conv2 (Conv2D)        (None, 224, 224, 64)      36928     \n",
      "_________________________________________________________________\n",
      "block1_pool (MaxPooling2D)   (None, 112, 112, 64)      0         \n",
      "_________________________________________________________________\n",
      "block2_conv1 (Conv2D)        (None, 112, 112, 128)     73856     \n",
      "_________________________________________________________________\n",
      "block2_conv2 (Conv2D)        (None, 112, 112, 128)     147584    \n",
      "_________________________________________________________________\n",
      "block2_pool (MaxPooling2D)   (None, 56, 56, 128)       0         \n",
      "_________________________________________________________________\n",
      "block3_conv1 (Conv2D)        (None, 56, 56, 256)       295168    \n",
      "_________________________________________________________________\n",
      "block3_conv2 (Conv2D)        (None, 56, 56, 256)       590080    \n",
      "_________________________________________________________________\n",
      "block3_conv3 (Conv2D)        (None, 56, 56, 256)       590080    \n",
      "_________________________________________________________________\n",
      "block3_pool (MaxPooling2D)   (None, 28, 28, 256)       0         \n",
      "_________________________________________________________________\n",
      "block4_conv1 (Conv2D)        (None, 28, 28, 512)       1180160   \n",
      "_________________________________________________________________\n",
      "block4_conv2 (Conv2D)        (None, 28, 28, 512)       2359808   \n",
      "_________________________________________________________________\n",
      "block4_conv3 (Conv2D)        (None, 28, 28, 512)       2359808   \n",
      "_________________________________________________________________\n",
      "block4_pool (MaxPooling2D)   (None, 14, 14, 512)       0         \n",
      "_________________________________________________________________\n",
      "block5_conv1 (Conv2D)        (None, 14, 14, 512)       2359808   \n",
      "_________________________________________________________________\n",
      "block5_conv2 (Conv2D)        (None, 14, 14, 512)       2359808   \n",
      "_________________________________________________________________\n",
      "block5_conv3 (Conv2D)        (None, 14, 14, 512)       2359808   \n",
      "_________________________________________________________________\n",
      "block5_pool (MaxPooling2D)   (None, 7, 7, 512)         0         \n",
      "_________________________________________________________________\n",
      "flatten_1 (Flatten)          (None, 25088)             0         \n",
      "_________________________________________________________________\n",
      "dropout (Dropout)            (None, 25088)             0         \n",
      "_________________________________________________________________\n",
      "dense_1 (Dense)              (None, 1)                 25089     \n",
      "=================================================================\n",
      "Total params: 14,739,777\n",
      "Trainable params: 25,089\n",
      "Non-trainable params: 14,714,688\n",
      "_________________________________________________________________\n"
     ]
    }
   ],
   "source": [
    "# Create the base model from the pre-trained model VGG16\n",
    "IMG_SIZE = 224\n",
    "IMG_SHAPE = (IMG_SIZE, IMG_SIZE, 3)\n",
    "base_model = tf.keras.applications.VGG16(input_shape=IMG_SHAPE,\n",
    "                                               include_top=False,\n",
    "                                               weights='imagenet')\n",
    "model = tf.keras.models.Sequential()\n",
    "for layer in base_model.layers:\n",
    "    model.add(layer)\n",
    "    \n",
    "for layer in model.layers:\n",
    "    layer.trainable = False\n",
    "\n",
    "flatten_layer = tf.keras.layers.Flatten()\n",
    "dropout_layer = tf.keras.layers.Dropout(0.5)\n",
    "prediction_layer = tf.keras.layers.Dense(1, activation='sigmoid')\n",
    "\n",
    "model.add(flatten_layer)\n",
    "#model.add(tf.keras.layers.Dense(4096, activation='relu'))\n",
    "#model.add(tf.keras.layers.Dense(4096, activation='relu'))\n",
    "model.add(dropout_layer)\n",
    "model.add(prediction_layer)\n",
    "model.summary()"
   ]
  },
  {
   "cell_type": "markdown",
   "metadata": {},
   "source": [
    "### Salvar modelo"
   ]
  },
  {
   "cell_type": "code",
   "execution_count": 15,
   "metadata": {},
   "outputs": [],
   "source": [
    "base_learning_rate = 0.1\n",
    "model.compile(optimizer=tf.keras.optimizers.Adam(lr=base_learning_rate),\n",
    "              loss=tf.keras.losses.BinaryCrossentropy(from_logits=True),\n",
    "              metrics=[tf.keras.metrics.BinaryAccuracy(name='accuracy'), tf.keras.metrics.Precision(name='precision'),tf.keras.metrics.Recall(name='recall')]) #"
   ]
  },
  {
   "cell_type": "code",
   "execution_count": 10,
   "metadata": {},
   "outputs": [
    {
     "name": "stdout",
     "output_type": "stream",
     "text": [
      "WARNING:tensorflow:From c:\\users\\red\\appdata\\local\\programs\\python\\python36\\lib\\site-packages\\tensorflow_core\\python\\ops\\resource_variable_ops.py:1786: calling BaseResourceVariable.__init__ (from tensorflow.python.ops.resource_variable_ops) with constraint is deprecated and will be removed in a future version.\n",
      "Instructions for updating:\n",
      "If using Keras pass *_constraint arguments to layers.\n",
      "INFO:tensorflow:Assets written to: cnn_vgg16_pretrainned_raw_rgb_v2\\assets\n"
     ]
    }
   ],
   "source": [
    "model.save('cnn_vgg16_pretrainned_raw_rgb_v2')"
   ]
  },
  {
   "cell_type": "markdown",
   "metadata": {},
   "source": [
    "### Carregar modelo\n",
    "\n",
    "- OBS : Lembrar de ligar GPU"
   ]
  },
  {
   "cell_type": "code",
   "execution_count": 9,
   "metadata": {},
   "outputs": [],
   "source": [
    "model = tf.keras.models.load_model('cnn_vgg16_pretrainned_raw_rgb_v2')"
   ]
  },
  {
   "cell_type": "code",
   "execution_count": null,
   "metadata": {},
   "outputs": [
    {
     "name": "stdout",
     "output_type": "stream",
     "text": [
      "Train for 219 steps\n",
      "Epoch 1/10\n",
      "219/219 [==============================] - 34s 154ms/step - loss: 0.6931 - accuracy: 0.4940 - precision: 0.0000e+00 - recall: 0.0000e+00\n",
      "Epoch 2/10\n",
      "219/219 [==============================] - 33s 149ms/step - loss: 0.6931 - accuracy: 0.4940 - precision: 0.0000e+00 - recall: 0.0000e+00\n",
      "Epoch 3/10\n",
      " 44/219 [=====>........................] - ETA: 42s - loss: 0.6931 - accuracy: 0.4950 - precision: 0.0000e+00 - recall: 0.0000e+00"
     ]
    }
   ],
   "source": [
    "history = model.fit_generator(train_batches, epochs=10)#, callbacks=[ tf.keras.callbacks.EarlyStopping(monitor='loss', patience=50)])"
   ]
  },
  {
   "cell_type": "markdown",
   "metadata": {},
   "source": [
    "### Salvar modelo"
   ]
  },
  {
   "cell_type": "code",
   "execution_count": 15,
   "metadata": {},
   "outputs": [
    {
     "name": "stdout",
     "output_type": "stream",
     "text": [
      "WARNING:tensorflow:From c:\\users\\red\\appdata\\local\\programs\\python\\python36\\lib\\site-packages\\tensorflow_core\\python\\ops\\resource_variable_ops.py:1786: calling BaseResourceVariable.__init__ (from tensorflow.python.ops.resource_variable_ops) with constraint is deprecated and will be removed in a future version.\n",
      "Instructions for updating:\n",
      "If using Keras pass *_constraint arguments to layers.\n",
      "INFO:tensorflow:Assets written to: cnn_vgg16_pretrainned_raw_rgb_v2\\assets\n"
     ]
    }
   ],
   "source": [
    "model.save('cnn_vgg16_pretrainned_raw_rgb_v2')"
   ]
  },
  {
   "cell_type": "markdown",
   "metadata": {},
   "source": [
    "### Fine tunning"
   ]
  },
  {
   "cell_type": "code",
   "execution_count": 17,
   "metadata": {
    "collapsed": true,
    "jupyter": {
     "outputs_hidden": true
    }
   },
   "outputs": [
    {
     "name": "stdout",
     "output_type": "stream",
     "text": [
      "Train for 140 steps\n",
      "Epoch 1/100\n",
      "140/140 [==============================] - 42s 299ms/step - loss: 0.7531 - accuracy: 0.5001 - precision: 0.5001 - recall: 0.5001\n",
      "Epoch 2/100\n",
      "140/140 [==============================] - 42s 299ms/step - loss: 0.7531 - accuracy: 0.5001 - precision: 0.5001 - recall: 0.5001\n",
      "Epoch 3/100\n",
      "140/140 [==============================] - 42s 298ms/step - loss: 0.7531 - accuracy: 0.5001 - precision: 0.5001 - recall: 0.5001\n",
      "Epoch 4/100\n",
      "140/140 [==============================] - 42s 300ms/step - loss: 0.7531 - accuracy: 0.5001 - precision: 0.5001 - recall: 0.5001\n",
      "Epoch 5/100\n",
      "140/140 [==============================] - 42s 300ms/step - loss: 0.7531 - accuracy: 0.5001 - precision: 0.5001 - recall: 0.5001\n",
      "Epoch 6/100\n",
      "140/140 [==============================] - 42s 301ms/step - loss: 0.7531 - accuracy: 0.5001 - precision: 0.5001 - recall: 0.5001\n",
      "Epoch 7/100\n",
      "140/140 [==============================] - 42s 300ms/step - loss: 0.7531 - accuracy: 0.5001 - precision: 0.5001 - recall: 0.5001\n",
      "Epoch 8/100\n",
      "140/140 [==============================] - 42s 300ms/step - loss: 0.7531 - accuracy: 0.5001 - precision: 0.5001 - recall: 0.5001\n",
      "Epoch 9/100\n",
      "140/140 [==============================] - 42s 301ms/step - loss: 0.7531 - accuracy: 0.5001 - precision: 0.5001 - recall: 0.5001\n",
      "Epoch 10/100\n",
      "140/140 [==============================] - 42s 300ms/step - loss: 0.7531 - accuracy: 0.5001 - precision: 0.5001 - recall: 0.5001\n",
      "Epoch 11/100\n",
      "140/140 [==============================] - 42s 300ms/step - loss: 0.7531 - accuracy: 0.5001 - precision: 0.5001 - recall: 0.5001\n",
      "Epoch 12/100\n",
      "140/140 [==============================] - 42s 301ms/step - loss: 0.7531 - accuracy: 0.5001 - precision: 0.5001 - recall: 0.5001\n",
      "Epoch 13/100\n",
      "140/140 [==============================] - 42s 300ms/step - loss: 0.7531 - accuracy: 0.5001 - precision: 0.5001 - recall: 0.5001\n",
      "Epoch 14/100\n",
      "140/140 [==============================] - 42s 301ms/step - loss: 0.7531 - accuracy: 0.5001 - precision: 0.5001 - recall: 0.5001\n",
      "Epoch 15/100\n",
      "140/140 [==============================] - 42s 301ms/step - loss: 0.7531 - accuracy: 0.5001 - precision: 0.5001 - recall: 0.5001\n",
      "Epoch 16/100\n",
      "140/140 [==============================] - 42s 300ms/step - loss: 0.7531 - accuracy: 0.5001 - precision: 0.5001 - recall: 0.5001\n",
      "Epoch 17/100\n",
      "140/140 [==============================] - 48s 341ms/step - loss: 0.7531 - accuracy: 0.5001 - precision: 0.5001 - recall: 0.5001\n",
      "Epoch 18/100\n",
      "140/140 [==============================] - 52s 373ms/step - loss: 0.7531 - accuracy: 0.5001 - precision: 0.5001 - recall: 0.5001\n",
      "Epoch 19/100\n",
      "140/140 [==============================] - 52s 370ms/step - loss: 0.7531 - accuracy: 0.5001 - precision: 0.5001 - recall: 0.5001\n",
      "Epoch 20/100\n",
      "140/140 [==============================] - 54s 382ms/step - loss: 0.7531 - accuracy: 0.5001 - precision: 0.5001 - recall: 0.5001\n",
      "Epoch 21/100\n",
      "140/140 [==============================] - 57s 405ms/step - loss: 0.7531 - accuracy: 0.5001 - precision: 0.5001 - recall: 0.5001\n",
      "Epoch 22/100\n",
      "140/140 [==============================] - 43s 306ms/step - loss: 0.7531 - accuracy: 0.5001 - precision: 0.5001 - recall: 0.5001\n",
      "Epoch 23/100\n",
      "140/140 [==============================] - 57s 409ms/step - loss: 0.7531 - accuracy: 0.5001 - precision: 0.5001 - recall: 0.5001\n",
      "Epoch 24/100\n",
      "140/140 [==============================] - 48s 345ms/step - loss: 0.7531 - accuracy: 0.5001 - precision: 0.5001 - recall: 0.5001\n",
      "Epoch 25/100\n",
      "140/140 [==============================] - 50s 354ms/step - loss: 0.7531 - accuracy: 0.5001 - precision: 0.5001 - recall: 0.5001\n",
      "Epoch 26/100\n",
      "140/140 [==============================] - 45s 324ms/step - loss: 0.7531 - accuracy: 0.5001 - precision: 0.5001 - recall: 0.5001\n",
      "Epoch 27/100\n",
      "140/140 [==============================] - 44s 312ms/step - loss: 0.7531 - accuracy: 0.5001 - precision: 0.5001 - recall: 0.5001\n",
      "Epoch 28/100\n",
      "140/140 [==============================] - 45s 319ms/step - loss: 0.7531 - accuracy: 0.5001 - precision: 0.5001 - recall: 0.5001\n",
      "Epoch 29/100\n",
      "140/140 [==============================] - 49s 347ms/step - loss: 0.7531 - accuracy: 0.5001 - precision: 0.5001 - recall: 0.5001\n"
     ]
    }
   ],
   "source": [
    "model.trainable = True\n",
    "history = model.fit_generator(train_batches, epochs=100, callbacks=[ tf.keras.callbacks.EarlyStopping(monitor='loss', patience=20)])"
   ]
  },
  {
   "cell_type": "markdown",
   "metadata": {},
   "source": [
    "# Avaliação do modelo\n",
    "## Dataset de teste"
   ]
  },
  {
   "cell_type": "code",
   "execution_count": null,
   "metadata": {},
   "outputs": [],
   "source": [
    "#test_batch = test_ds.batch(150)\n",
    "#with tf.device('/cpu:0'):\n",
    "features = np.array([list(x[0].numpy()) for x in list(test_ds)])\n",
    "labels = np.array([x[1].numpy() for x in list(test_ds)])\n",
    "test_loss, test_acc, test_prec, test_rec = model.evaluate(x=features, y=labels, verbose=0)\n",
    "\n",
    "print('\\nTest accuracy:', test_acc)\n",
    "print('\\nTest precision:', test_prec)\n",
    "print('\\nTest recall:', test_rec)"
   ]
  },
  {
   "cell_type": "markdown",
   "metadata": {},
   "source": [
    "## Dataset de validação"
   ]
  },
  {
   "cell_type": "code",
   "execution_count": 25,
   "metadata": {},
   "outputs": [],
   "source": [
    "features = None\n",
    "labels = None"
   ]
  },
  {
   "cell_type": "code",
   "execution_count": 10,
   "metadata": {},
   "outputs": [],
   "source": [
    "features = np.array([list(x[0].numpy()) for x in list(validation_ds)])\n",
    "labels = np.array([x[1].numpy() for x in list(validation_ds)])"
   ]
  },
  {
   "cell_type": "code",
   "execution_count": 11,
   "metadata": {},
   "outputs": [
    {
     "name": "stdout",
     "output_type": "stream",
     "text": [
      "\n",
      "Validation accuracy: 0.8528\n",
      "\n",
      "Validation precision: 0.103270225\n",
      "\n",
      "Validation recall: 0.21818182\n"
     ]
    }
   ],
   "source": [
    "test_loss, test_acc, test_prec, test_rec = model.evaluate(x=features, y=labels, verbose=0)\n",
    "\n",
    "print('\\nValidation accuracy:', test_acc)\n",
    "print('\\nValidation precision:', test_prec)\n",
    "print('\\nValidation recall:', test_rec)"
   ]
  },
  {
   "cell_type": "markdown",
   "metadata": {},
   "source": [
    "10 Épocas de treinamento (7000 instâncias de treinamento)\n",
    "\n",
    "Test accuracy: 0.96033335\n",
    "\n",
    "Test precision: 0.9655172\n",
    "\n",
    "Test recall: 0.9560079\n",
    "\n",
    "100 Épocas de treinamento (7000 instâncias de treinamento)\n",
    "\n",
    "Test accuracy: 0.97066665\n",
    "\n",
    "Test precision: 0.96560675\n",
    "\n",
    "Test recall: 0.977019\n",
    "\n",
    "Dataset de validação (10000 instâncias de videos não utilizados no treinamento)\n",
    "\n",
    "Test accuracy: 0.915\n",
    "\n",
    "Test precision: 0.22093023\n",
    "\n",
    "Test recall: 0.050397877\n",
    "\n",
    "Dataset de validação (10000 instâncias de frames de vídeos aleatórios não utilizados no treinamento)\n",
    "\n",
    "Validation accuracy: 0.8528\n",
    "\n",
    "Validation precision: 0.103270225\n",
    "\n",
    "Validation recall: 0.21818182"
   ]
  },
  {
   "cell_type": "code",
   "execution_count": 12,
   "metadata": {},
   "outputs": [
    {
     "data": {
      "image/png": "[encoded data removed]",
      "text/plain": [
       "<Figure size 576x432 with 2 Axes>"
      ]
     },
     "metadata": {
      "needs_background": "light"
     },
     "output_type": "display_data"
    }
   ],
   "source": [
    "c_labels = [int(x) for x in labels]\n",
    "predictions = model.predict_classes(features, batch_size=None)\n",
    "pred = [x[0] for x in list(predictions)]\n",
    "mat = tf.math.confusion_matrix(c_labels, pred)\n",
    "df = pd.DataFrame(mat.numpy(), columns=['AP','AN'], index=['PP','PN'])\n",
    "fig, ax = plt.subplots(figsize=(8,6))\n",
    "sns.heatmap(df, cmap=\"Blues\", annot=True, fmt=\"d\", xticklabels=['Negative','Positive'], yticklabels=['Negative','Positive'])\n",
    "ax.set_ylim([2,0])\n",
    "plt.ylabel('Actual')\n",
    "plt.xlabel('Predicted')\n",
    "plt.title('VGG16 Raw RGB, Test Dataset Evaluation')\n",
    "plt.show()"
   ]
  },
  {
   "cell_type": "code",
   "execution_count": 18,
   "metadata": {},
   "outputs": [
    {
     "data": {
      "text/plain": [
       "<tf.Tensor: shape=(2, 2), dtype=int32, numpy=\n",
       "array([[2841,   99],\n",
       "       [  75, 2854]])>"
      ]
     },
     "execution_count": 18,
     "metadata": {},
     "output_type": "execute_result"
    }
   ],
   "source": [
    "mat"
   ]
  },
  {
   "cell_type": "code",
   "execution_count": 15,
   "metadata": {},
   "outputs": [
    {
     "data": {
      "text/plain": [
       "9828"
      ]
     },
     "execution_count": 15,
     "metadata": {},
     "output_type": "execute_result"
    }
   ],
   "source": [
    "pred.count(0)"
   ]
  },
  {
   "cell_type": "code",
   "execution_count": 11,
   "metadata": {},
   "outputs": [
    {
     "data": {
      "text/plain": [
       "\u001b[1;31mSignature:\u001b[0m\n",
       "\u001b[0mtf\u001b[0m\u001b[1;33m.\u001b[0m\u001b[0mmath\u001b[0m\u001b[1;33m.\u001b[0m\u001b[0mconfusion_matrix\u001b[0m\u001b[1;33m(\u001b[0m\u001b[1;33m\n",
       "\u001b[0m    \u001b[0mlabels\u001b[0m\u001b[1;33m,\u001b[0m\u001b[1;33m\n",
       "\u001b[0m    \u001b[0mpredictions\u001b[0m\u001b[1;33m,\u001b[0m\u001b[1;33m\n",
       "\u001b[0m    \u001b[0mnum_classes\u001b[0m\u001b[1;33m=\u001b[0m\u001b[1;32mNone\u001b[0m\u001b[1;33m,\u001b[0m\u001b[1;33m\n",
       "\u001b[0m    \u001b[0mweights\u001b[0m\u001b[1;33m=\u001b[0m\u001b[1;32mNone\u001b[0m\u001b[1;33m,\u001b[0m\u001b[1;33m\n",
       "\u001b[0m    \u001b[0mdtype\u001b[0m\u001b[1;33m=\u001b[0m\u001b[0mtf\u001b[0m\u001b[1;33m.\u001b[0m\u001b[0mint32\u001b[0m\u001b[1;33m,\u001b[0m\u001b[1;33m\n",
       "\u001b[0m    \u001b[0mname\u001b[0m\u001b[1;33m=\u001b[0m\u001b[1;32mNone\u001b[0m\u001b[1;33m,\u001b[0m\u001b[1;33m\n",
       "\u001b[0m\u001b[1;33m)\u001b[0m\u001b[1;33m\u001b[0m\u001b[1;33m\u001b[0m\u001b[0m\n",
       "\u001b[1;31mDocstring:\u001b[0m\n",
       "Computes the confusion matrix from predictions and labels.\n",
       "\n",
       "The matrix columns represent the prediction labels and the rows represent the\n",
       "real labels. The confusion matrix is always a 2-D array of shape `[n, n]`,\n",
       "where `n` is the number of valid labels for a given classification task. Both\n",
       "prediction and labels must be 1-D arrays of the same shape in order for this\n",
       "function to work.\n",
       "\n",
       "If `num_classes` is `None`, then `num_classes` will be set to one plus the\n",
       "maximum value in either predictions or labels. Class labels are expected to\n",
       "start at 0. For example, if `num_classes` is 3, then the possible labels\n",
       "would be `[0, 1, 2]`.\n",
       "\n",
       "If `weights` is not `None`, then each prediction contributes its\n",
       "corresponding weight to the total value of the confusion matrix cell.\n",
       "\n",
       "For example:\n",
       "\n",
       "```python\n",
       "  tf.math.confusion_matrix([1, 2, 4], [2, 2, 4]) ==>\n",
       "      [[0 0 0 0 0]\n",
       "       [0 0 1 0 0]\n",
       "       [0 0 1 0 0]\n",
       "       [0 0 0 0 0]\n",
       "       [0 0 0 0 1]]\n",
       "```\n",
       "\n",
       "Note that the possible labels are assumed to be `[0, 1, 2, 3, 4]`,\n",
       "resulting in a 5x5 confusion matrix.\n",
       "\n",
       "Args:\n",
       "  labels: 1-D `Tensor` of real labels for the classification task.\n",
       "  predictions: 1-D `Tensor` of predictions for a given classification.\n",
       "  num_classes: The possible number of labels the classification task can\n",
       "               have. If this value is not provided, it will be calculated\n",
       "               using both predictions and labels array.\n",
       "  weights: An optional `Tensor` whose shape matches `predictions`.\n",
       "  dtype: Data type of the confusion matrix.\n",
       "  name: Scope name.\n",
       "\n",
       "Returns:\n",
       "  A `Tensor` of type `dtype` with shape `[n, n]` representing the confusion\n",
       "  matrix, where `n` is the number of possible labels in the classification\n",
       "  task.\n",
       "\n",
       "Raises:\n",
       "  ValueError: If both predictions and labels are not 1-D vectors and have\n",
       "    mismatched shapes, or if `weights` is not `None` and its shape doesn't\n",
       "    match `predictions`.\n",
       "\u001b[1;31mFile:\u001b[0m      c:\\users\\red\\appdata\\local\\programs\\python\\python36\\lib\\site-packages\\tensorflow_core\\python\\ops\\confusion_matrix.py\n",
       "\u001b[1;31mType:\u001b[0m      function\n"
      ]
     },
     "metadata": {},
     "output_type": "display_data"
    }
   ],
   "source": [
    "tf.math.confusion_matrix?"
   ]
  },
  {
   "cell_type": "code",
   "execution_count": null,
   "metadata": {},
   "outputs": [],
   "source": []
  }
 ],
 "metadata": {
  "kernelspec": {
   "display_name": "Python 3",
   "language": "python",
   "name": "python3"
  },
  "language_info": {
   "codemirror_mode": {
    "name": "ipython",
    "version": 3
   },
   "file_extension": ".py",
   "mimetype": "text/x-python",
   "name": "python",
   "nbconvert_exporter": "python",
   "pygments_lexer": "ipython3",
   "version": "3.6.8"
  }
 },
 "nbformat": 4,
 "nbformat_minor": 4
}
