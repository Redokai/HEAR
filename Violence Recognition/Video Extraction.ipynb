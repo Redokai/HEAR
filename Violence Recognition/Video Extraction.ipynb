{
 "cells": [
  {
   "cell_type": "markdown",
   "metadata": {},
   "source": [
    "### Pré processador de vídeos\n",
    "## Importação"
   ]
  },
  {
   "cell_type": "code",
   "execution_count": 1,
   "metadata": {},
   "outputs": [],
   "source": [
    "import cv2\n",
    "import os\n",
    "import math\n",
    "import csv\n",
    "import pandas as pd"
   ]
  },
  {
   "cell_type": "code",
   "execution_count": 2,
   "metadata": {},
   "outputs": [],
   "source": [
    "pos_intervals = pd.read_csv('positive_pred_intervals.csv')\n",
    "pos_intervals = pos_intervals.columns.values\n",
    "video_folders = ['..\\\\Positivos\\\\','..\\\\Negativos\\\\']\n",
    "output_folder = '..\\\\Output\\\\'\n",
    "accepted_video_formats = ['mp4']\n",
    "frames_per_split = 30\n",
    "superposition = 0.15\n",
    "drop_frame_rate = 0.0 \n",
    "height_output_format = 224\n",
    "width_output_format = 224\n",
    "desired_output_format = (width_output_format, height_output_format)"
   ]
  },
  {
   "cell_type": "code",
   "execution_count": 3,
   "metadata": {},
   "outputs": [],
   "source": [
    "dataset = ['002_GLO_FIC_NEG', '004_YOU_REA_FIS_PSI']"
   ]
  },
  {
   "cell_type": "markdown",
   "metadata": {},
   "source": [
    "## Extração\n",
    "\n",
    "Funções responsáveis pela extração de quadros e tratamento inicial:\n",
    "\n",
    "def convert_video_to_frames(folder): Converte videos com os formatos aceitáveis (accepted_video_formats) em frames, salvando-os na pasta de saída (output_folder)\n",
    "\n",
    "def split_video(video_folder): Trata os vídeos com formatos aceitáveis (accepted_video_formats) na pasta de entrada (video_folder). Aplica o tratamento def drop_frames(frames, drop_rate) e só então divide o vídeo em n trechos, definidos pela quantidade total de quadros dividido pelo parâmetro frames_per_split. \n",
    "\n",
    "def extract_frames(file_path): Extrai todos os frames inclusos em um vídeo.\n",
    "\n",
    "def drop_frames(frames, drop_rate): Responsável por deixar o pacote de frames mais enxuto, eliminando entre-quadros que adicionam pouco valor à leitura de movimentos."
   ]
  },
  {
   "cell_type": "code",
   "execution_count": 4,
   "metadata": {},
   "outputs": [],
   "source": [
    "def convert_video_to_frames(video_folders):\n",
    "    for video_folder in video_folders:\n",
    "        files = os.listdir(video_folder)\n",
    "        for file in files:\n",
    "            file_extension = file.split('.')[-1]\n",
    "            if file_extension in accepted_video_formats:\n",
    "                try:\n",
    "                    file_path = video_folder+file\n",
    "                    file_output_folder = output_folder + file.replace(file_extension, '') + '\\\\'\n",
    "                    count = 0\n",
    "                    vidcap = cv2.VideoCapture(video_path)\n",
    "                    success,image = vidcap.read()\n",
    "                    mkdir(file_output_folder)\n",
    "                    while success:\n",
    "                        cv2.imwrite(file_output_folder + \"frame\" + str(count) + \".jpg\", image)\n",
    "                        count+=1\n",
    "                        success,image = vidcap.read()\n",
    "                except exc:\n",
    "                    continue\n",
    "                \n",
    "                \n",
    "def split_video(video_folders):\n",
    "    for video_folder in video_folders:\n",
    "        files = os.listdir(video_folder)\n",
    "        for file in files:\n",
    "            file_extension = file.split('.')[-1]\n",
    "            video_name = file.split('.')[0]\n",
    "            filename = file.replace(file_extension, '')\n",
    "            if file_extension in accepted_video_formats and video_name in dataset:\n",
    "                print(filename)\n",
    "                file_path = video_folder+file\n",
    "                frames = extract_frames(file_path)\n",
    "                frames = drop_frames(frames, drop_frame_rate)\n",
    "                count=0\n",
    "                frames_len = len(frames)\n",
    "                split_count= int(math.ceil(len(frames)/frames_per_split))\n",
    "                for i in range(split_count):\n",
    "                    try:\n",
    "                        file_output_folder = output_folder + filename + \"\\\\\" + filename + '-' + str(i) + '\\\\'\n",
    "                        mkdir(file_output_folder)\n",
    "                        current_frames = frames[:frames_per_split]\n",
    "                        frames = frames[math.floor(int(frames_per_split*(1-superposition))):]\n",
    "                        if len(current_frames) < frames_per_split/2:\n",
    "                            break\n",
    "                        for i in range(len(current_frames)):\n",
    "                            frame = current_frames[i]\n",
    "                            cv2.imwrite(file_output_folder + \"frame\" + str(i) + \".jpg\", frame)\n",
    "                    except:\n",
    "                        raise\n",
    "                    \n",
    "                    \n",
    "def extract_frames(file_path):\n",
    "    frames = []\n",
    "    cap = cv2.VideoCapture(file_path)\n",
    "    try:\n",
    "        while True:\n",
    "            success, frame = cap.read()\n",
    "            if success:\n",
    "                frame = cv2.resize(frame, desired_output_format,  interpolation = cv2.INTER_CUBIC)\n",
    "                frames.append(frame)\n",
    "            else:\n",
    "                break\n",
    "    except:\n",
    "        raise\n",
    "    return frames\n",
    "\n",
    "def drop_frames(frames, drop_rate):\n",
    "    frames_len = len(frames)\n",
    "    output = []\n",
    "    step = 1.0\n",
    "    if drop_rate != 0:\n",
    "        step = 1.0/drop_rate\n",
    "    i = 0\n",
    "    while i < frames_len:\n",
    "        output.append(frames[round(i)])\n",
    "        i += step\n",
    "    return output\n",
    "\n",
    "def mkdir(path):\n",
    "    if not os.path.exists(path):\n",
    "        os.makedirs(path)\n"
   ]
  },
  {
   "cell_type": "code",
   "execution_count": 5,
   "metadata": {},
   "outputs": [
    {
     "name": "stdout",
     "output_type": "stream",
     "text": [
      "004_YOU_REA_FIS_PSI.\n",
      "002_GLO_FIC_NEG.\n"
     ]
    }
   ],
   "source": [
    "split_video(video_folders)"
   ]
  },
  {
   "cell_type": "code",
   "execution_count": null,
   "metadata": {},
   "outputs": [],
   "source": []
  }
 ],
 "metadata": {
  "kernelspec": {
   "display_name": "Python 3",
   "language": "python",
   "name": "python3"
  },
  "language_info": {
   "codemirror_mode": {
    "name": "ipython",
    "version": 3
   },
   "file_extension": ".py",
   "mimetype": "text/x-python",
   "name": "python",
   "nbconvert_exporter": "python",
   "pygments_lexer": "ipython3",
   "version": "3.6.8"
  }
 },
 "nbformat": 4,
 "nbformat_minor": 4
}
