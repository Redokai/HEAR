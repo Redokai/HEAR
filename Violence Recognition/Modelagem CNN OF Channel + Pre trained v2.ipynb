{
 "cells": [
  {
   "cell_type": "markdown",
   "metadata": {},
   "source": [
    "# Modelagem e arquitetura CNN\n",
    "\n",
    "## Modelo de canal único Optical Flow pré treinado VGG 16 + IMAGENET (Top layers off)\n",
    "\n",
    "### Conteúdo\n",
    "\n",
    "- Ingestão\n",
    "- Pré processamento\n",
    "- Modelagem da rede\n",
    "- Treinamento\n",
    "- Teste\n",
    "- Validação\n",
    "- Resultados\n",
    "\n",
    "### Importações e parâmetros"
   ]
  },
  {
   "cell_type": "code",
   "execution_count": 1,
   "metadata": {},
   "outputs": [],
   "source": [
    "import os\n",
    "#os.environ[\"CUDA_VISIBLE_DEVICES\"] = \"-1\"\n",
    "import numpy as np\n",
    "import pandas as pd\n",
    "import cv2 as cv\n",
    "import matplotlib.pyplot as plt\n",
    "import seaborn as sns\n",
    "import tensorflow as tf\n",
    "#import tensorflow_datasets as tfds\n",
    "#tfds.disable_progress_bar()\n",
    "\n",
    "videos_table_path = 'manual_of_classification.csv'\n",
    "max_positive_cases = 5000\n",
    "max_validation_cases = 10000\n",
    "preprocess_training_test = True\n",
    "preprocess_validation = False"
   ]
  },
  {
   "cell_type": "markdown",
   "metadata": {},
   "source": [
    "### Ingestão"
   ]
  },
  {
   "cell_type": "code",
   "execution_count": 2,
   "metadata": {},
   "outputs": [],
   "source": [
    "def decode_img(img):\n",
    "    img = tf.image.decode_jpeg(img, channels=3)\n",
    "    img = tf.image.convert_image_dtype(img, tf.float32)\n",
    "    return img\n",
    "\n",
    "def process_path(file_path):\n",
    "    img = tf.io.read_file(file_path, )\n",
    "    img = decode_img(img)\n",
    "    return img\n",
    "\n",
    "def process_label(label):\n",
    "    return label == 'POS'\n",
    "\n",
    "def process_dataframe(dataframe):\n",
    "    xs = []\n",
    "    ys = []\n",
    "    with tf.device('/cpu:0'):\n",
    "        for i,row in dataframe.iterrows():\n",
    "            path = row['path']\n",
    "            label = row['violence']\n",
    "            xs.append(process_path(path))\n",
    "            ys.append(process_label(label))\n",
    "        return tf.data.Dataset.from_tensor_slices((xs,ys))"
   ]
  },
  {
   "cell_type": "code",
   "execution_count": 3,
   "metadata": {},
   "outputs": [
    {
     "name": "stderr",
     "output_type": "stream",
     "text": [
      "c:\\users\\red\\appdata\\local\\programs\\python\\python36\\lib\\site-packages\\IPython\\core\\interactiveshell.py:3051: DtypeWarning: Columns (6) have mixed types. Specify dtype option on import or set low_memory=False.\n",
      "  interactivity=interactivity, compiler=compiler, result=result)\n"
     ]
    },
    {
     "name": "stdout",
     "output_type": "stream",
     "text": [
      "Train/test dataset cases :10000\n",
      "Validation dataset cases :30914\n"
     ]
    }
   ],
   "source": [
    "#IMPORT\n",
    "frames_df = pd.read_csv(videos_table_path, sep=';', index_col=0)\n",
    "video_list = frames_df[frames_df['load'] == 'X']['video'].unique()\n",
    "\n",
    "#SEGREGATE\n",
    "msk = np.random.rand(len(video_list)) < 0.9\n",
    "train_test_videos = video_list[msk]\n",
    "validation_videos =  video_list[~msk]\n",
    "train_test_df = frames_df.loc[frames_df['video'].isin(train_test_videos)]\n",
    "validation_df = frames_df.loc[frames_df['video'].isin(validation_videos)]\n",
    "neg_df = train_test_df[train_test_df['violence'] == 'NEG'][['path','violence']]\n",
    "pos_df = train_test_df[train_test_df['violence'] == 'POS'][['path','violence']]\n",
    "\n",
    "#SHUFFLE\n",
    "neg_df = neg_df.sample(frac=1).reset_index(drop=True)\n",
    "pos_df = pos_df.sample(frac=1).reset_index(drop=True)\n",
    "validation_df = validation_df.sample(frac=1).reset_index(drop=True)\n",
    "\n",
    "#SAVE\n",
    "validation_df.to_csv('validation_of_df.csv',sep=';')\n",
    "\n",
    "#RESIZE\n",
    "pos_df = pos_df.head(min([len(pos_df),max_positive_cases]))\n",
    "neg_df = neg_df.head(len(pos_df))\n",
    "\n",
    "#MERGE\n",
    "merged_df = pd.concat([pos_df, neg_df], ignore_index=True)\n",
    "dataset_length = len(merged_df)\n",
    "validation_length = len(validation_df)\n",
    "\n",
    "print('Train/test dataset cases :' + str(dataset_length))\n",
    "print('Validation dataset cases :' + str(validation_length))"
   ]
  },
  {
   "cell_type": "code",
   "execution_count": 4,
   "metadata": {},
   "outputs": [],
   "source": [
    "validation_df = pd.read_csv('validation_of_df.csv',sep=';')"
   ]
  },
  {
   "cell_type": "markdown",
   "metadata": {},
   "source": [
    "### Pré processamento"
   ]
  },
  {
   "cell_type": "markdown",
   "metadata": {},
   "source": [
    "### Observações\n",
    "\n",
    "Dataset claramente tendencioso (biased), será necessário tratar o desbalanceamento na fase de préprocessamento a fim de manter uma RN bem treinada.\n",
    "\n",
    "#### Tarefas\n",
    "- Separação do dataset em:\n",
    "    - Dataset de treinamento (70%)\n",
    "    - Dataset de teste (30%)\n",
    "\n",
    "    \n",
    "OBS: Todos os datasets devem estar balanceados! Portanto a medida balizadora será o gargalo atual: número de casos positivos. "
   ]
  },
  {
   "cell_type": "code",
   "execution_count": 4,
   "metadata": {},
   "outputs": [
    {
     "name": "stdout",
     "output_type": "stream",
     "text": [
      "Train DataFrame size: 7000\n",
      "Test DataFrame size: 3000\n",
      "Validation DataFrame size: 30914\n"
     ]
    }
   ],
   "source": [
    "train_ds = None\n",
    "test_ds = None\n",
    "validation_ds = None\n",
    "\n",
    "#RESHUFLE\n",
    "if preprocess_training_test:\n",
    "    shuffled_df = merged_df.sample(frac=1).reset_index(drop=True)\n",
    "if preprocess_validation:\n",
    "    validation_shuffled_df = validation_df.sample(frac=max_validation_cases/validation_length).reset_index(drop=True)\n",
    "\n",
    "#PROCESS\n",
    "if preprocess_training_test:\n",
    "    complete_dataset = process_dataframe(shuffled_df)\n",
    "if preprocess_validation:\n",
    "    validation_ds = process_dataframe(validation_shuffled_df)\n",
    "\n",
    "#SEPARATE\n",
    "if preprocess_training_test:\n",
    "    train_ds = complete_dataset.take(int(dataset_length*0.7))\n",
    "    test_ds = complete_dataset.skip(int(dataset_length*0.7))\n",
    "\n",
    "print('Train DataFrame size: ' + str(int(dataset_length*0.7)))\n",
    "print('Test DataFrame size: ' + str(dataset_length - int(dataset_length*0.7)))\n",
    "print('Validation DataFrame size: ' + str(int(validation_length)))\n",
    "\n",
    "### Clear unused data\n",
    "frames_df = None\n",
    "neg_df = None\n",
    "pos_df = None\n",
    "#merged_df = None\n",
    "shuffled_df = None\n",
    "complete_dataset = None"
   ]
  },
  {
   "cell_type": "code",
   "execution_count": 5,
   "metadata": {},
   "outputs": [],
   "source": [
    "train_batches = train_ds.shuffle(60).batch(32)"
   ]
  },
  {
   "cell_type": "markdown",
   "metadata": {},
   "source": [
    "### Modelagem da CNN"
   ]
  },
  {
   "cell_type": "code",
   "execution_count": 6,
   "metadata": {},
   "outputs": [],
   "source": [
    "# Create the base model from the pre-trained model VGG16\n",
    "IMG_SIZE = 224\n",
    "IMG_SHAPE = (IMG_SIZE, IMG_SIZE, 3)\n",
    "base_model = tf.keras.applications.VGG16(input_shape=IMG_SHAPE,\n",
    "                                               include_top=False,\n",
    "                                               weights='imagenet')\n",
    "model = tf.keras.models.Sequential()\n",
    "for layer in base_model.layers:\n",
    "    model.add(layer)\n",
    "    \n",
    "for layer in model.layers:\n",
    "    layer.trainable = False\n",
    "\n",
    "flatten_layer = tf.keras.layers.Flatten()\n",
    "dropout_layer = tf.keras.layers.Dropout(0.5)\n",
    "dense_layer = tf.keras.layers.Dense(4096, activation='relu')\n",
    "prediction_layer = tf.keras.layers.Dense(1, activation='sigmoid')\n",
    "\n",
    "model.add(flatten_layer)\n",
    "#model.add(dropout_layer)\n",
    "model.add(tf.keras.layers.Dense(4096, activation='relu'))\n",
    "#model.add(dropout_layer)\n",
    "model.add(tf.keras.layers.Dense(4096, activation='relu'))\n",
    "model.add(prediction_layer)"
   ]
  },
  {
   "cell_type": "code",
   "execution_count": 7,
   "metadata": {},
   "outputs": [],
   "source": [
    "base_learning_rate = 0.001\n",
    "model.compile(optimizer=tf.keras.optimizers.RMSprop(lr=base_learning_rate),\n",
    "              loss=tf.keras.losses.BinaryCrossentropy(from_logits=True),\n",
    "              metrics=[tf.keras.metrics.BinaryAccuracy(name='accuracy'), tf.keras.metrics.Precision(name='precision'),tf.keras.metrics.Recall(name='recall')]) #"
   ]
  },
  {
   "cell_type": "code",
   "execution_count": 8,
   "metadata": {},
   "outputs": [
    {
     "name": "stdout",
     "output_type": "stream",
     "text": [
      "Model: \"sequential\"\n",
      "_________________________________________________________________\n",
      "Layer (type)                 Output Shape              Param #   \n",
      "=================================================================\n",
      "block1_conv1 (Conv2D)        (None, 224, 224, 64)      1792      \n",
      "_________________________________________________________________\n",
      "block1_conv2 (Conv2D)        (None, 224, 224, 64)      36928     \n",
      "_________________________________________________________________\n",
      "block1_pool (MaxPooling2D)   (None, 112, 112, 64)      0         \n",
      "_________________________________________________________________\n",
      "block2_conv1 (Conv2D)        (None, 112, 112, 128)     73856     \n",
      "_________________________________________________________________\n",
      "block2_conv2 (Conv2D)        (None, 112, 112, 128)     147584    \n",
      "_________________________________________________________________\n",
      "block2_pool (MaxPooling2D)   (None, 56, 56, 128)       0         \n",
      "_________________________________________________________________\n",
      "block3_conv1 (Conv2D)        (None, 56, 56, 256)       295168    \n",
      "_________________________________________________________________\n",
      "block3_conv2 (Conv2D)        (None, 56, 56, 256)       590080    \n",
      "_________________________________________________________________\n",
      "block3_conv3 (Conv2D)        (None, 56, 56, 256)       590080    \n",
      "_________________________________________________________________\n",
      "block3_pool (MaxPooling2D)   (None, 28, 28, 256)       0         \n",
      "_________________________________________________________________\n",
      "block4_conv1 (Conv2D)        (None, 28, 28, 512)       1180160   \n",
      "_________________________________________________________________\n",
      "block4_conv2 (Conv2D)        (None, 28, 28, 512)       2359808   \n",
      "_________________________________________________________________\n",
      "block4_conv3 (Conv2D)        (None, 28, 28, 512)       2359808   \n",
      "_________________________________________________________________\n",
      "block4_pool (MaxPooling2D)   (None, 14, 14, 512)       0         \n",
      "_________________________________________________________________\n",
      "block5_conv1 (Conv2D)        (None, 14, 14, 512)       2359808   \n",
      "_________________________________________________________________\n",
      "block5_conv2 (Conv2D)        (None, 14, 14, 512)       2359808   \n",
      "_________________________________________________________________\n",
      "block5_conv3 (Conv2D)        (None, 14, 14, 512)       2359808   \n",
      "_________________________________________________________________\n",
      "block5_pool (MaxPooling2D)   (None, 7, 7, 512)         0         \n",
      "_________________________________________________________________\n",
      "flatten (Flatten)            (None, 25088)             0         \n",
      "_________________________________________________________________\n",
      "dense_2 (Dense)              (None, 4096)              102764544 \n",
      "_________________________________________________________________\n",
      "dense_3 (Dense)              (None, 4096)              16781312  \n",
      "_________________________________________________________________\n",
      "dense_1 (Dense)              (None, 1)                 4097      \n",
      "=================================================================\n",
      "Total params: 134,264,641\n",
      "Trainable params: 119,549,953\n",
      "Non-trainable params: 14,714,688\n",
      "_________________________________________________________________\n"
     ]
    }
   ],
   "source": [
    "model.summary()"
   ]
  },
  {
   "cell_type": "markdown",
   "metadata": {},
   "source": [
    "### Salvar modelo"
   ]
  },
  {
   "cell_type": "code",
   "execution_count": 9,
   "metadata": {},
   "outputs": [
    {
     "name": "stdout",
     "output_type": "stream",
     "text": [
      "WARNING:tensorflow:From c:\\users\\red\\appdata\\local\\programs\\python\\python36\\lib\\site-packages\\tensorflow_core\\python\\ops\\resource_variable_ops.py:1786: calling BaseResourceVariable.__init__ (from tensorflow.python.ops.resource_variable_ops) with constraint is deprecated and will be removed in a future version.\n",
      "Instructions for updating:\n",
      "If using Keras pass *_constraint arguments to layers.\n",
      "INFO:tensorflow:Assets written to: cnn_vgg16_pretrainned_dense_of_v2\\assets\n"
     ]
    }
   ],
   "source": [
    "model.save('cnn_vgg16_pretrainned_dense_of_v2')"
   ]
  },
  {
   "cell_type": "markdown",
   "metadata": {},
   "source": [
    "### Carregar modelo\n",
    "\n",
    "- OBS : Lembrar de ligar GPU"
   ]
  },
  {
   "cell_type": "code",
   "execution_count": 10,
   "metadata": {},
   "outputs": [],
   "source": [
    "model = tf.keras.models.load_model('cnn_vgg16_pretrainned_dense_of_v2')"
   ]
  },
  {
   "cell_type": "markdown",
   "metadata": {},
   "source": [
    "### Treinamento\n",
    "\n",
    "Utilizando o dataset de treino"
   ]
  },
  {
   "cell_type": "code",
   "execution_count": null,
   "metadata": {},
   "outputs": [
    {
     "name": "stdout",
     "output_type": "stream",
     "text": [
      "WARNING:tensorflow:From <ipython-input-9-3e6ddb0f8653>:1: Model.fit_generator (from tensorflow.python.keras.engine.training) is deprecated and will be removed in a future version.\n",
      "Instructions for updating:\n",
      "Please use Model.fit, which supports generators.\n",
      "Train for 219 steps\n",
      "Epoch 1/100\n",
      "219/219 [==============================] - 47s 216ms/step - loss: 0.6937 - accuracy: 0.4984 - precision: 0.4062 - recall: 0.0037\n",
      "Epoch 2/100\n",
      "219/219 [==============================] - 43s 194ms/step - loss: 0.6931 - accuracy: 0.4993 - precision: 0.0000e+00 - recall: 0.0000e+00\n",
      "Epoch 3/100\n",
      "219/219 [==============================] - 43s 194ms/step - loss: 0.6931 - accuracy: 0.4993 - precision: 0.0000e+00 - recall: 0.0000e+00\n",
      "Epoch 4/100\n",
      "219/219 [==============================] - 42s 193ms/step - loss: 0.6931 - accuracy: 0.4993 - precision: 0.0000e+00 - recall: 0.0000e+00\n",
      "Epoch 5/100\n",
      "219/219 [==============================] - 41s 189ms/step - loss: 0.6931 - accuracy: 0.4993 - precision: 0.0000e+00 - recall: 0.0000e+00\n",
      "Epoch 6/100\n",
      "219/219 [==============================] - 41s 188ms/step - loss: 0.6931 - accuracy: 0.4993 - precision: 0.0000e+00 - recall: 0.0000e+00\n",
      "Epoch 7/100\n",
      "219/219 [==============================] - 41s 189ms/step - loss: 0.6931 - accuracy: 0.4993 - precision: 0.0000e+00 - recall: 0.0000e+00\n",
      "Epoch 8/100\n",
      "219/219 [==============================] - 41s 188ms/step - loss: 0.6931 - accuracy: 0.4993 - precision: 0.0000e+00 - recall: 0.0000e+00\n",
      "Epoch 9/100\n",
      "219/219 [==============================] - 41s 188ms/step - loss: 0.6931 - accuracy: 0.4993 - precision: 0.0000e+00 - recall: 0.0000e+00\n",
      "Epoch 10/100\n",
      "219/219 [==============================] - 41s 188ms/step - loss: 0.6931 - accuracy: 0.4993 - precision: 0.0000e+00 - recall: 0.0000e+00\n",
      "Epoch 11/100\n",
      "219/219 [==============================] - 41s 188ms/step - loss: 0.6931 - accuracy: 0.4993 - precision: 0.0000e+00 - recall: 0.0000e+00\n",
      "Epoch 12/100\n",
      "219/219 [==============================] - 41s 188ms/step - loss: 0.6931 - accuracy: 0.4993 - precision: 0.0000e+00 - recall: 0.0000e+00\n",
      "Epoch 13/100\n",
      "219/219 [==============================] - 41s 188ms/step - loss: 0.6931 - accuracy: 0.4993 - precision: 0.0000e+00 - recall: 0.0000e+00\n",
      "Epoch 14/100\n",
      "219/219 [==============================] - 41s 188ms/step - loss: 0.6931 - accuracy: 0.4993 - precision: 0.0000e+00 - recall: 0.0000e+00\n",
      "Epoch 15/100\n",
      "219/219 [==============================] - 41s 188ms/step - loss: 0.6931 - accuracy: 0.4993 - precision: 0.0000e+00 - recall: 0.0000e+00\n",
      "Epoch 16/100\n",
      "219/219 [==============================] - 41s 187ms/step - loss: 0.6931 - accuracy: 0.4993 - precision: 0.0000e+00 - recall: 0.0000e+00\n",
      "Epoch 17/100\n",
      "219/219 [==============================] - 41s 187ms/step - loss: 0.6931 - accuracy: 0.4993 - precision: 0.0000e+00 - recall: 0.0000e+00\n",
      "Epoch 18/100\n",
      "219/219 [==============================] - 41s 187ms/step - loss: 0.6931 - accuracy: 0.4993 - precision: 0.0000e+00 - recall: 0.0000e+00\n",
      "Epoch 19/100\n",
      "219/219 [==============================] - 41s 187ms/step - loss: 0.6931 - accuracy: 0.4993 - precision: 0.0000e+00 - recall: 0.0000e+00\n",
      "Epoch 20/100\n",
      "219/219 [==============================] - 41s 187ms/step - loss: 0.6931 - accuracy: 0.4993 - precision: 0.0000e+00 - recall: 0.0000e+00\n",
      "Epoch 21/100\n",
      "219/219 [==============================] - 41s 188ms/step - loss: 0.6931 - accuracy: 0.4993 - precision: 0.0000e+00 - recall: 0.0000e+00\n",
      "Epoch 22/100\n",
      "219/219 [==============================] - 41s 188ms/step - loss: 0.6931 - accuracy: 0.4993 - precision: 0.0000e+00 - recall: 0.0000e+00\n",
      "Epoch 23/100\n",
      "219/219 [==============================] - 41s 187ms/step - loss: 0.6931 - accuracy: 0.4993 - precision: 0.0000e+00 - recall: 0.0000e+00\n",
      "Epoch 24/100\n",
      "219/219 [==============================] - 41s 186ms/step - loss: 0.6931 - accuracy: 0.4993 - precision: 0.0000e+00 - recall: 0.0000e+00\n",
      "Epoch 25/100\n",
      "219/219 [==============================] - 41s 186ms/step - loss: 0.6931 - accuracy: 0.4993 - precision: 0.0000e+00 - recall: 0.0000e+00\n",
      "Epoch 26/100\n",
      "219/219 [==============================] - 41s 186ms/step - loss: 0.6931 - accuracy: 0.4993 - precision: 0.0000e+00 - recall: 0.0000e+00\n",
      "Epoch 27/100\n",
      "219/219 [==============================] - 41s 186ms/step - loss: 0.6931 - accuracy: 0.4993 - precision: 0.0000e+00 - recall: 0.0000e+00\n",
      "Epoch 28/100\n",
      "219/219 [==============================] - 41s 186ms/step - loss: 0.6931 - accuracy: 0.4993 - precision: 0.0000e+00 - recall: 0.0000e+00\n",
      "Epoch 29/100\n",
      "219/219 [==============================] - 41s 186ms/step - loss: 0.6931 - accuracy: 0.4993 - precision: 0.0000e+00 - recall: 0.0000e+00\n",
      "Epoch 30/100\n",
      "219/219 [==============================] - 41s 186ms/step - loss: 0.6931 - accuracy: 0.4993 - precision: 0.0000e+00 - recall: 0.0000e+00\n",
      "Epoch 31/100\n",
      "219/219 [==============================] - 41s 186ms/step - loss: 0.6931 - accuracy: 0.4993 - precision: 0.0000e+00 - recall: 0.0000e+00\n",
      "Epoch 32/100\n",
      "219/219 [==============================] - 41s 186ms/step - loss: 0.6931 - accuracy: 0.4993 - precision: 0.0000e+00 - recall: 0.0000e+00\n",
      "Epoch 33/100\n",
      "219/219 [==============================] - 41s 186ms/step - loss: 0.6931 - accuracy: 0.4993 - precision: 0.0000e+00 - recall: 0.0000e+00\n",
      "Epoch 34/100\n",
      "219/219 [==============================] - 41s 186ms/step - loss: 0.6931 - accuracy: 0.4993 - precision: 0.0000e+00 - recall: 0.0000e+00\n",
      "Epoch 35/100\n",
      "219/219 [==============================] - 41s 186ms/step - loss: 0.6931 - accuracy: 0.4993 - precision: 0.0000e+00 - recall: 0.0000e+00\n",
      "Epoch 36/100\n",
      "219/219 [==============================] - 41s 186ms/step - loss: 0.6931 - accuracy: 0.4993 - precision: 0.0000e+00 - recall: 0.0000e+00\n",
      "Epoch 37/100\n",
      "219/219 [==============================] - 41s 186ms/step - loss: 0.6931 - accuracy: 0.4993 - precision: 0.0000e+00 - recall: 0.0000e+00\n",
      "Epoch 38/100\n",
      "219/219 [==============================] - 41s 186ms/step - loss: 0.6931 - accuracy: 0.4993 - precision: 0.0000e+00 - recall: 0.0000e+00\n",
      "Epoch 39/100\n",
      "219/219 [==============================] - 41s 186ms/step - loss: 0.6931 - accuracy: 0.4993 - precision: 0.0000e+00 - recall: 0.0000e+00\n",
      "Epoch 40/100\n",
      "219/219 [==============================] - 41s 185ms/step - loss: 0.6931 - accuracy: 0.4993 - precision: 0.0000e+00 - recall: 0.0000e+00\n",
      "Epoch 41/100\n",
      "219/219 [==============================] - 42s 190ms/step - loss: 0.6931 - accuracy: 0.4993 - precision: 0.0000e+00 - recall: 0.0000e+00\n",
      "Epoch 42/100\n",
      "139/219 [==================>...........] - ETA: 16s - loss: 0.6931 - accuracy: 0.5058 - precision: 0.0000e+00 - recall: 0.0000e+00"
     ]
    }
   ],
   "source": [
    "history = model.fit_generator(train_batches, epochs=100)#, callbacks=[ tf.keras.callbacks.EarlyStopping(monitor='loss', patience=50)])"
   ]
  },
  {
   "cell_type": "markdown",
   "metadata": {},
   "source": [
    "### Salvar modelo"
   ]
  },
  {
   "cell_type": "code",
   "execution_count": null,
   "metadata": {},
   "outputs": [],
   "source": [
    "model.save('cnn_vgg16_pretrainned_dense_of_v2')"
   ]
  },
  {
   "cell_type": "markdown",
   "metadata": {},
   "source": [
    "### Avaliação do modelo"
   ]
  },
  {
   "cell_type": "code",
   "execution_count": 13,
   "metadata": {},
   "outputs": [
    {
     "name": "stdout",
     "output_type": "stream",
     "text": [
      "\n",
      "Test accuracy: 0.777\n",
      "\n",
      "Test precision: 0.83388704\n",
      "\n",
      "Test recall: 0.6816022\n"
     ]
    }
   ],
   "source": [
    "#test_batch = test_ds.batch(150)\n",
    "#with tf.device('/cpu:0'):\n",
    "features = np.array([list(x[0].numpy()) for x in list(test_ds)])\n",
    "labels = np.array([x[1].numpy() for x in list(test_ds)])\n",
    "test_loss, test_acc, test_prec, test_rec = model.evaluate(x=features, y=labels, verbose=0)\n",
    "\n",
    "print('\\nTest accuracy:', test_acc)\n",
    "print('\\nTest precision:', test_prec)\n",
    "print('\\nTest recall:', test_rec)"
   ]
  },
  {
   "cell_type": "markdown",
   "metadata": {},
   "source": [
    "Dataset de validação"
   ]
  },
  {
   "cell_type": "code",
   "execution_count": 6,
   "metadata": {},
   "outputs": [],
   "source": [
    "features = np.array([list(x[0].numpy()) for x in list(validation_ds)])\n",
    "labels = np.array([x[1].numpy() for x in list(validation_ds)])"
   ]
  },
  {
   "cell_type": "code",
   "execution_count": 7,
   "metadata": {},
   "outputs": [
    {
     "name": "stdout",
     "output_type": "stream",
     "text": [
      "\n",
      "Validation accuracy: 0.8703\n",
      "\n",
      "Validation precision: 0.12673056\n",
      "\n",
      "Validation recall: 0.19966443\n"
     ]
    }
   ],
   "source": [
    "test_loss, test_acc, test_prec, test_rec = model.evaluate(x=features, y=labels, verbose=0)\n",
    "\n",
    "print('\\nValidation accuracy:', test_acc)\n",
    "print('\\nValidation precision:', test_prec)\n",
    "print('\\nValidation recall:', test_rec)"
   ]
  },
  {
   "cell_type": "code",
   "execution_count": 8,
   "metadata": {},
   "outputs": [
    {
     "name": "stdout",
     "output_type": "stream",
     "text": [
      "\n",
      "Validation accuracy: 0.8637\n",
      "\n",
      "Validation precision: 0.23934427\n",
      "\n",
      "Validation recall: 0.4016506\n"
     ]
    }
   ],
   "source": [
    "print('\\nValidation accuracy:', test_acc)\n",
    "print('\\nValidation precision:', test_prec)\n",
    "print('\\nValidation recall:', test_rec)"
   ]
  },
  {
   "cell_type": "code",
   "execution_count": 8,
   "metadata": {},
   "outputs": [
    {
     "data": {
      "image/png": "[encoded data removed]",
      "text/plain": [
       "<Figure size 576x432 with 2 Axes>"
      ]
     },
     "metadata": {
      "needs_background": "light"
     },
     "output_type": "display_data"
    }
   ],
   "source": [
    "c_labels = [int(x) for x in labels]\n",
    "predictions = model.predict_classes(features, batch_size=None)\n",
    "pred = [x[0] for x in list(predictions)]\n",
    "mat = tf.math.confusion_matrix(c_labels, pred)\n",
    "df = pd.DataFrame(mat.numpy(), columns=['AP','AN'], index=['PP','PN'])\n",
    "fig, ax = plt.subplots(figsize=(8,6))\n",
    "sns.heatmap(df, cmap=\"Blues\", annot=True, fmt=\"d\", xticklabels=['Negative','Positive'], yticklabels=['Negative','Positive'])\n",
    "ax.set_ylim([2,0])\n",
    "plt.ylabel('Actual')\n",
    "plt.xlabel('Predicted')\n",
    "plt.title('VGG16 Raw RGB, Test Dataset Evaluation')\n",
    "plt.show()"
   ]
  },
  {
   "cell_type": "markdown",
   "metadata": {},
   "source": [
    "### Salvar modelo treinado"
   ]
  },
  {
   "cell_type": "code",
   "execution_count": 10,
   "metadata": {},
   "outputs": [
    {
     "name": "stdout",
     "output_type": "stream",
     "text": [
      "WARNING:tensorflow:From c:\\users\\red\\appdata\\local\\programs\\python\\python36\\lib\\site-packages\\tensorflow_core\\python\\ops\\resource_variable_ops.py:1786: calling BaseResourceVariable.__init__ (from tensorflow.python.ops.resource_variable_ops) with constraint is deprecated and will be removed in a future version.\n",
      "Instructions for updating:\n",
      "If using Keras pass *_constraint arguments to layers.\n",
      "INFO:tensorflow:Assets written to: cnn_vgg16_pretrainned_dense_of\\assets\n"
     ]
    }
   ],
   "source": [
    "model.save('cnn_vgg16_pretrainned_dense_of')"
   ]
  }
 ],
 "metadata": {
  "kernelspec": {
   "display_name": "Python 3",
   "language": "python",
   "name": "python3"
  },
  "language_info": {
   "codemirror_mode": {
    "name": "ipython",
    "version": 3
   },
   "file_extension": ".py",
   "mimetype": "text/x-python",
   "name": "python",
   "nbconvert_exporter": "python",
   "pygments_lexer": "ipython3",
   "version": "3.6.8"
  }
 },
 "nbformat": 4,
 "nbformat_minor": 4
}
