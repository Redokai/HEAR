{
 "cells": [
  {
   "cell_type": "markdown",
   "metadata": {},
   "source": [
    "# Modelagem e arquitetura CNN\n",
    "\n",
    "## Modelo de canal único Raw RGB pré treinado RESNET50 + IMAGENET (Top layers off)\n",
    "\n",
    "### Conteúdo\n",
    "\n",
    "- Ingestão\n",
    "- Pré processamento\n",
    "- Modelagem da rede\n",
    "- Treinamento\n",
    "- Teste\n",
    "- Validação\n",
    "- Resultados\n",
    "\n",
    "### Importações e parâmetros"
   ]
  },
  {
   "cell_type": "code",
   "execution_count": 1,
   "metadata": {},
   "outputs": [],
   "source": [
    "import os\n",
    "import matplotlib.pyplot as plt\n",
    "import seaborn as sns\n",
    "from sklearn.metrics import accuracy_score\n",
    "from sklearn.metrics import precision_score\n",
    "from sklearn.metrics import recall_score\n",
    "#os.environ[\"CUDA_VISIBLE_DEVICES\"] = \"-1\"\n",
    "import numpy as np\n",
    "import pandas as pd\n",
    "import cv2 as cv\n",
    "import matplotlib.pyplot as plt\n",
    "import tensorflow as tf\n",
    "#import tensorflow_datasets as tfds\n",
    "#tfds.disable_progress_bar()\n",
    "\n",
    "videos_table_path = 'manual_frame_classification.csv'\n",
    "videos_table_path_validation = 'manual_frame_validation.csv'\n",
    "max_positive_cases = 5000\n",
    "max_validation_cases = 10000\n",
    "preprocess_training_test = False\n",
    "preprocess_validation = True"
   ]
  },
  {
   "cell_type": "markdown",
   "metadata": {},
   "source": [
    "### Ingestão"
   ]
  },
  {
   "cell_type": "code",
   "execution_count": 2,
   "metadata": {},
   "outputs": [],
   "source": [
    "def decode_img(img):\n",
    "    img = tf.image.decode_jpeg(img, channels=3)\n",
    "    img = tf.image.convert_image_dtype(img, tf.float32)\n",
    "    return img\n",
    "\n",
    "def process_path(file_path):\n",
    "    img = tf.io.read_file(file_path, )\n",
    "    img = decode_img(img)\n",
    "    return img\n",
    "\n",
    "def process_label(label):\n",
    "    return label == 'POS'\n",
    "\n",
    "def process_dataframe(dataframe):\n",
    "    xs = []\n",
    "    ys = []\n",
    "    with tf.device('/cpu:0'):\n",
    "        for i,row in dataframe.iterrows():\n",
    "            path = row['path']\n",
    "            label = row['violence']\n",
    "            xs.append(process_path(path))\n",
    "            ys.append(process_label(label))\n",
    "        return tf.data.Dataset.from_tensor_slices((xs,ys))"
   ]
  },
  {
   "cell_type": "code",
   "execution_count": 14,
   "metadata": {},
   "outputs": [
    {
     "name": "stderr",
     "output_type": "stream",
     "text": [
      "c:\\users\\red\\appdata\\local\\programs\\python\\python36\\lib\\site-packages\\IPython\\core\\interactiveshell.py:3051: DtypeWarning: Columns (6,7) have mixed types. Specify dtype option on import or set low_memory=False.\n",
      "  interactivity=interactivity, compiler=compiler, result=result)\n"
     ]
    }
   ],
   "source": [
    "frames_df = pd.read_csv(videos_table_path, sep=';', index_col=0)"
   ]
  },
  {
   "cell_type": "code",
   "execution_count": 19,
   "metadata": {},
   "outputs": [],
   "source": [
    "frames_df = frames_df[frames_df['load'] == 'X']\n",
    "pos_len = len(frames_df[frames_df['violence'] == 'POS'])\n",
    "neg_len = len(frames_df[frames_df['violence'] == 'NEG'])\n",
    "ratio = "
   ]
  },
  {
   "cell_type": "code",
   "execution_count": 46,
   "metadata": {},
   "outputs": [],
   "source": [
    "ratio = pos_len/(pos_len + neg_len)\n",
    "tot = 460920\n",
    "n_pos = int(tot * ratio)\n",
    "n_neg = tot - n_pos"
   ]
  },
  {
   "cell_type": "code",
   "execution_count": 45,
   "metadata": {},
   "outputs": [
    {
     "data": {
      "text/plain": [
       "36.90058777164734"
      ]
     },
     "execution_count": 45,
     "metadata": {},
     "output_type": "execute_result"
    }
   ],
   "source": []
  },
  {
   "cell_type": "code",
   "execution_count": 57,
   "metadata": {},
   "outputs": [
    {
     "data": {
      "image/png": "[encoded data removed]",
      "text/plain": [
       "<Figure size 576x360 with 1 Axes>"
      ]
     },
     "metadata": {},
     "output_type": "display_data"
    }
   ],
   "source": [
    "sns.set(style=\"darkgrid\")\n",
    "sns.set(rc={'figure.figsize':(8,5)})\n",
    "ax = sns.barplot(x=['Positivas','Negativas'], y=[n_pos, n_neg])\n",
    "ax.set_title('Distribuição natural de classes\\n', fontsize=20)\n",
    "ax.set_xlabel('Classes', fontsize=15)\n",
    "ax.set_ylabel('Instâncias', fontsize=15)\n",
    "\n",
    "def change_width(ax, new_value) :\n",
    "    for patch in ax.patches :\n",
    "        current_width = patch.get_width()\n",
    "        diff = current_width - new_value\n",
    "\n",
    "        # we change the bar width\n",
    "        patch.set_width(new_value)\n",
    "\n",
    "        # we recenter the bar\n",
    "        patch.set_x(patch.get_x() + diff * .5)\n",
    "\n",
    "change_width(ax, .5)\n",
    "ax.text(0,45000, n_pos, color='black', ha=\"center\", fontsize=17)\n",
    "ax.text(1,430000, n_neg, color='black', ha=\"center\", fontsize=17)\n",
    "f = ax.get_figure()\n",
    "f.savefig('class_dist.jpg')"
   ]
  },
  {
   "cell_type": "code",
   "execution_count": 38,
   "metadata": {},
   "outputs": [
    {
     "data": {
      "text/plain": [
       "\u001b[1;31mSignature:\u001b[0m \u001b[0max\u001b[0m\u001b[1;33m.\u001b[0m\u001b[0mtext\u001b[0m\u001b[1;33m(\u001b[0m\u001b[0mx\u001b[0m\u001b[1;33m,\u001b[0m \u001b[0my\u001b[0m\u001b[1;33m,\u001b[0m \u001b[0ms\u001b[0m\u001b[1;33m,\u001b[0m \u001b[0mfontdict\u001b[0m\u001b[1;33m=\u001b[0m\u001b[1;32mNone\u001b[0m\u001b[1;33m,\u001b[0m \u001b[0mwithdash\u001b[0m\u001b[1;33m=\u001b[0m\u001b[1;33m<\u001b[0m\u001b[0mdeprecated\u001b[0m \u001b[0mparameter\u001b[0m\u001b[1;33m>\u001b[0m\u001b[1;33m,\u001b[0m \u001b[1;33m**\u001b[0m\u001b[0mkwargs\u001b[0m\u001b[1;33m)\u001b[0m\u001b[1;33m\u001b[0m\u001b[1;33m\u001b[0m\u001b[0m\n",
       "\u001b[1;31mDocstring:\u001b[0m\n",
       "Add text to the axes.\n",
       "\n",
       "Add the text *s* to the axes at location *x*, *y* in data coordinates.\n",
       "\n",
       "Parameters\n",
       "----------\n",
       "x, y : scalars\n",
       "    The position to place the text. By default, this is in data\n",
       "    coordinates. The coordinate system can be changed using the\n",
       "    *transform* parameter.\n",
       "\n",
       "s : str\n",
       "    The text.\n",
       "\n",
       "fontdict : dictionary, optional, default: None\n",
       "    A dictionary to override the default text properties. If fontdict\n",
       "    is None, the defaults are determined by your rc parameters.\n",
       "\n",
       "withdash : boolean, optional, default: False\n",
       "    Creates a `~matplotlib.text.TextWithDash` instance instead of a\n",
       "    `~matplotlib.text.Text` instance.\n",
       "\n",
       "Returns\n",
       "-------\n",
       "text : `.Text`\n",
       "    The created `.Text` instance.\n",
       "\n",
       "Other Parameters\n",
       "----------------\n",
       "**kwargs : `~matplotlib.text.Text` properties.\n",
       "    Other miscellaneous text parameters.\n",
       "\n",
       "Examples\n",
       "--------\n",
       "Individual keyword arguments can be used to override any given\n",
       "parameter::\n",
       "\n",
       "    >>> text(x, y, s, fontsize=12)\n",
       "\n",
       "The default transform specifies that text is in data coords,\n",
       "alternatively, you can specify text in axis coords ((0, 0) is\n",
       "lower-left and (1, 1) is upper-right).  The example below places\n",
       "text in the center of the axes::\n",
       "\n",
       "    >>> text(0.5, 0.5, 'matplotlib', horizontalalignment='center',\n",
       "    ...      verticalalignment='center', transform=ax.transAxes)\n",
       "\n",
       "You can put a rectangular box around the text instance (e.g., to\n",
       "set a background color) by using the keyword *bbox*.  *bbox* is\n",
       "a dictionary of `~matplotlib.patches.Rectangle`\n",
       "properties.  For example::\n",
       "\n",
       "    >>> text(x, y, s, bbox=dict(facecolor='red', alpha=0.5))\n",
       "\u001b[1;31mFile:\u001b[0m      c:\\users\\red\\appdata\\local\\programs\\python\\python36\\lib\\site-packages\\matplotlib\\axes\\_axes.py\n",
       "\u001b[1;31mType:\u001b[0m      method\n"
      ]
     },
     "metadata": {},
     "output_type": "display_data"
    }
   ],
   "source": [
    "ax.text?"
   ]
  },
  {
   "cell_type": "code",
   "execution_count": 3,
   "metadata": {},
   "outputs": [
    {
     "name": "stderr",
     "output_type": "stream",
     "text": [
      "c:\\users\\red\\appdata\\local\\programs\\python\\python36\\lib\\site-packages\\IPython\\core\\interactiveshell.py:3051: DtypeWarning: Columns (6,7) have mixed types. Specify dtype option on import or set low_memory=False.\n",
      "  interactivity=interactivity, compiler=compiler, result=result)\n"
     ]
    },
    {
     "name": "stdout",
     "output_type": "stream",
     "text": [
      "Train dataset cases :7000\n",
      "Test dataset cases :17860\n",
      "Validation dataset cases :38580\n"
     ]
    }
   ],
   "source": [
    "#IMPORT\n",
    "frames_df = pd.read_csv(videos_table_path, sep=';', index_col=0)\n",
    "video_list = frames_df[frames_df['load'] == 'X']['video'].unique()\n",
    "\n",
    "#SEGREGATE\n",
    "msk = np.random.rand(len(video_list)) < 0.9\n",
    "train_test_videos = video_list[msk]\n",
    "validation_videos =  video_list[~msk]\n",
    "train_test_df = frames_df.loc[frames_df['video'].isin(train_test_videos)]\n",
    "validation_df = frames_df.loc[frames_df['video'].isin(validation_videos)]\n",
    "\n",
    "neg_df = train_test_df[train_test_df['violence'] == 'NEG'][['path','violence']]\n",
    "pos_df = train_test_df[train_test_df['violence'] == 'POS'][['path','violence']]\n",
    "neg_len = len(neg_df)\n",
    "pos_len = len(pos_df)\n",
    "\n",
    "#SHUFFLE\n",
    "neg_df = neg_df.sample(frac=1).reset_index(drop=True)\n",
    "pos_df = pos_df.sample(frac=1).reset_index(drop=True)\n",
    "validation_df = validation_df.sample(frac=1).reset_index(drop=True)\n",
    "\n",
    "#RESIZE\n",
    "train_test_size = min([len(pos_df),max_positive_cases])\n",
    "train_size = int(0.7*train_test_size)\n",
    "test_size = train_test_size - train_size\n",
    "\n",
    "pos_train_df = pos_df.head(train_size)\n",
    "pos_test_df = pos_df.tail(test_size)\n",
    "\n",
    "neg_train_df = neg_df.head(train_size)\n",
    "neg_test_df = neg_df.tail(int(test_size*(neg_len/pos_len)))\n",
    "                          \n",
    "#MERGE\n",
    "merged_train_df = pd.concat([pos_train_df, neg_train_df], ignore_index=True)\n",
    "merged_test_df = pd.concat([pos_test_df, neg_test_df], ignore_index=True)\n",
    "train_length = len(merged_train_df)\n",
    "test_length = len(merged_test_df)\n",
    "validation_length = len(validation_df)\n",
    "\n",
    "print('Train dataset cases :' + str(train_length))\n",
    "print('Test dataset cases :' + str(test_length))\n",
    "print('Validation dataset cases :' + str(validation_length))"
   ]
  },
  {
   "cell_type": "markdown",
   "metadata": {},
   "source": [
    "### Pré processamento"
   ]
  },
  {
   "cell_type": "markdown",
   "metadata": {},
   "source": [
    "### Observações\n",
    "\n",
    "Dataset claramente tendencioso (biased), será necessário tratar o desbalanceamento na fase de préprocessamento a fim de manter uma RN bem treinada.\n",
    "\n",
    "#### Tarefas\n",
    "- Separação do dataset em:\n",
    "    - Dataset de treinamento (70%)\n",
    "    - Dataset de teste (30%)\n",
    "\n",
    "    \n",
    "OBS: Todos os datasets devem estar balanceados! Portanto a medida balizadora será o gargalo atual: número de casos positivos. "
   ]
  },
  {
   "cell_type": "code",
   "execution_count": 4,
   "metadata": {},
   "outputs": [],
   "source": [
    "validation_df = pd.read_csv('validation_shuffled_df_mobilenet.csv', sep=';')\n",
    "validation_length = len(validation_df)"
   ]
  },
  {
   "cell_type": "code",
   "execution_count": 5,
   "metadata": {},
   "outputs": [
    {
     "name": "stdout",
     "output_type": "stream",
     "text": [
      "Train DataFrame size: 7000\n",
      "Test DataFrame size: 3000\n",
      "Validation DataFrame size: 10000\n"
     ]
    }
   ],
   "source": [
    "#train_ds = None\n",
    "#test_ds = None\n",
    "#validation_ds = None\n",
    "\n",
    "#RESHUFLE\n",
    "if preprocess_training_test:\n",
    "    shuffled_train_df = merged_train_df.sample(frac=1).reset_index(drop=True)\n",
    "    shuffled_test_df = merged_test_df.sample(frac=2*test_size/test_length).reset_index(drop=True)\n",
    "\n",
    "if preprocess_validation:\n",
    "    validation_shuffled_df = validation_df.sample(frac=min(1,max_validation_cases/validation_length)).reset_index(drop=True)\n",
    "    validation_length = len(validation_shuffled_df)\n",
    "\n",
    "#PROCESS\n",
    "if preprocess_training_test:\n",
    "    train_ds = process_dataframe(shuffled_train_df)\n",
    "    test_ds = process_dataframe(shuffled_train_df)\n",
    "if preprocess_validation:\n",
    "    validation_ds = process_dataframe(validation_shuffled_df)\n",
    "\n",
    "print('Train DataFrame size: ' + str(int(train_length)))\n",
    "print('Test DataFrame size: ' + str(int(test_length*2*test_size/test_length)))\n",
    "print('Validation DataFrame size: ' + str(int(validation_length)))\n",
    "\n",
    "### Clear unused data\n",
    "frames_df = None\n",
    "neg_df = None\n",
    "pos_df = None\n",
    "#merged_df = None\n",
    "shuffled_df = None\n",
    "complete_dataset = None"
   ]
  },
  {
   "cell_type": "code",
   "execution_count": 14,
   "metadata": {},
   "outputs": [],
   "source": [
    "validation_df.to_csv('validation_shuffled_df_mobilenet.csv', sep=';')"
   ]
  },
  {
   "cell_type": "code",
   "execution_count": 6,
   "metadata": {},
   "outputs": [],
   "source": [
    "train_batches = train_ds.shuffle(100).batch(50)"
   ]
  },
  {
   "cell_type": "markdown",
   "metadata": {},
   "source": [
    "### Ponto de execução para treinamento\n",
    "\n",
    "Caso queira seguir com a criação do modelo executar os blocos a seguir"
   ]
  },
  {
   "cell_type": "code",
   "execution_count": 6,
   "metadata": {},
   "outputs": [
    {
     "data": {
      "text/plain": [
       "TensorShape([50, 224, 224, 3])"
      ]
     },
     "execution_count": 6,
     "metadata": {},
     "output_type": "execute_result"
    }
   ],
   "source": [
    "for image_batch, label_batch in train_batches.take(1):\n",
    "   pass\n",
    "\n",
    "image_batch.shape"
   ]
  },
  {
   "cell_type": "markdown",
   "metadata": {},
   "source": [
    "### Modelagem da CNN"
   ]
  },
  {
   "cell_type": "code",
   "execution_count": 7,
   "metadata": {},
   "outputs": [],
   "source": [
    "# Create the base model from the pre-trained model ResNet50\n",
    "IMG_SIZE = 224\n",
    "IMG_SHAPE = (IMG_SIZE, IMG_SIZE, 3)\n",
    "base_model = tf.keras.applications.MobileNet(input_shape=IMG_SHAPE, include_top=False, weights='imagenet')\n",
    "\n",
    "model = tf.keras.models.Sequential()\n",
    "for layer in base_model.layers:\n",
    "    model.add(layer)\n",
    "    \n",
    "for layer in model.layers:\n",
    "    layer.trainable = False\n",
    "\n",
    "\n",
    "prediction_layer = tf.keras.layers.Dense(1, activation='sigmoid')\n",
    "\n",
    "model.add( tf.keras.layers.GlobalAveragePooling2D())\n",
    "#model.add( tf.keras.layers.Reshape(target_shape=(1, 1, 1024)))\n",
    "#model.add( tf.keras.layers.Dropout(0.001))\n",
    "#model.add( tf.keras.layers.Conv2D(1000, (1,1), padding='same'))\n",
    "#model.add( tf.keras.layers.Reshape(target_shape=(1000,)))\n",
    "model.add(prediction_layer)\n",
    "#model.build((None, IMG_SIZE, IMG_SIZE, 3))\n",
    "#model.summary()"
   ]
  },
  {
   "cell_type": "markdown",
   "metadata": {},
   "source": [
    "### Salvar modelo"
   ]
  },
  {
   "cell_type": "code",
   "execution_count": 8,
   "metadata": {},
   "outputs": [],
   "source": [
    "base_learning_rate = 0.0001\n",
    "model.compile(optimizer=tf.keras.optimizers.Adam(lr=base_learning_rate),\n",
    "              loss=tf.keras.losses.BinaryCrossentropy(from_logits=True),\n",
    "              metrics=[tf.keras.metrics.BinaryAccuracy(name='accuracy'), tf.keras.metrics.Precision(name='precision'),tf.keras.metrics.Recall(name='recall')]) #"
   ]
  },
  {
   "cell_type": "code",
   "execution_count": 9,
   "metadata": {},
   "outputs": [
    {
     "name": "stdout",
     "output_type": "stream",
     "text": [
      "WARNING:tensorflow:From c:\\users\\red\\appdata\\local\\programs\\python\\python36\\lib\\site-packages\\tensorflow_core\\python\\ops\\resource_variable_ops.py:1786: calling BaseResourceVariable.__init__ (from tensorflow.python.ops.resource_variable_ops) with constraint is deprecated and will be removed in a future version.\n",
      "Instructions for updating:\n",
      "If using Keras pass *_constraint arguments to layers.\n",
      "INFO:tensorflow:Assets written to: cnn_mobilenet_pretrainned_raw_rgb_v1\\assets\n"
     ]
    }
   ],
   "source": [
    "model.save('cnn_mobilenet_pretrainned_raw_rgb_v1')"
   ]
  },
  {
   "cell_type": "markdown",
   "metadata": {},
   "source": [
    "### Carregar modelo\n",
    "\n",
    "- OBS : Lembrar de ligar GPU"
   ]
  },
  {
   "cell_type": "code",
   "execution_count": 6,
   "metadata": {},
   "outputs": [],
   "source": [
    "model = tf.keras.models.load_model('cnn_mobilenet_pretrainned_raw_rgb_v1')"
   ]
  },
  {
   "cell_type": "code",
   "execution_count": 10,
   "metadata": {},
   "outputs": [
    {
     "name": "stdout",
     "output_type": "stream",
     "text": [
      "WARNING:tensorflow:From <ipython-input-10-3e6ddb0f8653>:1: Model.fit_generator (from tensorflow.python.keras.engine.training) is deprecated and will be removed in a future version.\n",
      "Instructions for updating:\n",
      "Please use Model.fit, which supports generators.\n",
      "Train for 140 steps\n",
      "Epoch 1/100\n",
      "140/140 [==============================] - 16s 115ms/step - loss: 0.6919 - accuracy: 0.5337 - precision: 0.6079 - recall: 0.1900\n",
      "Epoch 2/100\n",
      "140/140 [==============================] - 13s 92ms/step - loss: 0.6654 - accuracy: 0.6104 - precision: 0.8498 - recall: 0.2683\n",
      "Epoch 3/100\n",
      "140/140 [==============================] - 13s 90ms/step - loss: 0.6466 - accuracy: 0.6909 - precision: 0.8512 - recall: 0.4626\n",
      "Epoch 4/100\n",
      "140/140 [==============================] - 13s 90ms/step - loss: 0.6343 - accuracy: 0.7313 - precision: 0.8577 - recall: 0.5546\n",
      "Epoch 5/100\n",
      "140/140 [==============================] - 13s 90ms/step - loss: 0.6252 - accuracy: 0.7586 - precision: 0.8661 - recall: 0.6117\n",
      "Epoch 6/100\n",
      "140/140 [==============================] - 13s 90ms/step - loss: 0.6190 - accuracy: 0.7704 - precision: 0.8702 - recall: 0.6357\n",
      "Epoch 7/100\n",
      "140/140 [==============================] - 13s 91ms/step - loss: 0.6136 - accuracy: 0.7867 - precision: 0.8749 - recall: 0.6691\n",
      "Epoch 8/100\n",
      "140/140 [==============================] - 13s 90ms/step - loss: 0.6087 - accuracy: 0.8001 - precision: 0.8864 - recall: 0.6886\n",
      "Epoch 9/100\n",
      "140/140 [==============================] - 13s 91ms/step - loss: 0.6051 - accuracy: 0.8090 - precision: 0.8909 - recall: 0.7043\n",
      "Epoch 10/100\n",
      "140/140 [==============================] - ETA: 0s - loss: 0.6022 - accuracy: 0.8163 - precision: 0.8908 - recall: 0.720 - 13s 90ms/step - loss: 0.6021 - accuracy: 0.8167 - precision: 0.8913 - recall: 0.7214\n",
      "Epoch 11/100\n",
      "140/140 [==============================] - 13s 90ms/step - loss: 0.6007 - accuracy: 0.8180 - precision: 0.8944 - recall: 0.7211\n",
      "Epoch 12/100\n",
      "140/140 [==============================] - 13s 90ms/step - loss: 0.5972 - accuracy: 0.8226 - precision: 0.8928 - recall: 0.7331\n",
      "Epoch 13/100\n",
      "140/140 [==============================] - 13s 90ms/step - loss: 0.5949 - accuracy: 0.8297 - precision: 0.8974 - recall: 0.7446\n",
      "Epoch 14/100\n",
      "140/140 [==============================] - 13s 90ms/step - loss: 0.5933 - accuracy: 0.8314 - precision: 0.8956 - recall: 0.7503\n",
      "Epoch 15/100\n",
      "140/140 [==============================] - 13s 90ms/step - loss: 0.5916 - accuracy: 0.8350 - precision: 0.8962 - recall: 0.7577\n",
      "Epoch 16/100\n",
      "140/140 [==============================] - 13s 90ms/step - loss: 0.5905 - accuracy: 0.8347 - precision: 0.8927 - recall: 0.7609\n",
      "Epoch 17/100\n",
      "140/140 [==============================] - 13s 90ms/step - loss: 0.5880 - accuracy: 0.8444 - precision: 0.8998 - recall: 0.7751\n",
      "Epoch 18/100\n",
      "140/140 [==============================] - 13s 92ms/step - loss: 0.5874 - accuracy: 0.8424 - precision: 0.8952 - recall: 0.7757\n",
      "Epoch 19/100\n",
      "140/140 [==============================] - 13s 91ms/step - loss: 0.5860 - accuracy: 0.8486 - precision: 0.9005 - recall: 0.7837\n",
      "Epoch 20/100\n",
      "140/140 [==============================] - 13s 94ms/step - loss: 0.5841 - accuracy: 0.8504 - precision: 0.9002 - recall: 0.7883\n",
      "Epoch 21/100\n",
      "140/140 [==============================] - 13s 91ms/step - loss: 0.5835 - accuracy: 0.8527 - precision: 0.9022 - recall: 0.7911\n",
      "Epoch 22/100\n",
      "140/140 [==============================] - 13s 91ms/step - loss: 0.5826 - accuracy: 0.8537 - precision: 0.8996 - recall: 0.7963\n",
      "Epoch 23/100\n",
      "140/140 [==============================] - 13s 91ms/step - loss: 0.5808 - accuracy: 0.8589 - precision: 0.9054 - recall: 0.8014\n",
      "Epoch 24/100\n",
      "140/140 [==============================] - 13s 91ms/step - loss: 0.5804 - accuracy: 0.8596 - precision: 0.9027 - recall: 0.8060\n",
      "Epoch 25/100\n",
      "140/140 [==============================] - 13s 91ms/step - loss: 0.5796 - accuracy: 0.8581 - precision: 0.9001 - recall: 0.8057\n",
      "Epoch 26/100\n",
      "140/140 [==============================] - 13s 92ms/step - loss: 0.5793 - accuracy: 0.8607 - precision: 0.9061 - recall: 0.8049\n",
      "Epoch 27/100\n",
      "140/140 [==============================] - 13s 91ms/step - loss: 0.5775 - accuracy: 0.8634 - precision: 0.9061 - recall: 0.8109\n",
      "Epoch 28/100\n",
      "140/140 [==============================] - 13s 91ms/step - loss: 0.5767 - accuracy: 0.8684 - precision: 0.9085 - recall: 0.8194\n",
      "Epoch 29/100\n",
      "140/140 [==============================] - 13s 91ms/step - loss: 0.5758 - accuracy: 0.8691 - precision: 0.9096 - recall: 0.8197\n",
      "Epoch 30/100\n",
      "140/140 [==============================] - 13s 91ms/step - loss: 0.5756 - accuracy: 0.8656 - precision: 0.9035 - recall: 0.8186\n",
      "Epoch 31/100\n",
      "140/140 [==============================] - 13s 91ms/step - loss: 0.5751 - accuracy: 0.8689 - precision: 0.9083 - recall: 0.8206\n",
      "Epoch 32/100\n",
      "140/140 [==============================] - 13s 91ms/step - loss: 0.5737 - accuracy: 0.8709 - precision: 0.9095 - recall: 0.8237\n",
      "Epoch 33/100\n",
      "140/140 [==============================] - 13s 91ms/step - loss: 0.5733 - accuracy: 0.8754 - precision: 0.9114 - recall: 0.8317\n",
      "Epoch 34/100\n",
      "140/140 [==============================] - 13s 91ms/step - loss: 0.5733 - accuracy: 0.8719 - precision: 0.9091 - recall: 0.8263\n",
      "Epoch 35/100\n",
      "140/140 [==============================] - 13s 91ms/step - loss: 0.5722 - accuracy: 0.8763 - precision: 0.9131 - recall: 0.8317\n",
      "Epoch 36/100\n",
      "140/140 [==============================] - 13s 91ms/step - loss: 0.5714 - accuracy: 0.8773 - precision: 0.9102 - recall: 0.8371\n",
      "Epoch 37/100\n",
      "140/140 [==============================] - 13s 91ms/step - loss: 0.5709 - accuracy: 0.8773 - precision: 0.9128 - recall: 0.8343\n",
      "Epoch 38/100\n",
      "140/140 [==============================] - 13s 91ms/step - loss: 0.5696 - accuracy: 0.8824 - precision: 0.9135 - recall: 0.8449\n",
      "Epoch 39/100\n",
      "140/140 [==============================] - 13s 91ms/step - loss: 0.5699 - accuracy: 0.8766 - precision: 0.9108 - recall: 0.8349\n",
      "Epoch 40/100\n",
      "140/140 [==============================] - 13s 91ms/step - loss: 0.5705 - accuracy: 0.8799 - precision: 0.9125 - recall: 0.8403\n",
      "Epoch 41/100\n",
      "140/140 [==============================] - 13s 91ms/step - loss: 0.5686 - accuracy: 0.8840 - precision: 0.9166 - recall: 0.8449\n",
      "Epoch 42/100\n",
      "140/140 [==============================] - 13s 91ms/step - loss: 0.5688 - accuracy: 0.8819 - precision: 0.9126 - recall: 0.8446\n",
      "Epoch 43/100\n",
      "140/140 [==============================] - 13s 91ms/step - loss: 0.5685 - accuracy: 0.8810 - precision: 0.9135 - recall: 0.8417\n",
      "Epoch 44/100\n",
      "140/140 [==============================] - 13s 91ms/step - loss: 0.5681 - accuracy: 0.8821 - precision: 0.9140 - recall: 0.8437\n",
      "Epoch 45/100\n",
      "140/140 [==============================] - 13s 91ms/step - loss: 0.5673 - accuracy: 0.8871 - precision: 0.9195 - recall: 0.8486\n",
      "Epoch 46/100\n",
      "140/140 [==============================] - 13s 91ms/step - loss: 0.5666 - accuracy: 0.8866 - precision: 0.9181 - recall: 0.8489\n",
      "Epoch 47/100\n",
      "140/140 [==============================] - 13s 91ms/step - loss: 0.5665 - accuracy: 0.8850 - precision: 0.9147 - recall: 0.8491\n",
      "Epoch 48/100\n",
      "140/140 [==============================] - 13s 91ms/step - loss: 0.5662 - accuracy: 0.8889 - precision: 0.9175 - recall: 0.8546\n",
      "Epoch 49/100\n",
      "140/140 [==============================] - 13s 91ms/step - loss: 0.5660 - accuracy: 0.8879 - precision: 0.9176 - recall: 0.8523\n",
      "Epoch 50/100\n",
      "140/140 [==============================] - 13s 92ms/step - loss: 0.5660 - accuracy: 0.8866 - precision: 0.9168 - recall: 0.8503\n",
      "Epoch 51/100\n",
      "140/140 [==============================] - 13s 91ms/step - loss: 0.5649 - accuracy: 0.8890 - precision: 0.9167 - recall: 0.8557\n",
      "Epoch 52/100\n",
      "140/140 [==============================] - 13s 91ms/step - loss: 0.5642 - accuracy: 0.8920 - precision: 0.9211 - recall: 0.8574\n",
      "Epoch 53/100\n",
      "140/140 [==============================] - 13s 91ms/step - loss: 0.5644 - accuracy: 0.8900 - precision: 0.9185 - recall: 0.8560\n",
      "Epoch 54/100\n",
      "140/140 [==============================] - 13s 91ms/step - loss: 0.5644 - accuracy: 0.8927 - precision: 0.9205 - recall: 0.8597\n",
      "Epoch 55/100\n",
      "140/140 [==============================] - 13s 91ms/step - loss: 0.5640 - accuracy: 0.8887 - precision: 0.9177 - recall: 0.8540\n",
      "Epoch 56/100\n",
      "140/140 [==============================] - 13s 91ms/step - loss: 0.5649 - accuracy: 0.8889 - precision: 0.9172 - recall: 0.8549\n",
      "Epoch 57/100\n",
      "140/140 [==============================] - 13s 91ms/step - loss: 0.5642 - accuracy: 0.8917 - precision: 0.9195 - recall: 0.8586\n",
      "Epoch 58/100\n",
      "140/140 [==============================] - 13s 91ms/step - loss: 0.5634 - accuracy: 0.8933 - precision: 0.9188 - recall: 0.8629\n",
      "Epoch 59/100\n",
      "140/140 [==============================] - 13s 91ms/step - loss: 0.5629 - accuracy: 0.8939 - precision: 0.9201 - recall: 0.8626\n",
      "Epoch 60/100\n",
      "140/140 [==============================] - 13s 91ms/step - loss: 0.5627 - accuracy: 0.8973 - precision: 0.9235 - recall: 0.8663\n",
      "Epoch 61/100\n",
      "140/140 [==============================] - 13s 92ms/step - loss: 0.5620 - accuracy: 0.8951 - precision: 0.9211 - recall: 0.8643\n",
      "Epoch 62/100\n",
      "140/140 [==============================] - 13s 91ms/step - loss: 0.5622 - accuracy: 0.8949 - precision: 0.9196 - recall: 0.8654\n",
      "Epoch 63/100\n",
      "140/140 [==============================] - 13s 91ms/step - loss: 0.5629 - accuracy: 0.8930 - precision: 0.9197 - recall: 0.8611\n",
      "Epoch 64/100\n",
      "140/140 [==============================] - 13s 91ms/step - loss: 0.5613 - accuracy: 0.8981 - precision: 0.9186 - recall: 0.8737\n",
      "Epoch 65/100\n",
      "140/140 [==============================] - 13s 91ms/step - loss: 0.5615 - accuracy: 0.8947 - precision: 0.9216 - recall: 0.8629\n",
      "Epoch 66/100\n",
      "140/140 [==============================] - 13s 91ms/step - loss: 0.5616 - accuracy: 0.8926 - precision: 0.9184 - recall: 0.8617\n",
      "Epoch 67/100\n",
      "140/140 [==============================] - 13s 91ms/step - loss: 0.5608 - accuracy: 0.8996 - precision: 0.9252 - recall: 0.8694\n",
      "Epoch 68/100\n",
      "140/140 [==============================] - 13s 92ms/step - loss: 0.5614 - accuracy: 0.8946 - precision: 0.9203 - recall: 0.8640\n",
      "Epoch 69/100\n",
      "140/140 [==============================] - 13s 92ms/step - loss: 0.5608 - accuracy: 0.8974 - precision: 0.9231 - recall: 0.8671\n",
      "Epoch 70/100\n",
      "140/140 [==============================] - 13s 90ms/step - loss: 0.5594 - accuracy: 0.9010 - precision: 0.9247 - recall: 0.8731 0s - loss: 0.5595 - accuracy: 0.9007 - precision: 0.9244 - recall: 0.872\n",
      "Epoch 71/100\n",
      "140/140 [==============================] - 13s 91ms/step - loss: 0.5601 - accuracy: 0.8983 - precision: 0.9219 - recall: 0.8703\n",
      "Epoch 72/100\n",
      "140/140 [==============================] - 13s 90ms/step - loss: 0.5596 - accuracy: 0.8977 - precision: 0.9231 - recall: 0.8677\n",
      "Epoch 73/100\n",
      "140/140 [==============================] - 13s 91ms/step - loss: 0.5597 - accuracy: 0.9023 - precision: 0.9246 - recall: 0.8760\n",
      "Epoch 74/100\n",
      "140/140 [==============================] - 13s 91ms/step - loss: 0.5589 - accuracy: 0.9006 - precision: 0.9223 - recall: 0.8749\n",
      "Epoch 75/100\n",
      "140/140 [==============================] - 13s 90ms/step - loss: 0.5591 - accuracy: 0.9023 - precision: 0.9256 - recall: 0.8749\n",
      "Epoch 76/100\n",
      "140/140 [==============================] - 13s 90ms/step - loss: 0.5587 - accuracy: 0.8999 - precision: 0.9219 - recall: 0.8737\n",
      "Epoch 77/100\n",
      "140/140 [==============================] - 13s 90ms/step - loss: 0.5596 - accuracy: 0.8989 - precision: 0.9228 - recall: 0.8706\n",
      "Epoch 78/100\n",
      "140/140 [==============================] - 13s 90ms/step - loss: 0.5583 - accuracy: 0.9006 - precision: 0.9236 - recall: 0.8734\n",
      "Epoch 79/100\n",
      "140/140 [==============================] - 13s 90ms/step - loss: 0.5591 - accuracy: 0.9014 - precision: 0.9276 - recall: 0.8709\n",
      "Epoch 80/100\n",
      "140/140 [==============================] - 13s 90ms/step - loss: 0.5580 - accuracy: 0.9036 - precision: 0.9251 - recall: 0.8783\n",
      "Epoch 81/100\n",
      "140/140 [==============================] - 13s 90ms/step - loss: 0.5580 - accuracy: 0.9019 - precision: 0.9253 - recall: 0.8743\n",
      "Epoch 82/100\n",
      "140/140 [==============================] - 13s 90ms/step - loss: 0.5578 - accuracy: 0.9020 - precision: 0.9269 - recall: 0.8729\n",
      "Epoch 83/100\n",
      "140/140 [==============================] - 13s 90ms/step - loss: 0.5586 - accuracy: 0.9000 - precision: 0.9240 - recall: 0.8717\n",
      "Epoch 84/100\n",
      "140/140 [==============================] - 13s 90ms/step - loss: 0.5571 - accuracy: 0.9061 - precision: 0.9301 - recall: 0.8783\n",
      "Epoch 85/100\n",
      "140/140 [==============================] - 13s 90ms/step - loss: 0.5579 - accuracy: 0.9009 - precision: 0.9241 - recall: 0.8734\n",
      "Epoch 86/100\n",
      "140/140 [==============================] - 13s 90ms/step - loss: 0.5570 - accuracy: 0.9034 - precision: 0.9240 - recall: 0.8791\n",
      "Epoch 87/100\n",
      "140/140 [==============================] - 13s 90ms/step - loss: 0.5576 - accuracy: 0.9024 - precision: 0.9226 - recall: 0.8786\n",
      "Epoch 88/100\n",
      "140/140 [==============================] - 13s 90ms/step - loss: 0.5561 - accuracy: 0.9050 - precision: 0.9315 - recall: 0.8743\n",
      "Epoch 89/100\n",
      "140/140 [==============================] - 13s 90ms/step - loss: 0.5568 - accuracy: 0.9051 - precision: 0.9258 - recall: 0.8809\n",
      "Epoch 90/100\n",
      "140/140 [==============================] - 13s 90ms/step - loss: 0.5572 - accuracy: 0.9044 - precision: 0.9273 - recall: 0.8777\n",
      "Epoch 91/100\n",
      "140/140 [==============================] - 13s 91ms/step - loss: 0.5570 - accuracy: 0.9034 - precision: 0.9253 - recall: 0.8777\n",
      "Epoch 92/100\n",
      "140/140 [==============================] - 13s 90ms/step - loss: 0.5561 - accuracy: 0.9056 - precision: 0.9282 - recall: 0.8791\n",
      "Epoch 93/100\n",
      "140/140 [==============================] - 13s 91ms/step - loss: 0.5570 - accuracy: 0.9020 - precision: 0.9241 - recall: 0.8760\n",
      "Epoch 94/100\n",
      "140/140 [==============================] - 13s 90ms/step - loss: 0.5560 - accuracy: 0.9041 - precision: 0.9262 - recall: 0.8783\n",
      "Epoch 95/100\n",
      "140/140 [==============================] - 13s 90ms/step - loss: 0.5557 - accuracy: 0.9050 - precision: 0.9281 - recall: 0.8780\n",
      "Epoch 96/100\n",
      "140/140 [==============================] - 13s 90ms/step - loss: 0.5552 - accuracy: 0.9100 - precision: 0.9312 - recall: 0.8854\n",
      "Epoch 97/100\n",
      "140/140 [==============================] - 13s 90ms/step - loss: 0.5545 - accuracy: 0.9101 - precision: 0.9304 - recall: 0.8866\n",
      "Epoch 98/100\n",
      "140/140 [==============================] - 13s 91ms/step - loss: 0.5547 - accuracy: 0.9094 - precision: 0.9327 - recall: 0.8826\n",
      "Epoch 99/100\n",
      "140/140 [==============================] - 13s 91ms/step - loss: 0.5548 - accuracy: 0.9081 - precision: 0.9301 - recall: 0.8826\n",
      "Epoch 100/100\n",
      "140/140 [==============================] - 13s 90ms/step - loss: 0.5549 - accuracy: 0.9103 - precision: 0.9315 - recall: 0.8857\n"
     ]
    }
   ],
   "source": [
    "history = model.fit_generator(train_batches, epochs=100)#, callbacks=[ tf.keras.callbacks.EarlyStopping(monitor='loss', patience=50)])"
   ]
  },
  {
   "cell_type": "code",
   "execution_count": 4,
   "metadata": {},
   "outputs": [
    {
     "data": {
      "text/plain": [
       "8768.4"
      ]
     },
     "execution_count": 4,
     "metadata": {},
     "output_type": "execute_result"
    }
   ],
   "source": [
    "import numpy as np\n",
    "np.mean([8814,\n",
    "8703,\n",
    "8791,\n",
    "8677,\n",
    "8857])"
   ]
  },
  {
   "cell_type": "markdown",
   "metadata": {},
   "source": [
    "## Lr = 0.0001\n",
    "loss: 0.5588 - accuracy: 0.8999 - precision: 0.9152 - recall: 0.8814 (09/07/20) - 1\n",
    "loss: 0.5582 - accuracy: 0.9013 - precision: 0.9278 - recall: 0.8703 (09/07/20) - 2\n",
    "loss: 0.5590 - accuracy: 0.9006 - precision: 0.9185 - recall: 0.8791 (09/07/20) - 3\n",
    "loss: 0.5597 - accuracy: 0.8974 - precision: 0.9225 - recall: 0.8677 (09/07/20) - 4\n",
    "loss: 0.5549 - accuracy: 0.9103 - precision: 0.9315 - recall: 0.8857 (09/07/20) - 5\n",
    "\n",
    "\n",
    "13s/época"
   ]
  },
  {
   "cell_type": "markdown",
   "metadata": {},
   "source": [
    "### Salvar modelo"
   ]
  },
  {
   "cell_type": "code",
   "execution_count": 11,
   "metadata": {},
   "outputs": [
    {
     "name": "stdout",
     "output_type": "stream",
     "text": [
      "INFO:tensorflow:Assets written to: cnn_mobilenet_pretrainned_raw_rgb_v1\\assets\n"
     ]
    }
   ],
   "source": [
    "model.save('cnn_mobilenet_pretrainned_raw_rgb_v1')"
   ]
  },
  {
   "cell_type": "code",
   "execution_count": 12,
   "metadata": {},
   "outputs": [],
   "source": [
    "import pickle\n",
    "with open('trainHistoryDictMobileNet-5.pkl', 'wb') as file_pi:\n",
    "    pickle.dump(history.history, file_pi)"
   ]
  },
  {
   "cell_type": "markdown",
   "metadata": {},
   "source": [
    "### Fine tunning"
   ]
  },
  {
   "cell_type": "markdown",
   "metadata": {},
   "source": [
    "# Avaliação do modelo\n",
    "## Dataset de teste"
   ]
  },
  {
   "cell_type": "code",
   "execution_count": 13,
   "metadata": {},
   "outputs": [
    {
     "name": "stdout",
     "output_type": "stream",
     "text": [
      "\n",
      "Test accuracy: 0.8207143\n",
      "\n",
      "Test precision: 0.8528764\n",
      "\n",
      "Test recall: 0.77514285\n"
     ]
    }
   ],
   "source": [
    "#test_batch = test_ds.batch(150)\n",
    "#with tf.device('/cpu:0'):\n",
    "features = np.array([list(x[0].numpy()) for x in list(test_ds)])\n",
    "labels = np.array([x[1].numpy() for x in list(test_ds)])\n",
    "test_loss, test_acc, test_prec, test_rec = model.evaluate(x=features, y=labels, verbose=0)\n",
    "\n",
    "print('\\nTest accuracy:', test_acc)\n",
    "print('\\nTest precision:', test_prec)\n",
    "print('\\nTest recall:', test_rec)"
   ]
  },
  {
   "cell_type": "code",
   "execution_count": 6,
   "metadata": {},
   "outputs": [
    {
     "name": "stdout",
     "output_type": "stream",
     "text": [
      "\n",
      "Test accuracy: 0.79957145\n",
      "\n",
      "Test precision: 0.84546953\n",
      "\n",
      "Test recall: 0.73314285\n",
      "13.201464414596558segs\n"
     ]
    }
   ],
   "source": [
    "#test_batch = test_ds.batch(150)\n",
    "#with tf.device('/cpu:0'):\n",
    "features = np.array([list(x[0].numpy()) for x in list(test_ds)])\n",
    "labels = np.array([x[1].numpy() for x in list(test_ds)])\n",
    "import time\n",
    "start = time.time()\n",
    "test_loss, test_acc, test_prec, test_rec = model.evaluate(x=features, y=labels, verbose=0)\n",
    "end = time.time()\n",
    "interval = (end - start)\n",
    "\n",
    "\n",
    "print('\\nTest accuracy:', test_acc)\n",
    "print('\\nTest precision:', test_prec)\n",
    "print('\\nTest recall:', test_rec)\n",
    "print(str(interval) + 'segs')"
   ]
  },
  {
   "cell_type": "markdown",
   "metadata": {},
   "source": [
    "## Teste\n",
    "\n",
    "Lr 0.0001\n",
    "\n",
    "Test accuracy: 0.8435714 Test precision: 0.81905013 Test recall: 0.882      (09/07/20) - 1\n",
    "Test accuracy: 0.8352857 Test precision: 0.80268246 Test recall: 0.8891429  (09/07/20) - 2\n",
    "Test accuracy: 0.8318571 Test precision: 0.80036205 Test recall: 0.8842857  (09/07/20) -3\n",
    "Test accuracy: 0.8322857 Test precision: 0.8146645 Test recall:  0.8602857  (09/07/20) -4\n",
    "Test accuracy: 0.8207143 Test precision: 0.8528764 Test recall:  0.77514285 (09/07/20) -5\n",
    "\n",
    "13.2 seg / 7000 instâncias"
   ]
  },
  {
   "cell_type": "markdown",
   "metadata": {},
   "source": [
    "## Dataset de validação"
   ]
  },
  {
   "cell_type": "code",
   "execution_count": 11,
   "metadata": {},
   "outputs": [
    {
     "data": {
      "text/plain": [
       "51130.666666666664"
      ]
     },
     "execution_count": 11,
     "metadata": {},
     "output_type": "execute_result"
    }
   ],
   "source": [
    "import numpy as np\n",
    "np.mean([\n",
    "    52071,\n",
    "49641,\n",
    "79105,\n",
    "6875 ,\n",
    "66315,\n",
    "52777\n",
    "])"
   ]
  },
  {
   "cell_type": "code",
   "execution_count": 8,
   "metadata": {},
   "outputs": [],
   "source": [
    "features = np.array([list(x[0].numpy()) for x in list(validation_ds)])\n",
    "labels = np.array([x[1].numpy() for x in list(validation_ds)])"
   ]
  },
  {
   "cell_type": "code",
   "execution_count": 9,
   "metadata": {},
   "outputs": [
    {
     "name": "stdout",
     "output_type": "stream",
     "text": [
      "\n",
      "Validation accuracy: 0.8824\n",
      "\n",
      "Validation precision: 0.20628184\n",
      "\n",
      "Validation recall: 0.50206614\n",
      "17.386228561401367segs\n"
     ]
    }
   ],
   "source": [
    "import time\n",
    "start = time.time()\n",
    "test_loss, test_acc, test_prec, test_rec = model.evaluate(x=features, y=labels, verbose=0)\n",
    "end = time.time()\n",
    "interval = (end - start)\n",
    "print('\\nValidation accuracy:', test_acc)\n",
    "print('\\nValidation precision:', test_prec)\n",
    "print('\\nValidation recall:', test_rec)\n",
    "print(str(interval) + 'segs')"
   ]
  },
  {
   "cell_type": "markdown",
   "metadata": {},
   "source": [
    "## Validação\n",
    "\n",
    "Lr 0.0001\n",
    "\n",
    "Validation accuracy: 0.8045    Validation precision:    0.30738524 Validation recall: 0.52071005 (09/07/20) - 1\n",
    "Validation accuracy: 0.7232    Validation precision:    0.1252262  Validation recall: 0.4964132  (09/07/20) - 1\n",
    "Validation accuracy: 0.8128    Validation precision:    0.32942128 Validation recall: 0.79105926 (09/07/20) - 2\n",
    "Validation accuracy: 0.9273    Validation precision:    0.11354839 Validation recall: 0.6875     (09/07/20) - 3 \n",
    "Validation accuracy: 0.4721212 Validation precision:    0.10299727 Validation recall: 0.6631579  (09/07/20) -4\n",
    "Validation accuracy: 0.8818    Validation precision:    0.23514852 Validation recall: 0.5277778  (09/07/20) - 5\n",
    "\n",
    "17.38 seg / 10000 instâncias"
   ]
  },
  {
   "cell_type": "markdown",
   "metadata": {},
   "source": [
    "100 Épocas de treinamento (7000 instâncias de treinamento)\n",
    "\n",
    "Test accuracy: 0.833\n",
    "\n",
    "Test precision: 0.86501724\n",
    "\n",
    "Test recall: 0.78914285\n",
    "\n",
    "\n",
    "Dataset de validação (10000 instâncias de frames de vídeos aleatórios não utilizados no treinamento)\n",
    "\n",
    "Validation accuracy: 0.8045\n",
    "\n",
    "Validation precision: 0.30738524\n",
    "\n",
    "Validation recall: 0.52071005"
   ]
  },
  {
   "cell_type": "code",
   "execution_count": 9,
   "metadata": {},
   "outputs": [
    {
     "data": {
      "image/png": "[encoded data removed]",
      "text/plain": [
       "<Figure size 576x432 with 2 Axes>"
      ]
     },
     "metadata": {
      "needs_background": "light"
     },
     "output_type": "display_data"
    }
   ],
   "source": [
    "c_labels = [int(x) for x in labels]\n",
    "predictions = model.predict_classes(features, batch_size=None)\n",
    "pred = [x[0] for x in list(predictions)]\n",
    "mat = tf.math.confusion_matrix(c_labels, pred)\n",
    "df = pd.DataFrame(mat.numpy(), columns=['AP','AN'], index=['PP','PN'])\n",
    "fig, ax = plt.subplots(figsize=(8,6))\n",
    "sns.heatmap(df, cmap=\"Blues\", annot=True, fmt=\"d\", xticklabels=['Negative','Positive'], yticklabels=['Negative','Positive'])\n",
    "ax.set_ylim([2,0])\n",
    "plt.ylabel('Actual')\n",
    "plt.xlabel('Predicted')\n",
    "plt.title('VGG16 Raw RGB, Test Dataset Evaluation')\n",
    "plt.show()"
   ]
  },
  {
   "cell_type": "code",
   "execution_count": 18,
   "metadata": {},
   "outputs": [
    {
     "data": {
      "text/plain": [
       "<tf.Tensor: shape=(2, 2), dtype=int32, numpy=\n",
       "array([[2841,   99],\n",
       "       [  75, 2854]])>"
      ]
     },
     "execution_count": 18,
     "metadata": {},
     "output_type": "execute_result"
    }
   ],
   "source": [
    "mat"
   ]
  },
  {
   "cell_type": "code",
   "execution_count": 15,
   "metadata": {},
   "outputs": [
    {
     "data": {
      "text/plain": [
       "9828"
      ]
     },
     "execution_count": 15,
     "metadata": {},
     "output_type": "execute_result"
    }
   ],
   "source": [
    "pred.count(0)"
   ]
  },
  {
   "cell_type": "code",
   "execution_count": 11,
   "metadata": {},
   "outputs": [
    {
     "data": {
      "text/plain": [
       "\u001b[1;31mSignature:\u001b[0m\n",
       "\u001b[0mtf\u001b[0m\u001b[1;33m.\u001b[0m\u001b[0mmath\u001b[0m\u001b[1;33m.\u001b[0m\u001b[0mconfusion_matrix\u001b[0m\u001b[1;33m(\u001b[0m\u001b[1;33m\n",
       "\u001b[0m    \u001b[0mlabels\u001b[0m\u001b[1;33m,\u001b[0m\u001b[1;33m\n",
       "\u001b[0m    \u001b[0mpredictions\u001b[0m\u001b[1;33m,\u001b[0m\u001b[1;33m\n",
       "\u001b[0m    \u001b[0mnum_classes\u001b[0m\u001b[1;33m=\u001b[0m\u001b[1;32mNone\u001b[0m\u001b[1;33m,\u001b[0m\u001b[1;33m\n",
       "\u001b[0m    \u001b[0mweights\u001b[0m\u001b[1;33m=\u001b[0m\u001b[1;32mNone\u001b[0m\u001b[1;33m,\u001b[0m\u001b[1;33m\n",
       "\u001b[0m    \u001b[0mdtype\u001b[0m\u001b[1;33m=\u001b[0m\u001b[0mtf\u001b[0m\u001b[1;33m.\u001b[0m\u001b[0mint32\u001b[0m\u001b[1;33m,\u001b[0m\u001b[1;33m\n",
       "\u001b[0m    \u001b[0mname\u001b[0m\u001b[1;33m=\u001b[0m\u001b[1;32mNone\u001b[0m\u001b[1;33m,\u001b[0m\u001b[1;33m\n",
       "\u001b[0m\u001b[1;33m)\u001b[0m\u001b[1;33m\u001b[0m\u001b[1;33m\u001b[0m\u001b[0m\n",
       "\u001b[1;31mDocstring:\u001b[0m\n",
       "Computes the confusion matrix from predictions and labels.\n",
       "\n",
       "The matrix columns represent the prediction labels and the rows represent the\n",
       "real labels. The confusion matrix is always a 2-D array of shape `[n, n]`,\n",
       "where `n` is the number of valid labels for a given classification task. Both\n",
       "prediction and labels must be 1-D arrays of the same shape in order for this\n",
       "function to work.\n",
       "\n",
       "If `num_classes` is `None`, then `num_classes` will be set to one plus the\n",
       "maximum value in either predictions or labels. Class labels are expected to\n",
       "start at 0. For example, if `num_classes` is 3, then the possible labels\n",
       "would be `[0, 1, 2]`.\n",
       "\n",
       "If `weights` is not `None`, then each prediction contributes its\n",
       "corresponding weight to the total value of the confusion matrix cell.\n",
       "\n",
       "For example:\n",
       "\n",
       "```python\n",
       "  tf.math.confusion_matrix([1, 2, 4], [2, 2, 4]) ==>\n",
       "      [[0 0 0 0 0]\n",
       "       [0 0 1 0 0]\n",
       "       [0 0 1 0 0]\n",
       "       [0 0 0 0 0]\n",
       "       [0 0 0 0 1]]\n",
       "```\n",
       "\n",
       "Note that the possible labels are assumed to be `[0, 1, 2, 3, 4]`,\n",
       "resulting in a 5x5 confusion matrix.\n",
       "\n",
       "Args:\n",
       "  labels: 1-D `Tensor` of real labels for the classification task.\n",
       "  predictions: 1-D `Tensor` of predictions for a given classification.\n",
       "  num_classes: The possible number of labels the classification task can\n",
       "               have. If this value is not provided, it will be calculated\n",
       "               using both predictions and labels array.\n",
       "  weights: An optional `Tensor` whose shape matches `predictions`.\n",
       "  dtype: Data type of the confusion matrix.\n",
       "  name: Scope name.\n",
       "\n",
       "Returns:\n",
       "  A `Tensor` of type `dtype` with shape `[n, n]` representing the confusion\n",
       "  matrix, where `n` is the number of possible labels in the classification\n",
       "  task.\n",
       "\n",
       "Raises:\n",
       "  ValueError: If both predictions and labels are not 1-D vectors and have\n",
       "    mismatched shapes, or if `weights` is not `None` and its shape doesn't\n",
       "    match `predictions`.\n",
       "\u001b[1;31mFile:\u001b[0m      c:\\users\\red\\appdata\\local\\programs\\python\\python36\\lib\\site-packages\\tensorflow_core\\python\\ops\\confusion_matrix.py\n",
       "\u001b[1;31mType:\u001b[0m      function\n"
      ]
     },
     "metadata": {},
     "output_type": "display_data"
    }
   ],
   "source": [
    "tf.math.confusion_matrix?"
   ]
  },
  {
   "cell_type": "code",
   "execution_count": null,
   "metadata": {},
   "outputs": [],
   "source": []
  }
 ],
 "metadata": {
  "kernelspec": {
   "display_name": "Python 3",
   "language": "python",
   "name": "python3"
  },
  "language_info": {
   "codemirror_mode": {
    "name": "ipython",
    "version": 3
   },
   "file_extension": ".py",
   "mimetype": "text/x-python",
   "name": "python",
   "nbconvert_exporter": "python",
   "pygments_lexer": "ipython3",
   "version": "3.6.8"
  }
 },
 "nbformat": 4,
 "nbformat_minor": 4
}
